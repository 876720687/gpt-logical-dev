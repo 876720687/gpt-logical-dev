{
 "cells": [
  {
   "cell_type": "markdown",
   "metadata": {
    "id": "D89B0EAB542642F98900CCC4D4E49360",
    "jupyter": {},
    "notebookId": "643977aa48f7da1fee5bd294",
    "runtime": {
     "execution_status": null,
     "status": "default"
    },
    "slideshow": {
     "slide_type": "slide"
    },
    "tags": []
   },
   "source": [
    "# 基于本地知识的 ChatGLM 应用实现  \n",
    "## 相关链接  \n",
    "原项目Github：https://github.com/imClumsyPanda/langchain-ChatGLM  \n",
    "\n",
    "ChatGLM-6B 在 ModelWhale 平台的部署与微调教程：https://www.heywhale.com/mw/project/6436d82948f7da1fee2be59e  \n",
    "\n",
    "## ModelWhale 运行配置  \n",
    "计算资源：V100 Tensor Core GPU  \n",
    "镜像：Python3.9 Cuda11.6 Torch1.12.1 官方镜像  \n",
    "\n",
    "## 介绍  \n",
    "\n",
    "🤖️ 一种利用 [ChatGLM-6B](https://github.com/THUDM/ChatGLM-6B) + [langchain](https://github.com/hwchase17/langchain) 实现的基于本地知识的 ChatGLM 应用。  \n",
    "\n",
    "💡 受 [GanymedeNil](https://github.com/GanymedeNil) 的项目 [document.ai](https://github.com/GanymedeNil/document.ai) 和 [AlexZhangji](https://github.com/AlexZhangji) 创建的 [ChatGLM-6B Pull Request](https://github.com/THUDM/ChatGLM-6B/pull/216) 启发，建立了全部基于开源模型实现的本地知识问答应用。  \n",
    "\n",
    "✅ 本项目中 Embedding 选用的是 [GanymedeNil/text2vec-large-chinese](https://huggingface.co/GanymedeNil/text2vec-large-chinese/tree/main)，LLM 选用的是 [ChatGLM-6B](https://github.com/THUDM/ChatGLM-6B)。依托上述模型，本项目可实现全部使用**开源**模型**离线私有部署**。  \n",
    "\n",
    "⛓️ 本项目实现原理如下图所示，过程包括加载文件 -> 读取文本 -> 文本分割 -> 文本向量化 -> 问句向量化 -> 在文本向量中匹配出与问句向量最相似的`top k`个 -> 匹配出的文本作为上下文和问题一起添加到`prompt`中 -> 提交给`LLM`生成回答。  \n",
    "\n",
    "![实现原理图](https://raw.githubusercontent.com/imClumsyPanda/langchain-ChatGLM/master/img/langchain%2Bchatglm.png)  \n",
    "\n",
    "🚩 本项目未涉及微调、训练过程，但可利用微调或训练对本项目效果进行优化。  \n",
    "\n",
    "## 本项目使用方式  \n",
    "核心部分代码为  \n",
    "```python  \n",
    "# 执行初始化  \n",
    "init_cfg(LLM_MODEL, EMBEDDING_MODEL, LLM_HISTORY_LEN)  \n",
    "# 使用 ChatGLM 的 readme 进行测试  \n",
    "vector_store = init_knowledge_vector_store(\"/home/mw/project/test_chatglm_readme.md\")  \n",
    "```\n",
    "\n",
    "其中vector_store的初始化可以传递 txt、docx、md 格式文件，或者包含md文件的目录。  \n",
    "\n",
    "更多知识库加载方式可以参考[langchain文档](https://python.langchain.com/en/latest/modules/indexes/document_loaders/examples/unstructured_file.html)，  \n",
    "通过修改 init_knowledge_vector_store 方法进行兼容。  \n",
    "\n",
    "**官方注**：ModelWhale GPU机型需要从云厂商拉取算力资源，耗时5~10min，且会预扣半小时资源价格的鲸币。如果资源未启动成功，预扣费用会在关闭编程页面后五分钟内退回，无需紧张，如遇问题欢迎[提报工单](https://www.heywhale.com/home/user/workorder)，客服会及时处理。  \n",
    "\n",
    "## 更新日志  \n",
    "[2023/05/11]  \n",
    "1. 修复unstructured版本更新导致的PDF读取问题  \n",
    "\n",
    "[2023/05/06]  \n",
    "1. 更新 requirements。解决 langchain 版本导致的依赖冲突  \n",
    "2. 同步上游代码结构，简化模块调用  \n",
    "3. response 改为流式输出  \n",
    "4. 真实案例知识库改为PDF格式  \n",
    "\n",
    "[2023/04/28]  \n",
    "1. 增加一个《动手学深度学习》书籍对话bot的真实案例  \n",
    "2. 增加 ChineseTextSplitter 来避免召回内容过长导致的显存溢出问题  "
   ]
  },
  {
   "cell_type": "code",
   "execution_count": 2,
   "metadata": {
    "collapsed": true,
    "id": "1A8BD83D791B480B9E174FA317F3DD32",
    "jupyter": {
     "outputs_hidden": true
    },
    "notebookId": "643977aa48f7da1fee5bd294",
    "slideshow": {
     "slide_type": "slide"
    },
    "tags": []
   },
   "outputs": [
    {
     "name": "stdout",
     "output_type": "stream",
     "text": [
      "Looking in indexes: https://mirror.sjtu.edu.cn/pypi/web/simple\n",
      "Collecting langchain==0.0.146\n",
      "  Downloading https://mirror.sjtu.edu.cn/pypi-packages/30/03/4857f6a16c77bb090506d684d59aacc5ebf1722fa85748d7ea4d505b9ab3/langchain-0.0.146-py3-none-any.whl (600 kB)\n",
      "\u001b[K     |████████████████████████████████| 600 kB 1.2 MB/s eta 0:00:01\n",
      "\u001b[?25hCollecting transformers==4.27.1\n",
      "  Downloading https://mirror.sjtu.edu.cn/pypi-packages/6d/9b/2f536f9e73390209e0b27b74691355dac494b7ec8154f3012fdc6debbae7/transformers-4.27.1-py3-none-any.whl (6.7 MB)\n",
      "\u001b[K     |████████████████████████████████| 6.7 MB 102.0 MB/s eta 0:00:01\n",
      "\u001b[?25hCollecting unstructured[local-inference]\n",
      "  Downloading https://mirror.sjtu.edu.cn/pypi-packages/94/0e/7ad36a6cffedea7d6dccb491d98ca4307d4a9f776d6d29d1045a82d453fd/unstructured-0.7.1-py3-none-any.whl (1.3 MB)\n",
      "\u001b[K     |████████████████████████████████| 1.3 MB 96.4 MB/s eta 0:00:01\n",
      "\u001b[?25hCollecting layoutparser[layoutmodels,tesseract]\n",
      "  Downloading https://mirror.sjtu.edu.cn/pypi-packages/08/cf/0bfbea1b2ace91af45e15bdec885e05992dc9150907a8398b3d305eddfd2/layoutparser-0.3.4-py3-none-any.whl (19.2 MB)\n",
      "\u001b[K     |████████████████████████████████| 19.2 MB 1.2 MB/s eta 0:00:011\n",
      "\u001b[?25hCollecting nltk\n",
      "  Downloading https://mirror.sjtu.edu.cn/pypi-packages/a6/0a/0d20d2c0f16be91b9fa32a77b76c60f9baf6eba419e5ef5deca17af9c582/nltk-3.8.1-py3-none-any.whl (1.5 MB)\n",
      "\u001b[K     |████████████████████████████████| 1.5 MB 64.6 MB/s eta 0:00:01\n",
      "\u001b[?25hCollecting sentence-transformers\n",
      "  Downloading https://mirror.sjtu.edu.cn/pypi-packages/20/9c/f07bd70d128fdb107bc02a0c702b9058b4fe147d0ba67b5a0f4c3cf15a54/sentence-transformers-2.2.2.tar.gz (85 kB)\n",
      "\u001b[K     |████████████████████████████████| 85 kB 16.0 MB/s eta 0:00:01\n",
      "\u001b[?25hRequirement already satisfied: beautifulsoup4 in /root/miniconda3/lib/python3.8/site-packages (from -r requirements.txt (line 7)) (4.11.1)\n",
      "Collecting icetk\n",
      "  Downloading https://mirror.sjtu.edu.cn/pypi-packages/bf/8a/731927e0901273815b779e6ce0e081a95ecf78835ff80be30830505ae06c/icetk-0.0.7-py3-none-any.whl (16 kB)\n",
      "Collecting cpm_kernels\n",
      "  Downloading https://mirror.sjtu.edu.cn/pypi-packages/af/84/1831ce6ffa87b8fd4d9673c3595d0fc4e6631c0691eb43f406d3bf89b951/cpm_kernels-1.0.11-py3-none-any.whl (416 kB)\n",
      "\u001b[K     |████████████████████████████████| 416 kB 85.4 MB/s eta 0:00:01\n",
      "\u001b[?25hCollecting faiss-cpu\n",
      "  Downloading https://mirror.sjtu.edu.cn/pypi-packages/7f/79/ee5293681d84383f5a071bf8f19629403ed7c0ba9472a0af8787c66c9ecc/faiss_cpu-1.7.4-cp38-cp38-manylinux_2_17_x86_64.manylinux2014_x86_64.whl (17.6 MB)\n",
      "\u001b[K     |████████████████████████████████| 17.6 MB 86.7 MB/s eta 0:00:01\n",
      "\u001b[?25hCollecting accelerate\n",
      "  Downloading https://mirror.sjtu.edu.cn/pypi-packages/fe/03/08a2f414de4ce11fae93a079e4184a7397f34d956c894359ed801b89dae0/accelerate-0.19.0-py3-none-any.whl (219 kB)\n",
      "\u001b[K     |████████████████████████████████| 219 kB 84.2 MB/s eta 0:00:01\n",
      "\u001b[?25hCollecting gradio==3.24.1\n",
      "  Downloading https://mirror.sjtu.edu.cn/pypi-packages/dd/8f/e074b8fefdc94ec0e398b69640c8af36cf4a31bf809c0fb8d788b8d70857/gradio-3.24.1-py3-none-any.whl (15.7 MB)\n",
      "\u001b[K     |████████████████████████████████| 15.7 MB 23.0 MB/s eta 0:00:01\n",
      "\u001b[?25hCollecting openapi-schema-pydantic<2.0,>=1.2\n",
      "  Downloading https://mirror.sjtu.edu.cn/pypi-packages/a8/e7/22abb5a10733bf8142984201aedf27d4a58f5810ebdfe9679f9876c7bf4d/openapi_schema_pydantic-1.2.4-py3-none-any.whl (90 kB)\n",
      "\u001b[K     |████████████████████████████████| 90 kB 23.9 MB/s eta 0:00:01\n",
      "\u001b[?25hCollecting PyYAML>=5.4.1\n",
      "  Downloading https://mirror.sjtu.edu.cn/pypi-packages/d7/42/7ad4b6d67a16229496d4f6e74201bdbebcf4bc1e87d5a70c9297d4961bd2/PyYAML-6.0-cp38-cp38-manylinux_2_5_x86_64.manylinux1_x86_64.manylinux_2_12_x86_64.manylinux2010_x86_64.whl (701 kB)\n",
      "\u001b[K     |████████████████████████████████| 701 kB 75.7 MB/s eta 0:00:01\n",
      "\u001b[?25hCollecting async-timeout<5.0.0,>=4.0.0\n",
      "  Downloading https://mirror.sjtu.edu.cn/pypi-packages/d6/c1/8991e7c5385b897b8c020cdaad718c5b087a6626d1d11a23e1ea87e325a7/async_timeout-4.0.2-py3-none-any.whl (5.8 kB)\n",
      "Collecting SQLAlchemy<2,>=1\n",
      "  Downloading https://mirror.sjtu.edu.cn/pypi-packages/61/df/4e0f3d9a442a8bb75aeffa2fd780af11b8a82cf0b5eeb8574eb747b4f241/SQLAlchemy-1.4.48-cp38-cp38-manylinux_2_5_x86_64.manylinux1_x86_64.manylinux_2_17_x86_64.manylinux2014_x86_64.whl (1.6 MB)\n",
      "\u001b[K     |████████████████████████████████| 1.6 MB 1.8 MB/s eta 0:00:01\n",
      "\u001b[?25hCollecting dataclasses-json<0.6.0,>=0.5.7\n",
      "  Downloading https://mirror.sjtu.edu.cn/pypi-packages/58/7e/2042610dfc8121e8119ad8b94db496d8697e4b0ef7a6e378018a2bd84435/dataclasses_json-0.5.7-py3-none-any.whl (25 kB)\n",
      "Requirement already satisfied: requests<3,>=2 in /root/miniconda3/lib/python3.8/site-packages (from langchain==0.0.146->-r requirements.txt (line 1)) (2.25.1)\n",
      "Requirement already satisfied: numpy<2,>=1 in /root/miniconda3/lib/python3.8/site-packages (from langchain==0.0.146->-r requirements.txt (line 1)) (1.23.1)\n",
      "Collecting aiohttp<4.0.0,>=3.8.3\n",
      "  Downloading https://mirror.sjtu.edu.cn/pypi-packages/d2/e5/cef5eeb11d7e8bac830b3bee1c8311b19bf8e8a1c45fe14b876c70adcd06/aiohttp-3.8.4-cp38-cp38-manylinux_2_17_x86_64.manylinux2014_x86_64.whl (1.0 MB)\n",
      "\u001b[K     |████████████████████████████████| 1.0 MB 3.6 MB/s eta 0:00:01\n",
      "\u001b[?25hCollecting numexpr<3.0.0,>=2.8.4\n",
      "  Downloading https://mirror.sjtu.edu.cn/pypi-packages/90/7d/cb52ea57152908e2e0ca1391f1fd0218e9a256bfd1a8cbf38402c7639bab/numexpr-2.8.4-cp38-cp38-manylinux_2_17_x86_64.manylinux2014_x86_64.whl (381 kB)\n",
      "\u001b[K     |████████████████████████████████| 381 kB 86.2 MB/s eta 0:00:01\n",
      "\u001b[?25hCollecting pydantic<2,>=1\n",
      "  Downloading https://mirror.sjtu.edu.cn/pypi-packages/f1/bd/0dad4908e5f693b7951b68f435139ec583f5eebb3d75505e1efa0f2284fe/pydantic-1.10.7-cp38-cp38-manylinux_2_17_x86_64.manylinux2014_x86_64.whl (3.2 MB)\n",
      "\u001b[K     |████████████████████████████████| 3.2 MB 76.4 MB/s eta 0:00:01\n",
      "\u001b[?25hRequirement already satisfied: tqdm>=4.48.0 in /root/miniconda3/lib/python3.8/site-packages (from langchain==0.0.146->-r requirements.txt (line 1)) (4.61.2)\n",
      "Collecting tenacity<9.0.0,>=8.1.0\n",
      "  Downloading https://mirror.sjtu.edu.cn/pypi-packages/e7/b0/c23bd61e1b32c9b96fbca996c87784e196a812da8d621d8d04851f6c8181/tenacity-8.2.2-py3-none-any.whl (24 kB)\n",
      "Collecting huggingface-hub<1.0,>=0.11.0\n",
      "  Downloading https://mirror.sjtu.edu.cn/pypi-packages/58/34/c57b951aecd0248845932c1cfc15721237c50e463f26b0536673bcb76f4f/huggingface_hub-0.14.1-py3-none-any.whl (224 kB)\n",
      "\u001b[K     |████████████████████████████████| 224 kB 3.7 MB/s eta 0:00:01\n",
      "\u001b[?25hCollecting regex!=2019.12.17\n",
      "  Downloading https://mirror.sjtu.edu.cn/pypi-packages/e0/7c/941e5c89bbbcd6ba460444c6ec029d54e7147741078f1c8300a8cbf8abb9/regex-2023.5.5-cp38-cp38-manylinux_2_17_x86_64.manylinux2014_x86_64.whl (771 kB)\n",
      "\u001b[K     |████████████████████████████████| 771 kB 1.2 MB/s eta 0:00:01\n",
      "\u001b[?25hCollecting tokenizers!=0.11.3,<0.14,>=0.11.1\n",
      "  Downloading https://mirror.sjtu.edu.cn/pypi-packages/4e/f2/017bf57106b845e31ef6179bf204042720a53629cf599ef9464da990e0e5/tokenizers-0.13.3-cp38-cp38-manylinux_2_17_x86_64.manylinux2014_x86_64.whl (7.8 MB)\n",
      "\u001b[K     |████████████████████████████████| 7.8 MB 3.7 MB/s eta 0:00:01\n",
      "\u001b[?25hCollecting filelock\n",
      "  Downloading https://mirror.sjtu.edu.cn/pypi-packages/ad/73/b094a662ae05cdc4ec95bc54e434e307986a5de5960166b8161b7c1373ee/filelock-3.12.0-py3-none-any.whl (10 kB)\n",
      "Requirement already satisfied: packaging>=20.0 in /root/miniconda3/lib/python3.8/site-packages (from transformers==4.27.1->-r requirements.txt (line 2)) (21.0)\n",
      "Collecting pydub\n",
      "  Downloading https://mirror.sjtu.edu.cn/pypi-packages/a6/53/d78dc063216e62fc55f6b2eebb447f6a4b0a59f55c8406376f76bf959b08/pydub-0.25.1-py2.py3-none-any.whl (32 kB)\n",
      "Collecting httpx\n",
      "  Downloading https://mirror.sjtu.edu.cn/pypi-packages/4e/c1/692013f1e6115a061a14f6c7d05947515a1eb7b85ef6e9bf0ffbf0e92738/httpx-0.24.0-py3-none-any.whl (75 kB)\n",
      "\u001b[K     |████████████████████████████████| 75 kB 16.7 MB/s eta 0:00:01\n",
      "\u001b[?25hCollecting fastapi\n",
      "  Downloading https://mirror.sjtu.edu.cn/pypi-packages/2e/84/d289e941ffec2f107d9097c8f7c2dbc874b0fc3fab9776aa3cc366d45ab2/fastapi-0.95.1-py3-none-any.whl (56 kB)\n",
      "\u001b[K     |████████████████████████████████| 56 kB 17.3 MB/s eta 0:00:01\n",
      "\u001b[?25hCollecting websockets>=10.0\n",
      "  Downloading https://mirror.sjtu.edu.cn/pypi-packages/58/05/2efb520317340ece74bfc4d88e8f011dd71a4e6c263000bfffb71a343685/websockets-11.0.3-cp38-cp38-manylinux_2_5_x86_64.manylinux1_x86_64.manylinux_2_17_x86_64.manylinux2014_x86_64.whl (130 kB)\n",
      "\u001b[K     |████████████████████████████████| 130 kB 3.7 MB/s eta 0:00:01\n",
      "\u001b[?25hCollecting mdit-py-plugins<=0.3.3\n",
      "  Downloading https://mirror.sjtu.edu.cn/pypi-packages/33/eb/c358112e8265f827cf8228eda36cf2a720ad933f5ca66f47f808edf4bb34/mdit_py_plugins-0.3.3-py3-none-any.whl (50 kB)\n",
      "\u001b[K     |████████████████████████████████| 50 kB 23.5 MB/s eta 0:00:01\n",
      "\u001b[?25hCollecting pandas\n",
      "  Downloading https://mirror.sjtu.edu.cn/pypi-packages/16/75/924e3a52c35cb105a152d29622d0f06bb0f48a677e77ddd6e11ef0004164/pandas-2.0.1-cp38-cp38-manylinux_2_17_x86_64.manylinux2014_x86_64.whl (12.3 MB)\n",
      "\u001b[K     |████████████████████████████████| 12.3 MB 1.2 MB/s eta 0:00:01\n",
      "\u001b[?25hRequirement already satisfied: matplotlib in /root/miniconda3/lib/python3.8/site-packages (from gradio==3.24.1->-r requirements.txt (line 12)) (3.5.3)\n",
      "Requirement already satisfied: pillow in /root/miniconda3/lib/python3.8/site-packages (from gradio==3.24.1->-r requirements.txt (line 12)) (9.1.1)\n",
      "Collecting gradio-client>=0.0.5\n",
      "  Downloading https://mirror.sjtu.edu.cn/pypi-packages/a4/bf/38c4d6e8aed06924935bfbbe0faa9eae8a7d574155d132310cce6422f11e/gradio_client-0.2.4-py3-none-any.whl (287 kB)\n",
      "\u001b[K     |████████████████████████████████| 287 kB 91.3 MB/s eta 0:00:01\n",
      "\u001b[?25hCollecting markdown-it-py[linkify]>=2.0.0\n",
      "  Downloading https://mirror.sjtu.edu.cn/pypi-packages/bf/25/2d88e8feee8e055d015343f9b86e370a1ccbec546f2865c98397aaef24af/markdown_it_py-2.2.0-py3-none-any.whl (84 kB)\n",
      "\u001b[K     |████████████████████████████████| 84 kB 13.4 MB/s eta 0:00:01\n",
      "\u001b[?25hRequirement already satisfied: typing-extensions in /root/miniconda3/lib/python3.8/site-packages (from gradio==3.24.1->-r requirements.txt (line 12)) (4.2.0)\n",
      "Collecting ffmpy\n",
      "  Downloading https://mirror.sjtu.edu.cn/pypi-packages/bf/e2/947df4b3d666bfdd2b0c6355d215c45d2d40f929451cb29a8a2995b29788/ffmpy-0.3.0.tar.gz (4.8 kB)\n",
      "Collecting aiofiles\n",
      "  Downloading https://mirror.sjtu.edu.cn/pypi-packages/a8/76/635aa4f210d46ca105bfedd42d41f649b91d3e58422912726fc5e7965442/aiofiles-23.1.0-py3-none-any.whl (14 kB)\n",
      "Collecting altair>=4.2.0\n",
      "  Downloading https://mirror.sjtu.edu.cn/pypi-packages/2e/b8/49d377d9a7a85dc24e35d70384fc5ae7b19db6f8ee9d23d36337675c602e/altair-5.0.0-py3-none-any.whl (477 kB)\n",
      "\u001b[K     |████████████████████████████████| 477 kB 64.2 MB/s eta 0:00:01\n",
      "\u001b[?25hCollecting uvicorn\n",
      "  Downloading https://mirror.sjtu.edu.cn/pypi-packages/ad/bd/d47ee02312640fcf26c7e1c807402d5c5eab468571153a94ec8f7ada0e46/uvicorn-0.22.0-py3-none-any.whl (58 kB)\n",
      "\u001b[K     |████████████████████████████████| 58 kB 21.1 MB/s eta 0:00:01\n",
      "\u001b[?25hRequirement already satisfied: jinja2 in /root/miniconda3/lib/python3.8/site-packages (from gradio==3.24.1->-r requirements.txt (line 12)) (3.1.2)\n",
      "Collecting python-multipart\n",
      "  Downloading https://mirror.sjtu.edu.cn/pypi-packages/b4/ff/b1e11d8bffb5e0e1b6d27f402eeedbeb9be6df2cdbc09356a1ae49806dbf/python_multipart-0.0.6-py3-none-any.whl (45 kB)\n",
      "\u001b[K     |████████████████████████████████| 45 kB 11.3 MB/s eta 0:00:01\n",
      "\u001b[?25hCollecting orjson\n",
      "  Downloading https://mirror.sjtu.edu.cn/pypi-packages/1a/ad/023133cbd08249a040fb4c422f8f527d557c9984eab83b2b5c9558c258b6/orjson-3.8.12-cp38-cp38-manylinux_2_17_x86_64.manylinux2014_x86_64.whl (137 kB)\n",
      "\u001b[K     |████████████████████████████████| 137 kB 1.8 MB/s eta 0:00:01\n",
      "\u001b[?25hRequirement already satisfied: markupsafe in /root/miniconda3/lib/python3.8/site-packages (from gradio==3.24.1->-r requirements.txt (line 12)) (2.1.1)\n",
      "Collecting semantic-version\n",
      "  Downloading https://mirror.sjtu.edu.cn/pypi-packages/6a/23/8146aad7d88f4fcb3a6218f41a60f6c2d4e3a72de72da1825dc7c8f7877c/semantic_version-2.10.0-py2.py3-none-any.whl (15 kB)\n",
      "Collecting aiosignal>=1.1.2\n",
      "  Downloading https://mirror.sjtu.edu.cn/pypi-packages/76/ac/a7305707cb852b7e16ff80eaf5692309bde30e2b1100a1fcacdc8f731d97/aiosignal-1.3.1-py3-none-any.whl (7.6 kB)\n",
      "Collecting multidict<7.0,>=4.5\n",
      "  Downloading https://mirror.sjtu.edu.cn/pypi-packages/fe/0c/8469202f8f4b0e65816f91c3febc4bda7316c995b59ecdf3b15c574f7a24/multidict-6.0.4-cp38-cp38-manylinux_2_17_x86_64.manylinux2014_x86_64.whl (121 kB)\n",
      "\u001b[K     |████████████████████████████████| 121 kB 1.2 MB/s eta 0:00:01\n",
      "\u001b[?25hRequirement already satisfied: attrs>=17.3.0 in /root/miniconda3/lib/python3.8/site-packages (from aiohttp<4.0.0,>=3.8.3->langchain==0.0.146->-r requirements.txt (line 1)) (22.1.0)\n",
      "Collecting yarl<2.0,>=1.0\n",
      "  Downloading https://mirror.sjtu.edu.cn/pypi-packages/c4/0c/7898c35ca4945fdd416e1dadeda985cc391e4f9298ae5e71c3a5cd88e82d/yarl-1.9.2-cp38-cp38-manylinux_2_17_x86_64.manylinux2014_x86_64.whl (266 kB)\n",
      "\u001b[K     |████████████████████████████████| 266 kB 1.8 MB/s eta 0:00:01\n",
      "\u001b[?25hCollecting frozenlist>=1.1.1\n",
      "  Downloading https://mirror.sjtu.edu.cn/pypi-packages/ec/ab/a440db757401a1e8863c9abb374a77cb2884eda74ffbf555dedcf1fbe7f6/frozenlist-1.3.3-cp38-cp38-manylinux_2_5_x86_64.manylinux1_x86_64.manylinux_2_17_x86_64.manylinux2014_x86_64.whl (161 kB)\n",
      "\u001b[K     |████████████████████████████████| 161 kB 3.6 MB/s eta 0:00:01\n",
      "\u001b[?25hCollecting charset-normalizer<4.0,>=2.0\n",
      "  Downloading https://mirror.sjtu.edu.cn/pypi-packages/74/5f/361202de730532028458b729781b8435f320e31a622c27f30e25eec80513/charset_normalizer-3.1.0-cp38-cp38-manylinux_2_17_x86_64.manylinux2014_x86_64.whl (195 kB)\n",
      "\u001b[K     |████████████████████████████████| 195 kB 94.0 MB/s eta 0:00:01\n",
      "\u001b[?25hCollecting toolz\n",
      "  Downloading https://mirror.sjtu.edu.cn/pypi-packages/7f/5c/922a3508f5bda2892be3df86c74f9cf1e01217c2b1f8a0ac4841d903e3e9/toolz-0.12.0-py3-none-any.whl (55 kB)\n",
      "\u001b[K     |████████████████████████████████| 55 kB 18.3 MB/s eta 0:00:01\n",
      "\u001b[?25hRequirement already satisfied: jsonschema>=3.0 in /root/miniconda3/lib/python3.8/site-packages (from altair>=4.2.0->gradio==3.24.1->-r requirements.txt (line 12)) (4.8.0)\n",
      "Collecting typing-inspect>=0.4.0\n",
      "  Downloading https://mirror.sjtu.edu.cn/pypi-packages/be/01/59b743dca816c4b6ca891b9e0f84d20513cd61bdbbaa8615de8f5aab68c1/typing_inspect-0.8.0-py3-none-any.whl (8.7 kB)\n",
      "Collecting marshmallow-enum<2.0.0,>=1.5.1\n",
      "  Downloading https://mirror.sjtu.edu.cn/pypi-packages/c6/59/ef3a3dc499be447098d4a89399beb869f813fee1b5a57d5d79dee2c1bf51/marshmallow_enum-1.5.1-py2.py3-none-any.whl (4.2 kB)\n",
      "Collecting marshmallow<4.0.0,>=3.3.0\n",
      "  Downloading https://mirror.sjtu.edu.cn/pypi-packages/ae/53/980a20d789029329fdf1546c315f9c92bf862c7f3e7294e3667afcc464f5/marshmallow-3.19.0-py3-none-any.whl (49 kB)\n",
      "\u001b[K     |████████████████████████████████| 49 kB 1.7 MB/s eta 0:00:011\n",
      "\u001b[?25hCollecting fsspec\n",
      "  Downloading https://mirror.sjtu.edu.cn/pypi-packages/ec/4e/397b234a369df06ec782666fcdf9791d125ca6de48729814b381af8c6c03/fsspec-2023.5.0-py3-none-any.whl (160 kB)\n",
      "\u001b[K     |████████████████████████████████| 160 kB 3.6 MB/s eta 0:00:01\n",
      "\u001b[?25hRequirement already satisfied: pyrsistent!=0.17.0,!=0.17.1,!=0.17.2,>=0.14.0 in /root/miniconda3/lib/python3.8/site-packages (from jsonschema>=3.0->altair>=4.2.0->gradio==3.24.1->-r requirements.txt (line 12)) (0.18.1)\n",
      "Requirement already satisfied: importlib-resources>=1.4.0 in /root/miniconda3/lib/python3.8/site-packages (from jsonschema>=3.0->altair>=4.2.0->gradio==3.24.1->-r requirements.txt (line 12)) (5.9.0)\n",
      "Requirement already satisfied: zipp>=3.1.0 in /root/miniconda3/lib/python3.8/site-packages (from importlib-resources>=1.4.0->jsonschema>=3.0->altair>=4.2.0->gradio==3.24.1->-r requirements.txt (line 12)) (3.8.1)\n",
      "Collecting mdurl~=0.1\n",
      "  Downloading https://mirror.sjtu.edu.cn/pypi-packages/b3/38/89ba8ad64ae25be8de66a6d463314cf1eb366222074cfda9ee839c56a4b4/mdurl-0.1.2-py3-none-any.whl (10.0 kB)\n",
      "Collecting linkify-it-py<3,>=1\n",
      "  Downloading https://mirror.sjtu.edu.cn/pypi-packages/1f/1a/16b0d2f66601ba3081f1d4177087c79fd1f11d17706ee01d373e4ba8e00d/linkify_it_py-2.0.2-py3-none-any.whl (19 kB)\n",
      "Collecting uc-micro-py\n",
      "  Downloading https://mirror.sjtu.edu.cn/pypi-packages/d1/1c/5aeb94aa980da111e4fd0c0fbe5ad95ed5bf9bd957f8e2a6178b85ff4da8/uc_micro_py-1.0.2-py3-none-any.whl (6.2 kB)\n",
      "Requirement already satisfied: pyparsing>=2.0.2 in /root/miniconda3/lib/python3.8/site-packages (from packaging>=20.0->transformers==4.27.1->-r requirements.txt (line 2)) (3.0.9)\n",
      "Requirement already satisfied: pytz>=2020.1 in /root/miniconda3/lib/python3.8/site-packages (from pandas->gradio==3.24.1->-r requirements.txt (line 12)) (2022.2.1)\n",
      "Collecting tzdata>=2022.1\n",
      "  Downloading https://mirror.sjtu.edu.cn/pypi-packages/d5/fb/a79efcab32b8a1f1ddca7f35109a50e4a80d42ac1c9187ab46522b2407d7/tzdata-2023.3-py2.py3-none-any.whl (341 kB)\n",
      "\u001b[K     |████████████████████████████████| 341 kB 3.6 MB/s eta 0:00:01\n",
      "\u001b[?25hCollecting python-dateutil>=2.8.2\n",
      "  Downloading https://mirror.sjtu.edu.cn/pypi-packages/36/7a/87837f39d0296e723bb9b62bbb257d0355c7f6128853c78955f57342a56d/python_dateutil-2.8.2-py2.py3-none-any.whl (247 kB)\n",
      "\u001b[K     |████████████████████████████████| 247 kB 93.0 MB/s eta 0:00:01\n",
      "\u001b[?25hRequirement already satisfied: six>=1.5 in /root/miniconda3/lib/python3.8/site-packages (from python-dateutil>=2.8.2->pandas->gradio==3.24.1->-r requirements.txt (line 12)) (1.16.0)\n",
      "Requirement already satisfied: idna<3,>=2.5 in /root/miniconda3/lib/python3.8/site-packages (from requests<3,>=2->langchain==0.0.146->-r requirements.txt (line 1)) (2.10)\n",
      "Requirement already satisfied: chardet<5,>=3.0.2 in /root/miniconda3/lib/python3.8/site-packages (from requests<3,>=2->langchain==0.0.146->-r requirements.txt (line 1)) (4.0.0)\n",
      "Requirement already satisfied: urllib3<1.27,>=1.21.1 in /root/miniconda3/lib/python3.8/site-packages (from requests<3,>=2->langchain==0.0.146->-r requirements.txt (line 1)) (1.26.6)\n",
      "Requirement already satisfied: certifi>=2017.4.17 in /root/miniconda3/lib/python3.8/site-packages (from requests<3,>=2->langchain==0.0.146->-r requirements.txt (line 1)) (2021.5.30)\n",
      "Collecting greenlet!=0.4.17\n",
      "  Downloading https://mirror.sjtu.edu.cn/pypi-packages/7c/5f/ee39d27a08ae6b93f14faa953a6593dad888df75ae55ff479135e64ad4fe/greenlet-2.0.2-cp38-cp38-manylinux_2_17_x86_64.manylinux2014_x86_64.whl (618 kB)\n",
      "\u001b[K     |████████████████████████████████| 618 kB 3.6 MB/s eta 0:00:01\n",
      "\u001b[?25hCollecting mypy-extensions>=0.3.0\n",
      "  Downloading https://mirror.sjtu.edu.cn/pypi-packages/2a/e2/5d3f6ada4297caebe1a2add3b126fe800c96f56dbe5d1988a2cbe0b267aa/mypy_extensions-1.0.0-py3-none-any.whl (4.7 kB)\n",
      "Collecting joblib\n",
      "  Downloading https://mirror.sjtu.edu.cn/pypi-packages/91/d4/3b4c8e5a30604df4c7518c562d4bf0502f2fa29221459226e140cf846512/joblib-1.2.0-py3-none-any.whl (297 kB)\n",
      "\u001b[K     |████████████████████████████████| 297 kB 98.1 MB/s eta 0:00:01\n",
      "\u001b[?25hCollecting click\n",
      "  Downloading https://mirror.sjtu.edu.cn/pypi-packages/c2/f1/df59e28c642d583f7dacffb1e0965d0e00b218e0186d7858ac5233dce840/click-8.1.3-py3-none-any.whl (96 kB)\n",
      "\u001b[K     |████████████████████████████████| 96 kB 25.3 MB/s  eta 0:00:01\n",
      "\u001b[?25hCollecting torch>=1.6.0\n",
      "  Downloading https://mirror.sjtu.edu.cn/pypi-packages/96/28/026dc037f177d53558477931677b120f649dd5a0dcdc4b44dc38b3d75711/torch-2.0.1-cp38-cp38-manylinux1_x86_64.whl (619.9 MB)\n",
      "\u001b[K     |████████████████████████████████| 619.9 MB 31 kB/s  eta 0:00:012     |█████████▍                      | 182.8 MB 35.5 MB/s eta 0:00:13\n",
      "\u001b[?25hCollecting torchvision\n",
      "  Downloading https://mirror.sjtu.edu.cn/pypi-packages/31/71/a362404ae76eaac714f704cb3338d8bfdf3692004a0e0799e002260a1391/torchvision-0.15.2-cp38-cp38-manylinux1_x86_64.whl (33.8 MB)\n",
      "\u001b[K     |████████████████████████████████| 33.8 MB 135.7 MB/s eta 0:00:01    |████████████████████▋           | 21.7 MB 13.7 MB/s eta 0:00:01\n",
      "\u001b[?25hCollecting scikit-learn\n",
      "  Downloading https://mirror.sjtu.edu.cn/pypi-packages/51/d1/58faa69e97ee60e99dcdde5df43f17f0887eda5de9eafb6534a51b63d791/scikit_learn-1.2.2-cp38-cp38-manylinux_2_17_x86_64.manylinux2014_x86_64.whl (9.8 MB)\n",
      "\u001b[K     |████████████████████████████████| 9.8 MB 3.7 MB/s eta 0:00:01\n",
      "\u001b[?25hCollecting scipy\n",
      "  Downloading https://mirror.sjtu.edu.cn/pypi-packages/69/f0/fb07a9548e48b687b8bf2fa81d71aba9cfc548d365046ca1c791e24db99d/scipy-1.10.1-cp38-cp38-manylinux_2_17_x86_64.manylinux2014_x86_64.whl (34.5 MB)\n",
      "\u001b[K     |████████████████████████████████| 34.5 MB 4.6 MB/s eta 0:00:01\n",
      "\u001b[?25hCollecting sentencepiece\n",
      "  Downloading https://mirror.sjtu.edu.cn/pypi-packages/c9/58/4fbd3f33a38c9809fedf57bbef7e086b9909d6807148f35d68c0c90896d3/sentencepiece-0.1.99-cp38-cp38-manylinux_2_17_x86_64.manylinux2014_x86_64.whl (1.3 MB)\n",
      "\u001b[K     |████████████████████████████████| 1.3 MB 3.7 MB/s eta 0:00:01\n",
      "\u001b[?25hCollecting nvidia-cuda-nvrtc-cu11==11.7.99\n",
      "  Downloading https://mirror.sjtu.edu.cn/pypi-packages/ef/25/922c5996aada6611b79b53985af7999fc629aee1d5d001b6a22431e18fec/nvidia_cuda_nvrtc_cu11-11.7.99-2-py3-none-manylinux1_x86_64.whl (21.0 MB)\n",
      "\u001b[K     |████████████████████████████████| 21.0 MB 3.9 MB/s eta 0:00:011\n",
      "\u001b[?25hCollecting triton==2.0.0\n",
      "  Downloading https://mirror.sjtu.edu.cn/pypi-packages/a6/4b/28142a3c70621cb3398ac626c276268ca87af50a3fa43667a834fa5d13bf/triton-2.0.0-1-cp38-cp38-manylinux2014_x86_64.manylinux_2_17_x86_64.whl (63.2 MB)\n",
      "\u001b[K     |████████████████████████████████| 63.2 MB 4.2 MB/s eta 0:00:011\n",
      "\u001b[?25hCollecting nvidia-nvtx-cu11==11.7.91\n",
      "  Downloading https://mirror.sjtu.edu.cn/pypi-packages/23/d5/09493ff0e64fd77523afbbb075108f27a13790479efe86b9ffb4587671b5/nvidia_nvtx_cu11-11.7.91-py3-none-manylinux1_x86_64.whl (98 kB)\n",
      "\u001b[K     |████████████████████████████████| 98 kB 1.6 MB/s eta 0:00:011\n",
      "\u001b[?25hCollecting nvidia-cublas-cu11==11.10.3.66\n",
      "  Downloading https://mirror.sjtu.edu.cn/pypi-packages/ce/41/fdeb62b5437996e841d83d7d2714ca75b886547ee8017ee2fe6ea409d983/nvidia_cublas_cu11-11.10.3.66-py3-none-manylinux1_x86_64.whl (317.1 MB)\n",
      "\u001b[K     |████████████████████████████████| 317.1 MB 61 kB/s  eta 0:00:011     |█████████████████               | 168.9 MB 7.0 MB/s eta 0:00:22     |████████████████████████████    | 276.8 MB 27.0 MB/s eta 0:00:02\n",
      "\u001b[?25hCollecting nvidia-curand-cu11==10.2.10.91\n",
      "  Downloading https://mirror.sjtu.edu.cn/pypi-packages/8f/11/af78d54b2420e64a4dd19e704f5bb69dcb5a6a3138b4465d6a48cdf59a21/nvidia_curand_cu11-10.2.10.91-py3-none-manylinux1_x86_64.whl (54.6 MB)\n",
      "\u001b[K     |████████████████████████████████| 54.6 MB 132.7 MB/s eta 0:00:01\n",
      "\u001b[?25hCollecting nvidia-nccl-cu11==2.14.3\n",
      "  Downloading https://mirror.sjtu.edu.cn/pypi-packages/55/92/914cdb650b6a5d1478f83148597a25e90ea37d739bd563c5096b0e8a5f43/nvidia_nccl_cu11-2.14.3-py3-none-manylinux1_x86_64.whl (177.1 MB)\n",
      "\u001b[K     |████████████████████████████████| 177.1 MB 5.1 MB/s eta 0:00:011\n",
      "\u001b[?25hCollecting nvidia-cusparse-cu11==11.7.4.91\n",
      "  Downloading https://mirror.sjtu.edu.cn/pypi-packages/ea/6f/6d032cc1bb7db88a989ddce3f4968419a7edeafda362847f42f614b1f845/nvidia_cusparse_cu11-11.7.4.91-py3-none-manylinux1_x86_64.whl (173.2 MB)\n",
      "\u001b[K     |████████████████████████████████| 173.2 MB 59 kB/s s eta 0:00:01\n",
      "\u001b[?25hCollecting sympy\n",
      "  Downloading https://mirror.sjtu.edu.cn/pypi-packages/d2/05/e6600db80270777c4a64238a98d442f0fd07cc8915be2a1c16da7f2b9e74/sympy-1.12-py3-none-any.whl (5.7 MB)\n",
      "\u001b[K     |████████████████████████████████| 5.7 MB 1.2 MB/s eta 0:00:01\n",
      "\u001b[?25hCollecting nvidia-cuda-runtime-cu11==11.7.99\n",
      "  Downloading https://mirror.sjtu.edu.cn/pypi-packages/36/92/89cf558b514125d2ebd8344dd2f0533404b416486ff681d5434a5832a019/nvidia_cuda_runtime_cu11-11.7.99-py3-none-manylinux1_x86_64.whl (849 kB)\n",
      "\u001b[K     |████████████████████████████████| 849 kB 91.0 MB/s eta 0:00:01\n",
      "\u001b[?25hCollecting nvidia-cusolver-cu11==11.4.0.1\n",
      "  Downloading https://mirror.sjtu.edu.cn/pypi-packages/3e/77/66149e3153b19312fb782ea367f3f950123b93916a45538b573fe373570a/nvidia_cusolver_cu11-11.4.0.1-2-py3-none-manylinux1_x86_64.whl (102.6 MB)\n",
      "\u001b[K     |████████████████████████████████| 102.6 MB 4.4 MB/s eta 0:00:011\n",
      "\u001b[?25hCollecting nvidia-cudnn-cu11==8.5.0.96\n",
      "  Downloading https://mirror.sjtu.edu.cn/pypi-packages/dc/30/66d4347d6e864334da5bb1c7571305e501dcb11b9155971421bb7bb5315f/nvidia_cudnn_cu11-8.5.0.96-2-py3-none-manylinux1_x86_64.whl (557.1 MB)\n",
      "\u001b[K     |████████████████████████████████| 557.1 MB 21 kB/s s eta 0:00:01     |██████████████████▉             | 327.4 MB 3.8 MB/s eta 0:01:01\n",
      "\u001b[?25hCollecting nvidia-cuda-cupti-cu11==11.7.101\n",
      "  Downloading https://mirror.sjtu.edu.cn/pypi-packages/e6/9d/dd0cdcd800e642e3c82ee3b5987c751afd4f3fb9cc2752517f42c3bc6e49/nvidia_cuda_cupti_cu11-11.7.101-py3-none-manylinux1_x86_64.whl (11.8 MB)\n",
      "\u001b[K     |████████████████████████████████| 11.8 MB 1.2 MB/s eta 0:00:01\n",
      "\u001b[?25hCollecting nvidia-cufft-cu11==10.9.0.58\n",
      "  Downloading https://mirror.sjtu.edu.cn/pypi-packages/74/79/b912a77e38e41f15a0581a59f5c3548d1ddfdda3225936fb67c342719e7a/nvidia_cufft_cu11-10.9.0.58-py3-none-manylinux1_x86_64.whl (168.4 MB)\n",
      "\u001b[K     |████████████████████████████████| 168.4 MB 113 kB/s  eta 0:00:01\n",
      "\u001b[?25hCollecting networkx\n",
      "  Downloading https://mirror.sjtu.edu.cn/pypi-packages/a8/05/9d4f9b78ead6b2661d6e8ea772e111fc4a9fbd866ad0c81906c11206b55e/networkx-3.1-py3-none-any.whl (2.1 MB)\n",
      "\u001b[K     |█████████▏                      | 593 kB 1.2 MB/s eta 0:00:02\u001b[31mERROR: Could not install packages due to an OSError: [Errno 28] No space left on device\n",
      "\u001b[0m\n"
     ]
    }
   ],
   "source": [
    "# 安装依赖\n",
    "!pip install -r requirements.txt -i https://mirror.sjtu.edu.cn/pypi/web/simple"
   ]
  },
  {
   "cell_type": "code",
   "execution_count": 3,
   "metadata": {
    "collapsed": false,
    "id": "51D8F14B32B64593BB0EC7E47D53FADB",
    "jupyter": {
     "outputs_hidden": false
    },
    "notebookId": "643977aa48f7da1fee5bd294",
    "slideshow": {
     "slide_type": "slide"
    },
    "tags": []
   },
   "outputs": [],
   "source": [
    "# 安装nltk_data\n",
    "# \n",
    "!cp -r nltk_data /home/mw"
   ]
  },
  {
   "cell_type": "code",
   "execution_count": 4,
   "metadata": {
    "collapsed": false,
    "id": "AB73BE53ECB745808C79977BF491D8AD",
    "jupyter": {
     "outputs_hidden": false
    },
    "notebookId": "643977aa48f7da1fee5bd294",
    "slideshow": {
     "slide_type": "slide"
    },
    "tags": []
   },
   "outputs": [],
   "source": [
    "# 使用 Markdown 格式打印模型输出\n",
    "from IPython.display import display, Markdown, clear_output\n",
    "\n",
    "def display_answer(agent, query, vs_path, history=[]):\n",
    "    for resp, history in local_doc_qa.get_knowledge_based_answer(query=query,\n",
    "                                                                 vs_path=vs_path,\n",
    "                                                                 chat_history=history,\n",
    "                                                                 streaming=True):\n",
    "        clear_output(wait=True)\n",
    "        display(Markdown(resp[\"result\"]))\n",
    "    return resp, history\n"
   ]
  },
  {
   "cell_type": "code",
   "execution_count": 5,
   "metadata": {
    "collapsed": false,
    "id": "FA3433388DD547A6A9607F34BCFBCE97",
    "jupyter": {
     "outputs_hidden": false
    },
    "notebookId": "643977aa48f7da1fee5bd294",
    "slideshow": {
     "slide_type": "slide"
    },
    "tags": []
   },
   "outputs": [
    {
     "name": "stderr",
     "output_type": "stream",
     "text": [
      "Explicitly passing a `revision` is encouraged when loading a model with custom code to ensure no malicious code has been contributed in a newer revision.\n",
      "Explicitly passing a `revision` is encouraged when loading a configuration with custom code to ensure no malicious code has been contributed in a newer revision.\n",
      "Explicitly passing a `revision` is encouraged when loading a model with custom code to ensure no malicious code has been contributed in a newer revision.\n"
     ]
    },
    {
     "data": {
      "application/json": {
       "ascii": false,
       "bar_format": null,
       "colour": null,
       "elapsed": 0.014251470565795898,
       "initial": 0,
       "n": 0,
       "ncols": null,
       "nrows": null,
       "postfix": null,
       "prefix": "Loading checkpoint shards",
       "rate": null,
       "total": 8,
       "unit": "it",
       "unit_divisor": 1000,
       "unit_scale": false
      },
      "application/vnd.jupyter.widget-view+json": {
       "model_id": "6ad13f721a054f978c8ef1510bcc9d04",
       "version_major": 2,
       "version_minor": 0
      },
      "text/plain": [
       "Loading checkpoint shards:   0%|          | 0/8 [00:00<?, ?it/s]"
      ]
     },
     "metadata": {},
     "output_type": "display_data"
    },
    {
     "name": "stderr",
     "output_type": "stream",
     "text": [
      "No sentence-transformers model found with name /home/mw/input/text2vec2538. Creating a new one with MEAN pooling.\n"
     ]
    }
   ],
   "source": [
    "import torch.cuda\n",
    "import torch.backends\n",
    "\n",
    "from configs import model_config\n",
    "\n",
    "# 全局参数，修改后请重新初始化\n",
    "model_config.embedding_model_dict = {\n",
    "    \"ernie-tiny\": \"nghuyong/ernie-3.0-nano-zh\",\n",
    "    \"ernie-base\": \"nghuyong/ernie-3.0-base-zh\",\n",
    "    \"text2vec-base\": \"shibing624/text2vec-base-chinese\",\n",
    "    \"text2vec\": \"/home/mw/input/text2vec2538\",\n",
    "}\n",
    "model_config.llm_model_dict = {\n",
    "    \"chatyuan\": \"ClueAI/ChatYuan-large-v2\",\n",
    "    \"chatglm-6b-int4-qe\": \"THUDM/chatglm-6b-int4-qe\",\n",
    "    \"chatglm-6b-int4\": \"THUDM/chatglm-6b-int4\",\n",
    "    \"chatglm-6b-int8\": \"THUDM/chatglm-6b-int8\",\n",
    "    \"chatglm-6b\": \"/home/mw/input/ChatGLM6B6449\",\n",
    "}\n",
    "model_config.VS_ROOT_PATH = \"/home/mw/temp\"\n",
    "\n",
    "from chains.local_doc_qa import LocalDocQA\n",
    "\n",
    "EMBEDDING_MODEL = \"text2vec\" # embedding 模型，对应 embedding_model_dict\n",
    "VECTOR_SEARCH_TOP_K = 6\n",
    "LLM_MODEL = \"chatglm-6b\"     # LLM 模型名，对应 llm_model_dict\n",
    "LLM_HISTORY_LEN = 3\n",
    "DEVICE = \"cuda\" if torch.cuda.is_available() else \"mps\" if torch.backends.mps.is_available() else \"cpu\"\n",
    "\n",
    "local_doc_qa = LocalDocQA()\n",
    "\n",
    "local_doc_qa.init_cfg(llm_model=LLM_MODEL,\n",
    "                          embedding_model=EMBEDDING_MODEL,\n",
    "                          llm_history_len=LLM_HISTORY_LEN,\n",
    "                          top_k=VECTOR_SEARCH_TOP_K)"
   ]
  },
  {
   "cell_type": "code",
   "execution_count": 6,
   "metadata": {
    "collapsed": false,
    "id": "34B6C7A1392D40E18B7556AA41714E07",
    "jupyter": {
     "outputs_hidden": false
    },
    "notebookId": "643977aa48f7da1fee5bd294",
    "slideshow": {
     "slide_type": "slide"
    },
    "tags": []
   },
   "outputs": [
    {
     "name": "stdout",
     "output_type": "stream",
     "text": [
      "test_chatglm_readme.md 已成功加载\n",
      "文件加载完毕，正在生成向量库\n"
     ]
    },
    {
     "data": {
      "text/plain": [
       "'/home/mw/temp/test_chatglm_readme_FAISS_20230506_170416'"
      ]
     },
     "execution_count": 6,
     "metadata": {},
     "output_type": "execute_result"
    }
   ],
   "source": [
    "# 使用 ChatGLM 的 readme 进行测试\n",
    "vs_path, _ = local_doc_qa.init_knowledge_vector_store(\"/home/mw/project/test_chatglm_readme.md\")\n",
    "vs_path"
   ]
  },
  {
   "cell_type": "code",
   "execution_count": 7,
   "metadata": {
    "collapsed": false,
    "id": "B903EBFCF20A4BDF8F0ECB1676E9E47B",
    "jupyter": {
     "outputs_hidden": false
    },
    "notebookId": "643977aa48f7da1fee5bd294",
    "slideshow": {
     "slide_type": "slide"
    },
    "tags": []
   },
   "outputs": [
    {
     "data": {
      "text/markdown": [
       "ChatGLM-6B 是一个基于 GPT-3 的模型，它的主要特点是可以处理自然语言文本数据，并能够进行语言生成。但是，ChatGLM-6B 仍然存在一些局限性，具体体现如下：\n",
       "\n",
       "1. 模型容量限制：GPT-3 模型的训练需要大量计算资源，在实际应用中，模型容量有限，无法处理更复杂的自然语言任务。\n",
       "\n",
       "2. 语言知识不足：GPT-3 模型是一种基于预训练的模型，其语言知识的深度和广度可能不足以处理所有自然语言任务，需要结合更多的语言知识和算法进行改进。\n",
       "\n",
       "3. 模型稳定性不足：GPT-3 模型在训练过程中可能会出现不稳定的情况，尤其是在处理大规模数据时，需要不断改进模型的稳定性和鲁棒性。\n",
       "\n",
       "为了改进 ChatGLM-6B 的局限性，可以考虑以下几个方面：\n",
       "\n",
       "1. 利用更多的语言知识和算法：结合更多的语言知识和算法，如知识图谱、词向量、逻辑回归等，可以提高 ChatGLM-6B 的处理能力。\n",
       "\n",
       "2. 使用更多的数据：使用更多的数据，可以提高 ChatGLM-6B 的训练效果和稳定性。可以使用更复杂的数据集，如新闻文章、学术论文等，来训练 ChatGLM-6B 模型。\n",
       "\n",
       "3. 改进 GPT-3 模型：可以通过改进 GPT-3 模型，如使用更大的预训练数据集、使用更多的训练节点等，来提高 ChatGLM-6B 的处理能力。\n",
       "\n",
       "4. 结合其他模型：可以结合其他模型，如 GLM、BERT、Transformer 等，来提高 ChatGLM-6B 的处理能力。可以将 ChatGLM-6B 和 other 模型进行融合，形成一个更复杂的模型。\n",
       "\n",
       "5. 使用人工智能辅助技术：可以使用人工智能辅助技术，如自动化翻译、自然语言生成等，来改进 ChatGLM-6B 的应用范围和效率。"
      ],
      "text/plain": [
       "<IPython.core.display.Markdown object>"
      ]
     },
     "metadata": {},
     "output_type": "display_data"
    }
   ],
   "source": [
    "# 测试未进行本地知识库接入时的结果\n",
    "from IPython.display import display, Markdown, clear_output\n",
    "for resp, history in local_doc_qa.llm._call(\"chatglm-6b 的局限性具体体现在哪里，如何实现改进\"):\n",
    "    clear_output(wait=True)\n",
    "    display(Markdown(resp))"
   ]
  },
  {
   "cell_type": "code",
   "execution_count": 8,
   "metadata": {
    "collapsed": false,
    "id": "87350B1649AC4A94A5C164E433382FC0",
    "jupyter": {
     "outputs_hidden": false
    },
    "notebookId": "643977aa48f7da1fee5bd294",
    "slideshow": {
     "slide_type": "slide"
    },
    "tags": []
   },
   "outputs": [
    {
     "data": {
      "text/markdown": [
       "ChatGLM-6B 的局限性主要体现在以下几个方面：\n",
       "\n",
       "1. 容量限制：ChatGLM-6B 模型的容量较小，只能存储有限的数据，因此在面对复杂的任务时，可能会出现生成错误或不准确的情况。\n",
       "\n",
       "2. 知识储备不足：ChatGLM-6B 模型虽然具有一定的语言处理能力，但是其知识储备仍然有限，无法回答涉及到更深入或更高阶的问题。\n",
       "\n",
       "3. 逻辑推理能力较弱：ChatGLM-6B 模型对于复杂的逻辑推理任务可能无法胜任，例如数学、编程等任务。\n",
       "\n",
       "针对这些问题，可以采取以下改进措施：\n",
       "\n",
       "1. 扩展知识储备：通过引入更多的语言模型和知识图谱，扩展 ChatGLM-6B 的知识储备，提高其回答正确率。\n",
       "\n",
       "2. 提高容量：通过压缩量化模型、引入更多的训练数据等方式，提高 ChatGLM-6B 的容量，使其能够处理更复杂的任务。\n",
       "\n",
       "3. 加强逻辑推理能力：通过引入逻辑推理模块或更高级的推理方法，提高 ChatGLM-6B 的逻辑推理能力，解决其推理能力不足的问题。\n",
       "\n",
       "综上所述，针对 ChatGLM-6B 的局限性，需要采取多种改进措施，以提高其能力水平和解决特定问题的能力。"
      ],
      "text/plain": [
       "<IPython.core.display.Markdown object>"
      ]
     },
     "metadata": {},
     "output_type": "display_data"
    },
    {
     "data": {
      "text/plain": [
       "({'query': 'chatglm-6b 的局限性具体体现在哪里，如何实现改进',\n",
       "  'result': 'ChatGLM-6B 的局限性主要体现在以下几个方面：\\n\\n1. 容量限制：ChatGLM-6B 模型的容量较小，只能存储有限的数据，因此在面对复杂的任务时，可能会出现生成错误或不准确的情况。\\n\\n2. 知识储备不足：ChatGLM-6B 模型虽然具有一定的语言处理能力，但是其知识储备仍然有限，无法回答涉及到更深入或更高阶的问题。\\n\\n3. 逻辑推理能力较弱：ChatGLM-6B 模型对于复杂的逻辑推理任务可能无法胜任，例如数学、编程等任务。\\n\\n针对这些问题，可以采取以下改进措施：\\n\\n1. 扩展知识储备：通过引入更多的语言模型和知识图谱，扩展 ChatGLM-6B 的知识储备，提高其回答正确率。\\n\\n2. 提高容量：通过压缩量化模型、引入更多的训练数据等方式，提高 ChatGLM-6B 的容量，使其能够处理更复杂的任务。\\n\\n3. 加强逻辑推理能力：通过引入逻辑推理模块或更高级的推理方法，提高 ChatGLM-6B 的逻辑推理能力，解决其推理能力不足的问题。\\n\\n综上所述，针对 ChatGLM-6B 的局限性，需要采取多种改进措施，以提高其能力水平和解决特定问题的能力。',\n",
       "  'source_documents': [Document(page_content='ChatGLM-6BBlog • 🤗HF Repo • 🐦Twitter • 📃[GLM@ACL 22][GitHub] • 📃[GLM-130B@ICLR 23][GitHub]👋 加入我们的 Slack 和 WeChat介绍', metadata={'source': '/home/mw/project/test_chatglm_readme.md', 'page_number': 1, 'category': 'Title', 'score': 454.11597}),\n",
       "   Document(page_content='不过，由于 ChatGLM-6B 的规模较小，目前已知其具有相当多的局限性，如事实性/数学逻辑错误，可能生成有害/有偏见内容，较弱的上下文能力，自我认知混乱，以及对英文指示生成与中文指示完全矛盾的内容。请大家在使用前了解这些问题，以免产生误解。更大的基于 1300 亿参数 GLM-130B 的 ChatGLM 正在内测开发中。Read this in English.', metadata={'source': '/home/mw/project/test_chatglm_readme.md', 'page_number': 1, 'category': 'Title', 'score': 465.24695}),\n",
       "   Document(page_content='代码调用可以通过如下代码调用 ChatGLM-6B 模型来生成对话：```python', metadata={'source': '/home/mw/project/test_chatglm_readme.md', 'page_number': 1, 'category': 'Title', 'score': 513.2947}),\n",
       "   Document(page_content='模型量化会带来一定的性能损失，经过测试，ChatGLM-6B 在 4-bit 量化下仍然能够进行自然流畅的生成。使用 GPT-Q 等量化方案可以进一步压缩量化精度/提升相同量化精度下的模型性能，欢迎大家提出对应的 Pull Request。', metadata={'source': '/home/mw/project/test_chatglm_readme.md', 'page_number': 1, 'category': 'Title', 'score': 493.46997}),\n",
       "   Document(page_content='[2023/03/19] 增加流式输出接口 stream_chat，已更新到网页版和命令行 Demo。修复输出中的中文标点。增加量化后的模型 ChatGLM-6B-INT4ChatGLM-6B 示例以下是一些使用 web_demo.py 得到的示例截图。更多 ChatGLM-6B 的可能，等待你来探索发现！局限性由于 ChatGLM-6B 的小规模，其能力仍然有许多局限性。以下是我们目前发现的一些问题：模型容量较小：6B 的小容量，决定了其相对较弱的模型记忆和语言能力。在面对许多事实性知识任务时，ChatGLM-6B 可能会生成不正确的信息；它也不擅长逻辑类问题（如数学、编程）的解答。\\n    点击查看例子产生有害说明或有偏见的内容：ChatGLM-6B 只是一个初步与人类意图对齐的语言模型，可能会生成有害、有偏见的内容。（内容可能具有冒犯性，此处不展示）', metadata={'source': '/home/mw/project/test_chatglm_readme.md', 'page_number': 1, 'category': 'Title', 'score': 278.61996})]},\n",
       " [['chatglm-6b 的局限性具体体现在哪里，如何实现改进',\n",
       "   'ChatGLM-6B 的局限性主要体现在以下几个方面：\\n\\n1. 容量限制：ChatGLM-6B 模型的容量较小，只能存储有限的数据，因此在面对复杂的任务时，可能会出现生成错误或不准确的情况。\\n\\n2. 知识储备不足：ChatGLM-6B 模型虽然具有一定的语言处理能力，但是其知识储备仍然有限，无法回答涉及到更深入或更高阶的问题。\\n\\n3. 逻辑推理能力较弱：ChatGLM-6B 模型对于复杂的逻辑推理任务可能无法胜任，例如数学、编程等任务。\\n\\n针对这些问题，可以采取以下改进措施：\\n\\n1. 扩展知识储备：通过引入更多的语言模型和知识图谱，扩展 ChatGLM-6B 的知识储备，提高其回答正确率。\\n\\n2. 提高容量：通过压缩量化模型、引入更多的训练数据等方式，提高 ChatGLM-6B 的容量，使其能够处理更复杂的任务。\\n\\n3. 加强逻辑推理能力：通过引入逻辑推理模块或更高级的推理方法，提高 ChatGLM-6B 的逻辑推理能力，解决其推理能力不足的问题。\\n\\n综上所述，针对 ChatGLM-6B 的局限性，需要采取多种改进措施，以提高其能力水平和解决特定问题的能力。']])"
      ]
     },
     "execution_count": 8,
     "metadata": {},
     "output_type": "execute_result"
    }
   ],
   "source": [
    "# 接入知识库后同一问题的返回结果\n",
    "history = []\n",
    "display_answer(local_doc_qa, query=\"chatglm-6b 的局限性具体体现在哪里，如何实现改进\", vs_path=vs_path, history=history)"
   ]
  }
 ],
 "metadata": {
  "kernelspec": {
   "display_name": "Python 3 (ipykernel)",
   "language": "python",
   "name": "python3"
  },
  "language_info": {
   "codemirror_mode": {
    "name": "ipython",
    "version": 3
   },
   "file_extension": ".py",
   "mimetype": "text/x-python",
   "name": "python",
   "nbconvert_exporter": "python",
   "pygments_lexer": "ipython3",
   "version": "3.8.10"
  }
 },
 "nbformat": 4,
 "nbformat_minor": 4
}
