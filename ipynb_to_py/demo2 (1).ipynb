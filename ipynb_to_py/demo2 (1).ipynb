{
 "cells": [
  {
   "cell_type": "code",
   "execution_count": 2,
   "metadata": {
    "collapsed": true,
    "jupyter": {
     "outputs_hidden": true
    },
    "tags": []
   },
   "outputs": [
    {
     "name": "stdout",
     "output_type": "stream",
     "text": [
      "Looking in indexes: https://mirror.sjtu.edu.cn/pypi/web/simple\n",
      "Collecting langchain==0.0.146\n",
      "  Using cached https://mirror.sjtu.edu.cn/pypi-packages/30/03/4857f6a16c77bb090506d684d59aacc5ebf1722fa85748d7ea4d505b9ab3/langchain-0.0.146-py3-none-any.whl (600 kB)\n",
      "Collecting transformers==4.27.1\n",
      "  Using cached https://mirror.sjtu.edu.cn/pypi-packages/6d/9b/2f536f9e73390209e0b27b74691355dac494b7ec8154f3012fdc6debbae7/transformers-4.27.1-py3-none-any.whl (6.7 MB)\n",
      "Collecting unstructured[local-inference]\n",
      "  Using cached https://mirror.sjtu.edu.cn/pypi-packages/94/0e/7ad36a6cffedea7d6dccb491d98ca4307d4a9f776d6d29d1045a82d453fd/unstructured-0.7.1-py3-none-any.whl (1.3 MB)\n",
      "Collecting layoutparser[layoutmodels,tesseract]\n",
      "  Using cached https://mirror.sjtu.edu.cn/pypi-packages/08/cf/0bfbea1b2ace91af45e15bdec885e05992dc9150907a8398b3d305eddfd2/layoutparser-0.3.4-py3-none-any.whl (19.2 MB)\n",
      "Collecting nltk\n",
      "  Using cached https://mirror.sjtu.edu.cn/pypi-packages/a6/0a/0d20d2c0f16be91b9fa32a77b76c60f9baf6eba419e5ef5deca17af9c582/nltk-3.8.1-py3-none-any.whl (1.5 MB)\n",
      "Collecting sentence-transformers\n",
      "  Using cached https://mirror.sjtu.edu.cn/pypi-packages/20/9c/f07bd70d128fdb107bc02a0c702b9058b4fe147d0ba67b5a0f4c3cf15a54/sentence-transformers-2.2.2.tar.gz (85 kB)\n",
      "Requirement already satisfied: beautifulsoup4 in /root/miniconda3/lib/python3.8/site-packages (from -r requirements.txt (line 7)) (4.11.1)\n",
      "Collecting icetk\n",
      "  Using cached https://mirror.sjtu.edu.cn/pypi-packages/bf/8a/731927e0901273815b779e6ce0e081a95ecf78835ff80be30830505ae06c/icetk-0.0.7-py3-none-any.whl (16 kB)\n",
      "Collecting cpm_kernels\n",
      "  Using cached https://mirror.sjtu.edu.cn/pypi-packages/af/84/1831ce6ffa87b8fd4d9673c3595d0fc4e6631c0691eb43f406d3bf89b951/cpm_kernels-1.0.11-py3-none-any.whl (416 kB)\n",
      "Collecting faiss-cpu\n",
      "  Using cached https://mirror.sjtu.edu.cn/pypi-packages/7f/79/ee5293681d84383f5a071bf8f19629403ed7c0ba9472a0af8787c66c9ecc/faiss_cpu-1.7.4-cp38-cp38-manylinux_2_17_x86_64.manylinux2014_x86_64.whl (17.6 MB)\n",
      "Collecting accelerate\n",
      "  Using cached https://mirror.sjtu.edu.cn/pypi-packages/fe/03/08a2f414de4ce11fae93a079e4184a7397f34d956c894359ed801b89dae0/accelerate-0.19.0-py3-none-any.whl (219 kB)\n",
      "Collecting gradio==3.24.1\n",
      "  Using cached https://mirror.sjtu.edu.cn/pypi-packages/dd/8f/e074b8fefdc94ec0e398b69640c8af36cf4a31bf809c0fb8d788b8d70857/gradio-3.24.1-py3-none-any.whl (15.7 MB)\n",
      "Collecting async-timeout<5.0.0,>=4.0.0\n",
      "  Using cached https://mirror.sjtu.edu.cn/pypi-packages/d6/c1/8991e7c5385b897b8c020cdaad718c5b087a6626d1d11a23e1ea87e325a7/async_timeout-4.0.2-py3-none-any.whl (5.8 kB)\n",
      "Collecting openapi-schema-pydantic<2.0,>=1.2\n",
      "  Using cached https://mirror.sjtu.edu.cn/pypi-packages/a8/e7/22abb5a10733bf8142984201aedf27d4a58f5810ebdfe9679f9876c7bf4d/openapi_schema_pydantic-1.2.4-py3-none-any.whl (90 kB)\n",
      "Requirement already satisfied: tqdm>=4.48.0 in /root/miniconda3/lib/python3.8/site-packages (from langchain==0.0.146->-r requirements.txt (line 1)) (4.61.2)\n",
      "Requirement already satisfied: requests<3,>=2 in /root/miniconda3/lib/python3.8/site-packages (from langchain==0.0.146->-r requirements.txt (line 1)) (2.25.1)\n",
      "Requirement already satisfied: numpy<2,>=1 in /root/miniconda3/lib/python3.8/site-packages (from langchain==0.0.146->-r requirements.txt (line 1)) (1.23.1)\n",
      "Collecting dataclasses-json<0.6.0,>=0.5.7\n",
      "  Using cached https://mirror.sjtu.edu.cn/pypi-packages/58/7e/2042610dfc8121e8119ad8b94db496d8697e4b0ef7a6e378018a2bd84435/dataclasses_json-0.5.7-py3-none-any.whl (25 kB)\n",
      "Collecting SQLAlchemy<2,>=1\n",
      "  Using cached https://mirror.sjtu.edu.cn/pypi-packages/61/df/4e0f3d9a442a8bb75aeffa2fd780af11b8a82cf0b5eeb8574eb747b4f241/SQLAlchemy-1.4.48-cp38-cp38-manylinux_2_5_x86_64.manylinux1_x86_64.manylinux_2_17_x86_64.manylinux2014_x86_64.whl (1.6 MB)\n",
      "Collecting pydantic<2,>=1\n",
      "  Using cached https://mirror.sjtu.edu.cn/pypi-packages/f1/bd/0dad4908e5f693b7951b68f435139ec583f5eebb3d75505e1efa0f2284fe/pydantic-1.10.7-cp38-cp38-manylinux_2_17_x86_64.manylinux2014_x86_64.whl (3.2 MB)\n",
      "Collecting tenacity<9.0.0,>=8.1.0\n",
      "  Using cached https://mirror.sjtu.edu.cn/pypi-packages/e7/b0/c23bd61e1b32c9b96fbca996c87784e196a812da8d621d8d04851f6c8181/tenacity-8.2.2-py3-none-any.whl (24 kB)\n",
      "Collecting PyYAML>=5.4.1\n",
      "  Using cached https://mirror.sjtu.edu.cn/pypi-packages/d7/42/7ad4b6d67a16229496d4f6e74201bdbebcf4bc1e87d5a70c9297d4961bd2/PyYAML-6.0-cp38-cp38-manylinux_2_5_x86_64.manylinux1_x86_64.manylinux_2_12_x86_64.manylinux2010_x86_64.whl (701 kB)\n",
      "Collecting numexpr<3.0.0,>=2.8.4\n",
      "  Using cached https://mirror.sjtu.edu.cn/pypi-packages/90/7d/cb52ea57152908e2e0ca1391f1fd0218e9a256bfd1a8cbf38402c7639bab/numexpr-2.8.4-cp38-cp38-manylinux_2_17_x86_64.manylinux2014_x86_64.whl (381 kB)\n",
      "Collecting aiohttp<4.0.0,>=3.8.3\n",
      "  Using cached https://mirror.sjtu.edu.cn/pypi-packages/d2/e5/cef5eeb11d7e8bac830b3bee1c8311b19bf8e8a1c45fe14b876c70adcd06/aiohttp-3.8.4-cp38-cp38-manylinux_2_17_x86_64.manylinux2014_x86_64.whl (1.0 MB)\n",
      "Collecting huggingface-hub<1.0,>=0.11.0\n",
      "  Using cached https://mirror.sjtu.edu.cn/pypi-packages/58/34/c57b951aecd0248845932c1cfc15721237c50e463f26b0536673bcb76f4f/huggingface_hub-0.14.1-py3-none-any.whl (224 kB)\n",
      "Requirement already satisfied: packaging>=20.0 in /root/miniconda3/lib/python3.8/site-packages (from transformers==4.27.1->-r requirements.txt (line 2)) (21.0)\n",
      "Collecting regex!=2019.12.17\n",
      "  Using cached https://mirror.sjtu.edu.cn/pypi-packages/e0/7c/941e5c89bbbcd6ba460444c6ec029d54e7147741078f1c8300a8cbf8abb9/regex-2023.5.5-cp38-cp38-manylinux_2_17_x86_64.manylinux2014_x86_64.whl (771 kB)\n",
      "Collecting tokenizers!=0.11.3,<0.14,>=0.11.1\n",
      "  Using cached https://mirror.sjtu.edu.cn/pypi-packages/4e/f2/017bf57106b845e31ef6179bf204042720a53629cf599ef9464da990e0e5/tokenizers-0.13.3-cp38-cp38-manylinux_2_17_x86_64.manylinux2014_x86_64.whl (7.8 MB)\n",
      "Collecting filelock\n",
      "  Using cached https://mirror.sjtu.edu.cn/pypi-packages/ad/73/b094a662ae05cdc4ec95bc54e434e307986a5de5960166b8161b7c1373ee/filelock-3.12.0-py3-none-any.whl (10 kB)\n",
      "Collecting aiofiles\n",
      "  Using cached https://mirror.sjtu.edu.cn/pypi-packages/a8/76/635aa4f210d46ca105bfedd42d41f649b91d3e58422912726fc5e7965442/aiofiles-23.1.0-py3-none-any.whl (14 kB)\n",
      "Requirement already satisfied: markupsafe in /root/miniconda3/lib/python3.8/site-packages (from gradio==3.24.1->-r requirements.txt (line 12)) (2.1.1)\n",
      "Collecting python-multipart\n",
      "  Using cached https://mirror.sjtu.edu.cn/pypi-packages/b4/ff/b1e11d8bffb5e0e1b6d27f402eeedbeb9be6df2cdbc09356a1ae49806dbf/python_multipart-0.0.6-py3-none-any.whl (45 kB)\n",
      "Collecting httpx\n",
      "  Using cached https://mirror.sjtu.edu.cn/pypi-packages/4e/c1/692013f1e6115a061a14f6c7d05947515a1eb7b85ef6e9bf0ffbf0e92738/httpx-0.24.0-py3-none-any.whl (75 kB)\n",
      "Collecting altair>=4.2.0\n",
      "  Using cached https://mirror.sjtu.edu.cn/pypi-packages/2e/b8/49d377d9a7a85dc24e35d70384fc5ae7b19db6f8ee9d23d36337675c602e/altair-5.0.0-py3-none-any.whl (477 kB)\n",
      "Collecting orjson\n",
      "  Using cached https://mirror.sjtu.edu.cn/pypi-packages/1a/ad/023133cbd08249a040fb4c422f8f527d557c9984eab83b2b5c9558c258b6/orjson-3.8.12-cp38-cp38-manylinux_2_17_x86_64.manylinux2014_x86_64.whl (137 kB)\n",
      "Collecting pandas\n",
      "  Using cached https://mirror.sjtu.edu.cn/pypi-packages/16/75/924e3a52c35cb105a152d29622d0f06bb0f48a677e77ddd6e11ef0004164/pandas-2.0.1-cp38-cp38-manylinux_2_17_x86_64.manylinux2014_x86_64.whl (12.3 MB)\n",
      "Collecting uvicorn\n",
      "  Using cached https://mirror.sjtu.edu.cn/pypi-packages/ad/bd/d47ee02312640fcf26c7e1c807402d5c5eab468571153a94ec8f7ada0e46/uvicorn-0.22.0-py3-none-any.whl (58 kB)\n",
      "Collecting websockets>=10.0\n",
      "  Using cached https://mirror.sjtu.edu.cn/pypi-packages/58/05/2efb520317340ece74bfc4d88e8f011dd71a4e6c263000bfffb71a343685/websockets-11.0.3-cp38-cp38-manylinux_2_5_x86_64.manylinux1_x86_64.manylinux_2_17_x86_64.manylinux2014_x86_64.whl (130 kB)\n",
      "Requirement already satisfied: matplotlib in /root/miniconda3/lib/python3.8/site-packages (from gradio==3.24.1->-r requirements.txt (line 12)) (3.5.3)\n",
      "Collecting mdit-py-plugins<=0.3.3\n",
      "  Using cached https://mirror.sjtu.edu.cn/pypi-packages/33/eb/c358112e8265f827cf8228eda36cf2a720ad933f5ca66f47f808edf4bb34/mdit_py_plugins-0.3.3-py3-none-any.whl (50 kB)\n",
      "Requirement already satisfied: jinja2 in /root/miniconda3/lib/python3.8/site-packages (from gradio==3.24.1->-r requirements.txt (line 12)) (3.1.2)\n",
      "Requirement already satisfied: pillow in /root/miniconda3/lib/python3.8/site-packages (from gradio==3.24.1->-r requirements.txt (line 12)) (9.1.1)\n",
      "Collecting pydub\n",
      "  Using cached https://mirror.sjtu.edu.cn/pypi-packages/a6/53/d78dc063216e62fc55f6b2eebb447f6a4b0a59f55c8406376f76bf959b08/pydub-0.25.1-py2.py3-none-any.whl (32 kB)\n",
      "Collecting semantic-version\n",
      "  Using cached https://mirror.sjtu.edu.cn/pypi-packages/6a/23/8146aad7d88f4fcb3a6218f41a60f6c2d4e3a72de72da1825dc7c8f7877c/semantic_version-2.10.0-py2.py3-none-any.whl (15 kB)\n",
      "Requirement already satisfied: typing-extensions in /root/miniconda3/lib/python3.8/site-packages (from gradio==3.24.1->-r requirements.txt (line 12)) (4.2.0)\n",
      "Collecting gradio-client>=0.0.5\n",
      "  Using cached https://mirror.sjtu.edu.cn/pypi-packages/a4/bf/38c4d6e8aed06924935bfbbe0faa9eae8a7d574155d132310cce6422f11e/gradio_client-0.2.4-py3-none-any.whl (287 kB)\n",
      "Collecting markdown-it-py[linkify]>=2.0.0\n",
      "  Using cached https://mirror.sjtu.edu.cn/pypi-packages/bf/25/2d88e8feee8e055d015343f9b86e370a1ccbec546f2865c98397aaef24af/markdown_it_py-2.2.0-py3-none-any.whl (84 kB)\n",
      "Collecting fastapi\n",
      "  Using cached https://mirror.sjtu.edu.cn/pypi-packages/2e/84/d289e941ffec2f107d9097c8f7c2dbc874b0fc3fab9776aa3cc366d45ab2/fastapi-0.95.1-py3-none-any.whl (56 kB)\n",
      "Collecting ffmpy\n",
      "  Using cached https://mirror.sjtu.edu.cn/pypi-packages/bf/e2/947df4b3d666bfdd2b0c6355d215c45d2d40f929451cb29a8a2995b29788/ffmpy-0.3.0.tar.gz (4.8 kB)\n",
      "Requirement already satisfied: attrs>=17.3.0 in /root/miniconda3/lib/python3.8/site-packages (from aiohttp<4.0.0,>=3.8.3->langchain==0.0.146->-r requirements.txt (line 1)) (22.1.0)\n",
      "Collecting frozenlist>=1.1.1\n",
      "  Using cached https://mirror.sjtu.edu.cn/pypi-packages/ec/ab/a440db757401a1e8863c9abb374a77cb2884eda74ffbf555dedcf1fbe7f6/frozenlist-1.3.3-cp38-cp38-manylinux_2_5_x86_64.manylinux1_x86_64.manylinux_2_17_x86_64.manylinux2014_x86_64.whl (161 kB)\n",
      "Collecting yarl<2.0,>=1.0\n",
      "  Using cached https://mirror.sjtu.edu.cn/pypi-packages/c4/0c/7898c35ca4945fdd416e1dadeda985cc391e4f9298ae5e71c3a5cd88e82d/yarl-1.9.2-cp38-cp38-manylinux_2_17_x86_64.manylinux2014_x86_64.whl (266 kB)\n",
      "Collecting aiosignal>=1.1.2\n",
      "  Using cached https://mirror.sjtu.edu.cn/pypi-packages/76/ac/a7305707cb852b7e16ff80eaf5692309bde30e2b1100a1fcacdc8f731d97/aiosignal-1.3.1-py3-none-any.whl (7.6 kB)\n",
      "Collecting charset-normalizer<4.0,>=2.0\n",
      "  Using cached https://mirror.sjtu.edu.cn/pypi-packages/74/5f/361202de730532028458b729781b8435f320e31a622c27f30e25eec80513/charset_normalizer-3.1.0-cp38-cp38-manylinux_2_17_x86_64.manylinux2014_x86_64.whl (195 kB)\n",
      "Collecting multidict<7.0,>=4.5\n",
      "  Using cached https://mirror.sjtu.edu.cn/pypi-packages/fe/0c/8469202f8f4b0e65816f91c3febc4bda7316c995b59ecdf3b15c574f7a24/multidict-6.0.4-cp38-cp38-manylinux_2_17_x86_64.manylinux2014_x86_64.whl (121 kB)\n",
      "Requirement already satisfied: jsonschema>=3.0 in /root/miniconda3/lib/python3.8/site-packages (from altair>=4.2.0->gradio==3.24.1->-r requirements.txt (line 12)) (4.8.0)\n",
      "Collecting toolz\n",
      "  Using cached https://mirror.sjtu.edu.cn/pypi-packages/7f/5c/922a3508f5bda2892be3df86c74f9cf1e01217c2b1f8a0ac4841d903e3e9/toolz-0.12.0-py3-none-any.whl (55 kB)\n",
      "Collecting marshmallow-enum<2.0.0,>=1.5.1\n",
      "  Using cached https://mirror.sjtu.edu.cn/pypi-packages/c6/59/ef3a3dc499be447098d4a89399beb869f813fee1b5a57d5d79dee2c1bf51/marshmallow_enum-1.5.1-py2.py3-none-any.whl (4.2 kB)\n",
      "Collecting marshmallow<4.0.0,>=3.3.0\n",
      "  Using cached https://mirror.sjtu.edu.cn/pypi-packages/ae/53/980a20d789029329fdf1546c315f9c92bf862c7f3e7294e3667afcc464f5/marshmallow-3.19.0-py3-none-any.whl (49 kB)\n",
      "Collecting typing-inspect>=0.4.0\n",
      "  Using cached https://mirror.sjtu.edu.cn/pypi-packages/be/01/59b743dca816c4b6ca891b9e0f84d20513cd61bdbbaa8615de8f5aab68c1/typing_inspect-0.8.0-py3-none-any.whl (8.7 kB)\n",
      "Collecting fsspec\n",
      "  Using cached https://mirror.sjtu.edu.cn/pypi-packages/ec/4e/397b234a369df06ec782666fcdf9791d125ca6de48729814b381af8c6c03/fsspec-2023.5.0-py3-none-any.whl (160 kB)\n",
      "Requirement already satisfied: pyrsistent!=0.17.0,!=0.17.1,!=0.17.2,>=0.14.0 in /root/miniconda3/lib/python3.8/site-packages (from jsonschema>=3.0->altair>=4.2.0->gradio==3.24.1->-r requirements.txt (line 12)) (0.18.1)\n",
      "Requirement already satisfied: importlib-resources>=1.4.0 in /root/miniconda3/lib/python3.8/site-packages (from jsonschema>=3.0->altair>=4.2.0->gradio==3.24.1->-r requirements.txt (line 12)) (5.9.0)\n",
      "Requirement already satisfied: zipp>=3.1.0 in /root/miniconda3/lib/python3.8/site-packages (from importlib-resources>=1.4.0->jsonschema>=3.0->altair>=4.2.0->gradio==3.24.1->-r requirements.txt (line 12)) (3.8.1)\n",
      "Collecting mdurl~=0.1\n",
      "  Using cached https://mirror.sjtu.edu.cn/pypi-packages/b3/38/89ba8ad64ae25be8de66a6d463314cf1eb366222074cfda9ee839c56a4b4/mdurl-0.1.2-py3-none-any.whl (10.0 kB)\n",
      "Collecting linkify-it-py<3,>=1\n",
      "  Using cached https://mirror.sjtu.edu.cn/pypi-packages/1f/1a/16b0d2f66601ba3081f1d4177087c79fd1f11d17706ee01d373e4ba8e00d/linkify_it_py-2.0.2-py3-none-any.whl (19 kB)\n",
      "Collecting uc-micro-py\n",
      "  Using cached https://mirror.sjtu.edu.cn/pypi-packages/d1/1c/5aeb94aa980da111e4fd0c0fbe5ad95ed5bf9bd957f8e2a6178b85ff4da8/uc_micro_py-1.0.2-py3-none-any.whl (6.2 kB)\n",
      "Requirement already satisfied: pyparsing>=2.0.2 in /root/miniconda3/lib/python3.8/site-packages (from packaging>=20.0->transformers==4.27.1->-r requirements.txt (line 2)) (3.0.9)\n",
      "Collecting python-dateutil>=2.8.2\n",
      "  Using cached https://mirror.sjtu.edu.cn/pypi-packages/36/7a/87837f39d0296e723bb9b62bbb257d0355c7f6128853c78955f57342a56d/python_dateutil-2.8.2-py2.py3-none-any.whl (247 kB)\n",
      "Collecting tzdata>=2022.1\n",
      "  Using cached https://mirror.sjtu.edu.cn/pypi-packages/d5/fb/a79efcab32b8a1f1ddca7f35109a50e4a80d42ac1c9187ab46522b2407d7/tzdata-2023.3-py2.py3-none-any.whl (341 kB)\n",
      "Requirement already satisfied: pytz>=2020.1 in /root/miniconda3/lib/python3.8/site-packages (from pandas->gradio==3.24.1->-r requirements.txt (line 12)) (2022.2.1)\n",
      "Requirement already satisfied: six>=1.5 in /root/miniconda3/lib/python3.8/site-packages (from python-dateutil>=2.8.2->pandas->gradio==3.24.1->-r requirements.txt (line 12)) (1.16.0)\n",
      "Requirement already satisfied: certifi>=2017.4.17 in /root/miniconda3/lib/python3.8/site-packages (from requests<3,>=2->langchain==0.0.146->-r requirements.txt (line 1)) (2021.5.30)\n",
      "Requirement already satisfied: urllib3<1.27,>=1.21.1 in /root/miniconda3/lib/python3.8/site-packages (from requests<3,>=2->langchain==0.0.146->-r requirements.txt (line 1)) (1.26.6)\n",
      "Requirement already satisfied: idna<3,>=2.5 in /root/miniconda3/lib/python3.8/site-packages (from requests<3,>=2->langchain==0.0.146->-r requirements.txt (line 1)) (2.10)\n",
      "Requirement already satisfied: chardet<5,>=3.0.2 in /root/miniconda3/lib/python3.8/site-packages (from requests<3,>=2->langchain==0.0.146->-r requirements.txt (line 1)) (4.0.0)\n",
      "Collecting greenlet!=0.4.17\n",
      "  Using cached https://mirror.sjtu.edu.cn/pypi-packages/7c/5f/ee39d27a08ae6b93f14faa953a6593dad888df75ae55ff479135e64ad4fe/greenlet-2.0.2-cp38-cp38-manylinux_2_17_x86_64.manylinux2014_x86_64.whl (618 kB)\n",
      "Collecting mypy-extensions>=0.3.0\n",
      "  Using cached https://mirror.sjtu.edu.cn/pypi-packages/2a/e2/5d3f6ada4297caebe1a2add3b126fe800c96f56dbe5d1988a2cbe0b267aa/mypy_extensions-1.0.0-py3-none-any.whl (4.7 kB)\n",
      "Collecting joblib\n",
      "  Using cached https://mirror.sjtu.edu.cn/pypi-packages/91/d4/3b4c8e5a30604df4c7518c562d4bf0502f2fa29221459226e140cf846512/joblib-1.2.0-py3-none-any.whl (297 kB)\n",
      "Collecting click\n",
      "  Using cached https://mirror.sjtu.edu.cn/pypi-packages/c2/f1/df59e28c642d583f7dacffb1e0965d0e00b218e0186d7858ac5233dce840/click-8.1.3-py3-none-any.whl (96 kB)\n",
      "Collecting torch>=1.6.0\n",
      "  Using cached https://mirror.sjtu.edu.cn/pypi-packages/96/28/026dc037f177d53558477931677b120f649dd5a0dcdc4b44dc38b3d75711/torch-2.0.1-cp38-cp38-manylinux1_x86_64.whl (619.9 MB)\n",
      "Collecting torchvision\n",
      "  Using cached https://mirror.sjtu.edu.cn/pypi-packages/31/71/a362404ae76eaac714f704cb3338d8bfdf3692004a0e0799e002260a1391/torchvision-0.15.2-cp38-cp38-manylinux1_x86_64.whl (33.8 MB)\n",
      "Collecting scikit-learn\n",
      "  Using cached https://mirror.sjtu.edu.cn/pypi-packages/51/d1/58faa69e97ee60e99dcdde5df43f17f0887eda5de9eafb6534a51b63d791/scikit_learn-1.2.2-cp38-cp38-manylinux_2_17_x86_64.manylinux2014_x86_64.whl (9.8 MB)\n",
      "Collecting scipy\n",
      "  Using cached https://mirror.sjtu.edu.cn/pypi-packages/69/f0/fb07a9548e48b687b8bf2fa81d71aba9cfc548d365046ca1c791e24db99d/scipy-1.10.1-cp38-cp38-manylinux_2_17_x86_64.manylinux2014_x86_64.whl (34.5 MB)\n",
      "Collecting sentencepiece\n",
      "  Using cached https://mirror.sjtu.edu.cn/pypi-packages/c9/58/4fbd3f33a38c9809fedf57bbef7e086b9909d6807148f35d68c0c90896d3/sentencepiece-0.1.99-cp38-cp38-manylinux_2_17_x86_64.manylinux2014_x86_64.whl (1.3 MB)\n",
      "Collecting networkx\n",
      "  Using cached https://mirror.sjtu.edu.cn/pypi-packages/a8/05/9d4f9b78ead6b2661d6e8ea772e111fc4a9fbd866ad0c81906c11206b55e/networkx-3.1-py3-none-any.whl (2.1 MB)\n",
      "Collecting nvidia-cudnn-cu11==8.5.0.96\n",
      "  Using cached https://mirror.sjtu.edu.cn/pypi-packages/dc/30/66d4347d6e864334da5bb1c7571305e501dcb11b9155971421bb7bb5315f/nvidia_cudnn_cu11-8.5.0.96-2-py3-none-manylinux1_x86_64.whl (557.1 MB)\n",
      "Collecting nvidia-cufft-cu11==10.9.0.58\n",
      "  Downloading https://mirror.sjtu.edu.cn/pypi-packages/74/79/b912a77e38e41f15a0581a59f5c3548d1ddfdda3225936fb67c342719e7a/nvidia_cufft_cu11-10.9.0.58-py3-none-manylinux1_x86_64.whl (168.4 MB)\n",
      "\u001b[K     |████████████████████████████████| 168.4 MB 164 kB/s eta 0:00:011\n",
      "\u001b[?25hCollecting nvidia-cuda-runtime-cu11==11.7.99\n",
      "  Using cached https://mirror.sjtu.edu.cn/pypi-packages/36/92/89cf558b514125d2ebd8344dd2f0533404b416486ff681d5434a5832a019/nvidia_cuda_runtime_cu11-11.7.99-py3-none-manylinux1_x86_64.whl (849 kB)\n",
      "Collecting nvidia-cuda-nvrtc-cu11==11.7.99\n",
      "  Using cached https://mirror.sjtu.edu.cn/pypi-packages/ef/25/922c5996aada6611b79b53985af7999fc629aee1d5d001b6a22431e18fec/nvidia_cuda_nvrtc_cu11-11.7.99-2-py3-none-manylinux1_x86_64.whl (21.0 MB)\n",
      "Collecting nvidia-cublas-cu11==11.10.3.66\n",
      "  Using cached https://mirror.sjtu.edu.cn/pypi-packages/ce/41/fdeb62b5437996e841d83d7d2714ca75b886547ee8017ee2fe6ea409d983/nvidia_cublas_cu11-11.10.3.66-py3-none-manylinux1_x86_64.whl (317.1 MB)\n",
      "Collecting nvidia-curand-cu11==10.2.10.91\n",
      "  Using cached https://mirror.sjtu.edu.cn/pypi-packages/8f/11/af78d54b2420e64a4dd19e704f5bb69dcb5a6a3138b4465d6a48cdf59a21/nvidia_curand_cu11-10.2.10.91-py3-none-manylinux1_x86_64.whl (54.6 MB)\n",
      "Collecting nvidia-cusparse-cu11==11.7.4.91\n",
      "  Using cached https://mirror.sjtu.edu.cn/pypi-packages/ea/6f/6d032cc1bb7db88a989ddce3f4968419a7edeafda362847f42f614b1f845/nvidia_cusparse_cu11-11.7.4.91-py3-none-manylinux1_x86_64.whl (173.2 MB)\n",
      "Collecting sympy\n",
      "  Using cached https://mirror.sjtu.edu.cn/pypi-packages/d2/05/e6600db80270777c4a64238a98d442f0fd07cc8915be2a1c16da7f2b9e74/sympy-1.12-py3-none-any.whl (5.7 MB)\n",
      "Collecting nvidia-cusolver-cu11==11.4.0.1\n",
      "  Using cached https://mirror.sjtu.edu.cn/pypi-packages/3e/77/66149e3153b19312fb782ea367f3f950123b93916a45538b573fe373570a/nvidia_cusolver_cu11-11.4.0.1-2-py3-none-manylinux1_x86_64.whl (102.6 MB)\n",
      "Collecting nvidia-nccl-cu11==2.14.3\n",
      "  Using cached https://mirror.sjtu.edu.cn/pypi-packages/55/92/914cdb650b6a5d1478f83148597a25e90ea37d739bd563c5096b0e8a5f43/nvidia_nccl_cu11-2.14.3-py3-none-manylinux1_x86_64.whl (177.1 MB)\n",
      "Collecting nvidia-nvtx-cu11==11.7.91\n",
      "  Using cached https://mirror.sjtu.edu.cn/pypi-packages/23/d5/09493ff0e64fd77523afbbb075108f27a13790479efe86b9ffb4587671b5/nvidia_nvtx_cu11-11.7.91-py3-none-manylinux1_x86_64.whl (98 kB)\n",
      "Collecting nvidia-cuda-cupti-cu11==11.7.101\n",
      "  Using cached https://mirror.sjtu.edu.cn/pypi-packages/e6/9d/dd0cdcd800e642e3c82ee3b5987c751afd4f3fb9cc2752517f42c3bc6e49/nvidia_cuda_cupti_cu11-11.7.101-py3-none-manylinux1_x86_64.whl (11.8 MB)\n",
      "Collecting triton==2.0.0\n",
      "  Using cached https://mirror.sjtu.edu.cn/pypi-packages/a6/4b/28142a3c70621cb3398ac626c276268ca87af50a3fa43667a834fa5d13bf/triton-2.0.0-1-cp38-cp38-manylinux2014_x86_64.manylinux_2_17_x86_64.whl (63.2 MB)\n",
      "Requirement already satisfied: setuptools in /root/miniconda3/lib/python3.8/site-packages (from nvidia-cublas-cu11==11.10.3.66->torch>=1.6.0->sentence-transformers->-r requirements.txt (line 6)) (52.0.0.post20210125)\n",
      "Requirement already satisfied: wheel in /root/miniconda3/lib/python3.8/site-packages (from nvidia-cublas-cu11==11.10.3.66->torch>=1.6.0->sentence-transformers->-r requirements.txt (line 6)) (0.36.2)\n",
      "Collecting lit\n",
      "  Downloading https://mirror.sjtu.edu.cn/pypi-packages/75/e8/6deb4cc017266af4b8c5d370de340d917b0bbcbce3cbaf4ec1cfba7b0ca7/lit-16.0.3.tar.gz (138 kB)\n",
      "\u001b[K     |████████████████████████████████| 138 kB 1.2 MB/s eta 0:00:01\n",
      "\u001b[?25hCollecting cmake\n",
      "  Downloading https://mirror.sjtu.edu.cn/pypi-packages/1d/de/48d485d12285cd53e322fb7bdb263778820984d4be54c2bb2fb5eced5e87/cmake-3.26.3-py2.py3-none-manylinux2014_x86_64.manylinux_2_17_x86_64.whl (24.0 MB)\n",
      "\u001b[K     |████████████████████████████████| 24.0 MB 4.9 MB/s eta 0:00:01\n",
      "\u001b[?25hRequirement already satisfied: soupsieve>1.2 in /root/miniconda3/lib/python3.8/site-packages (from beautifulsoup4->-r requirements.txt (line 7)) (2.3.2.post1)\n",
      "Collecting protobuf<3.19\n",
      "  Downloading https://mirror.sjtu.edu.cn/pypi-packages/c3/5c/5b6dcee0dcbd37862ef54023c6df405072c71cd06f5815b159a57f2c5070/protobuf-3.18.3-cp38-cp38-manylinux_2_17_x86_64.manylinux2014_x86_64.whl (1.1 MB)\n",
      "\u001b[K     |████████████████████████████████| 1.1 MB 1.8 MB/s eta 0:00:01\n",
      "\u001b[?25hRequirement already satisfied: psutil in /root/miniconda3/lib/python3.8/site-packages (from accelerate->-r requirements.txt (line 11)) (5.9.1)\n",
      "Collecting starlette<0.27.0,>=0.26.1\n",
      "  Downloading https://mirror.sjtu.edu.cn/pypi-packages/12/48/f9c1ec6bee313aba264fbc2483d9070f4e4526f2538e2b55b1e4a391d938/starlette-0.26.1-py3-none-any.whl (66 kB)\n",
      "\u001b[K     |████████████████████████████████| 66 kB 20.8 MB/s eta 0:00:01\n",
      "\u001b[?25hRequirement already satisfied: anyio<5,>=3.4.0 in /root/miniconda3/lib/python3.8/site-packages (from starlette<0.27.0,>=0.26.1->fastapi->gradio==3.24.1->-r requirements.txt (line 12)) (3.6.1)\n",
      "Requirement already satisfied: sniffio>=1.1 in /root/miniconda3/lib/python3.8/site-packages (from anyio<5,>=3.4.0->starlette<0.27.0,>=0.26.1->fastapi->gradio==3.24.1->-r requirements.txt (line 12)) (1.2.0)\n",
      "Collecting httpcore<0.18.0,>=0.15.0\n",
      "  Downloading https://mirror.sjtu.edu.cn/pypi-packages/6c/39/05ebe30333ec66bba849d3c25c85d759b94c43bb03b2222de051c50d4390/httpcore-0.17.0-py3-none-any.whl (70 kB)\n",
      "\u001b[K     |████████████████████████████████| 70 kB 1.1 MB/s  eta 0:00:01\n",
      "\u001b[?25hCollecting h11<0.15,>=0.13\n",
      "  Downloading https://mirror.sjtu.edu.cn/pypi-packages/95/04/ff642e65ad6b90db43e668d70ffb6736436c7ce41fcc549f4e9472234127/h11-0.14.0-py3-none-any.whl (58 kB)\n",
      "\u001b[K     |████████████████████████████████| 58 kB 22.1 MB/s eta 0:00:01\n",
      "\u001b[?25hCollecting pdfplumber\n",
      "  Downloading https://mirror.sjtu.edu.cn/pypi-packages/7b/76/f856998de5632b3e9af11475ec8054680a17c074b265778b9e64635e2f27/pdfplumber-0.9.0-py3-none-any.whl (46 kB)\n",
      "\u001b[K     |████████████████████████████████| 46 kB 14.7 MB/s eta 0:00:01\n",
      "\u001b[?25hCollecting iopath\n",
      "  Downloading https://mirror.sjtu.edu.cn/pypi-packages/72/73/b3d451dfc523756cf177d3ebb0af76dc7751b341c60e2a21871be400ae29/iopath-0.1.10.tar.gz (42 kB)\n",
      "\u001b[K     |████████████████████████████████| 42 kB 3.6 MB/s  eta 0:00:01\n",
      "\u001b[?25hCollecting opencv-python\n",
      "  Downloading https://mirror.sjtu.edu.cn/pypi-packages/29/35/a791b550cdeb4efd8b66e921748f2aff938868a29794489d93575d604a02/opencv_python-4.7.0.72-cp37-abi3-manylinux_2_17_x86_64.manylinux2014_x86_64.whl (61.8 MB)\n",
      "\u001b[K     |████████████████████████████████| 61.8 MB 12.4 MB/s eta 0:00:01\n",
      "\u001b[?25hCollecting pdf2image\n",
      "  Downloading https://mirror.sjtu.edu.cn/pypi-packages/e2/8c/37a7467d88c47e435429c147020c2fb53206fabfc44b8b72f9728e79ce1a/pdf2image-1.16.3-py3-none-any.whl (11 kB)\n",
      "Collecting pytesseract\n",
      "  Downloading https://mirror.sjtu.edu.cn/pypi-packages/c5/54/ec007336f38d2d4ce61f3544af3e6855dacbf04a1ac8294f10cabe81146f/pytesseract-0.3.10-py3-none-any.whl (14 kB)\n",
      "Collecting effdet\n",
      "  Downloading https://mirror.sjtu.edu.cn/pypi-packages/a7/6d/c30b8a82569b88a2a222fa9af003c00f984014f2a36e997c585341eaebbe/effdet-0.3.0-py3-none-any.whl (112 kB)\n",
      "\u001b[K     |████████████████████████████████| 112 kB 70.5 MB/s eta 0:00:01\n",
      "\u001b[?25hCollecting omegaconf>=2.0\n",
      "  Downloading https://mirror.sjtu.edu.cn/pypi-packages/e3/94/1843518e420fa3ed6919835845df698c7e27e183cb997394e4a670973a65/omegaconf-2.3.0-py3-none-any.whl (79 kB)\n",
      "\u001b[K     |████████████████████████████████| 79 kB 159 kB/s eta 0:00:01\n",
      "\u001b[?25hCollecting timm>=0.4.12\n",
      "  Downloading https://mirror.sjtu.edu.cn/pypi-packages/29/90/94f5deb8d76e24a89813aef95e8809ca8fd7414490428480eda19b133d4a/timm-0.9.2-py3-none-any.whl (2.2 MB)\n",
      "\u001b[K     |████████████████████████████████| 2.2 MB 1.8 MB/s eta 0:00:01\n",
      "\u001b[?25hCollecting pycocotools>=2.0.2\n",
      "  Downloading https://mirror.sjtu.edu.cn/pypi-packages/ef/c6/90220be3b39fbc4cbd203775ca47dd8dc97fae06fbd2b500637395621b7c/pycocotools-2.0.6.tar.gz (24 kB)\n",
      "  Installing build dependencies ... \u001b[?25ldone\n",
      "\u001b[?25h  Getting requirements to build wheel ... \u001b[?25ldone\n",
      "\u001b[?25h    Preparing wheel metadata ... \u001b[?25ldone\n",
      "\u001b[?25hCollecting antlr4-python3-runtime==4.9.*\n",
      "  Downloading https://mirror.sjtu.edu.cn/pypi-packages/3e/38/7859ff46355f76f8d19459005ca000b6e7012f2f1ca597746cbcd1fbfe5e/antlr4-python3-runtime-4.9.3.tar.gz (117 kB)\n",
      "\u001b[K     |████████████████████████████████| 117 kB 1.2 MB/s eta 0:00:01\n",
      "\u001b[?25hRequirement already satisfied: kiwisolver>=1.0.1 in /root/miniconda3/lib/python3.8/site-packages (from matplotlib->gradio==3.24.1->-r requirements.txt (line 12)) (1.4.4)\n",
      "Requirement already satisfied: cycler>=0.10 in /root/miniconda3/lib/python3.8/site-packages (from matplotlib->gradio==3.24.1->-r requirements.txt (line 12)) (0.11.0)\n",
      "Requirement already satisfied: fonttools>=4.22.0 in /root/miniconda3/lib/python3.8/site-packages (from matplotlib->gradio==3.24.1->-r requirements.txt (line 12)) (4.37.1)\n",
      "Collecting safetensors\n",
      "  Downloading https://mirror.sjtu.edu.cn/pypi-packages/85/50/60e0407a8d81ef05478c513778499dc569c2f3662ee959a28548c533e3f5/safetensors-0.3.1-cp38-cp38-manylinux_2_17_x86_64.manylinux2014_x86_64.whl (1.3 MB)\n",
      "\u001b[K     |████████████████████████████████| 1.3 MB 1.2 MB/s eta 0:00:01\n",
      "\u001b[?25hCollecting portalocker\n",
      "  Downloading https://mirror.sjtu.edu.cn/pypi-packages/8c/df/d4f711d168524f5aebd7fb30969eaa31e3048cf8979688cde3b08f6e5eb8/portalocker-2.7.0-py2.py3-none-any.whl (15 kB)\n",
      "Collecting pdfminer.six==20221105\n",
      "  Downloading https://mirror.sjtu.edu.cn/pypi-packages/46/68/b3fb5f073bcd3df9143a3520289c147351bfa3c1b096d44081f38fd1c247/pdfminer.six-20221105-py3-none-any.whl (5.6 MB)\n",
      "\u001b[K     |████████████████████████████████| 5.6 MB 3.8 MB/s eta 0:00:01\n",
      "\u001b[?25hCollecting Wand>=0.6.10\n",
      "  Downloading https://mirror.sjtu.edu.cn/pypi-packages/fa/a8/f76bbafa1a42f1ed45ece3c2b2e4f70a5d6cdb5f38bb0780db8efcdc58ab/Wand-0.6.11-py2.py3-none-any.whl (143 kB)\n",
      "\u001b[K     |████████████████████████████████| 143 kB 3.7 MB/s eta 0:00:011\n",
      "\u001b[?25hCollecting cryptography>=36.0.0\n",
      "  Downloading https://mirror.sjtu.edu.cn/pypi-packages/8e/34/f54dbfc6d12fa34a50f03bf01319d585e7e9bddd68ad28299b4998e3098b/cryptography-40.0.2-cp36-abi3-manylinux_2_28_x86_64.whl (3.7 MB)\n",
      "\u001b[K     |████████████████████████████████| 3.7 MB 1.2 MB/s eta 0:00:01\n",
      "\u001b[?25hRequirement already satisfied: cffi>=1.12 in /root/miniconda3/lib/python3.8/site-packages (from cryptography>=36.0.0->pdfminer.six==20221105->pdfplumber->layoutparser[layoutmodels,tesseract]->-r requirements.txt (line 4)) (1.14.6)\n",
      "Requirement already satisfied: pycparser in /root/miniconda3/lib/python3.8/site-packages (from cffi>=1.12->cryptography>=36.0.0->pdfminer.six==20221105->pdfplumber->layoutparser[layoutmodels,tesseract]->-r requirements.txt (line 4)) (2.20)\n",
      "Collecting packaging>=20.0\n",
      "  Downloading https://mirror.sjtu.edu.cn/pypi-packages/ab/c3/57f0601a2d4fe15de7a553c00adbc901425661bf048f2a22dfc500caf121/packaging-23.1-py3-none-any.whl (48 kB)\n",
      "\u001b[K     |████████████████████████████████| 48 kB 1.4 MB/s  eta 0:00:01\n",
      "\u001b[?25hCollecting threadpoolctl>=2.0.0\n",
      "  Downloading https://mirror.sjtu.edu.cn/pypi-packages/61/cf/6e354304bcb9c6413c4e02a747b600061c21d38ba51e7e544ac7bc66aecc/threadpoolctl-3.1.0-py3-none-any.whl (14 kB)\n",
      "Collecting mpmath>=0.19\n",
      "  Downloading https://mirror.sjtu.edu.cn/pypi-packages/43/e3/7d92a15f894aa0c9c4b49b8ee9ac9850d6e63b03c9c32c0367a13ae62209/mpmath-1.3.0-py3-none-any.whl (536 kB)\n",
      "\u001b[K     |████████████████████████████████| 536 kB 1.8 MB/s eta 0:00:01\n",
      "\u001b[?25hCollecting python-pptx\n",
      "  Downloading https://mirror.sjtu.edu.cn/pypi-packages/eb/c3/bd8f2316a790291ef5aa5225c740fa60e2cf754376e90cb1a44fde056830/python-pptx-0.6.21.tar.gz (10.1 MB)\n",
      "\u001b[K     |████████████████████████████████| 10.1 MB 3.9 MB/s eta 0:00:01\n",
      "\u001b[?25hCollecting python-magic\n",
      "  Downloading https://mirror.sjtu.edu.cn/pypi-packages/6c/73/9f872cb81fc5c3bb48f7227872c28975f998f3e7c2b1c16e95e6432bbb90/python_magic-0.4.27-py2.py3-none-any.whl (13 kB)\n",
      "Collecting pypandoc\n",
      "  Downloading https://mirror.sjtu.edu.cn/pypi-packages/59/ac/1380f19d6bab8772b4e40d881091039a8c592d66382bd4c865fa21373bad/pypandoc-1.11-py3-none-any.whl (20 kB)\n",
      "Collecting openpyxl\n",
      "  Downloading https://mirror.sjtu.edu.cn/pypi-packages/6a/94/a59521de836ef0da54aaf50da6c4da8fb4072fb3053fa71f052fd9399e7a/openpyxl-3.1.2-py2.py3-none-any.whl (249 kB)\n",
      "\u001b[K     |████████████████████████████████| 249 kB 3.6 MB/s eta 0:00:01\n",
      "\u001b[?25hRequirement already satisfied: lxml in /root/miniconda3/lib/python3.8/site-packages (from unstructured[local-inference]->-r requirements.txt (line 3)) (4.8.0)\n",
      "Collecting argilla\n",
      "  Downloading https://mirror.sjtu.edu.cn/pypi-packages/b0/ee/547a591f96ec467c7084120d554294f73e878775ce81a5cd28f542a56208/argilla-1.7.0-py3-none-any.whl (2.2 MB)\n",
      "\u001b[K     |████████████████████████████████| 2.2 MB 78.1 MB/s eta 0:00:01\n",
      "\u001b[?25hCollecting python-docx\n",
      "  Downloading https://mirror.sjtu.edu.cn/pypi-packages/8b/a0/52729ce4aa026f31b74cc877be1d11e4ddeaa361dc7aebec148171644b33/python-docx-0.8.11.tar.gz (5.6 MB)\n",
      "\u001b[K     |████████████████████████████████| 5.6 MB 3.7 MB/s eta 0:00:01\n",
      "\u001b[?25hCollecting msg-parser\n",
      "  Downloading https://mirror.sjtu.edu.cn/pypi-packages/15/8b/5738b32acc6acdf92d04d5e691bf70a379e78264e55843542e1888d4a10e/msg_parser-1.2.0-py2.py3-none-any.whl (101 kB)\n",
      "\u001b[K     |████████████████████████████████| 101 kB 683 kB/s ta 0:00:011\n",
      "\u001b[?25hRequirement already satisfied: markdown in /root/miniconda3/lib/python3.8/site-packages (from unstructured[local-inference]->-r requirements.txt (line 3)) (3.4.1)\n",
      "Collecting xlrd\n",
      "  Downloading https://mirror.sjtu.edu.cn/pypi-packages/a6/0c/c2a72d51fe56e08a08acc85d13013558a2d793028ae7385448a6ccdfae64/xlrd-2.0.1-py2.py3-none-any.whl (96 kB)\n",
      "\u001b[K     |████████████████████████████████| 96 kB 3.2 MB/s eta 0:00:0101\n",
      "\u001b[?25hCollecting unstructured[local-inference]\n",
      "  Downloading https://mirror.sjtu.edu.cn/pypi-packages/ae/f7/da376de8562a7995d3a1a4127199e03295b7decc5605b364574fa1ede5ed/unstructured-0.7.0-py3-none-any.whl (1.3 MB)\n",
      "\u001b[K     |████████████████████████████████| 1.3 MB 90.3 MB/s eta 0:00:01\n",
      "\u001b[?25h  Downloading https://mirror.sjtu.edu.cn/pypi-packages/7c/e0/89a429393b75a04187b3f2a2bd5ad58c52203fcd1d81816e3865284c29f6/unstructured-0.6.11-py3-none-any.whl (1.3 MB)\n",
      "\u001b[K     |████████████████████████████████| 1.3 MB 90.7 MB/s eta 0:00:01\n",
      "\u001b[?25hCollecting unstructured-inference==0.4.4\n",
      "  Downloading https://mirror.sjtu.edu.cn/pypi-packages/be/60/1ec6ac3b5457741ff78750d46ecc64e012c9d7fd89865d2f263825ddd7c2/unstructured_inference-0.4.4.tar.gz (33 kB)\n",
      "Collecting onnxruntime\n",
      "  Downloading https://mirror.sjtu.edu.cn/pypi-packages/3c/6d/e17bcd234194606803ebf7223ef58a8fc69d8f6e9b2e1ecd698bb5096c1c/onnxruntime-1.14.1-cp38-cp38-manylinux_2_27_x86_64.whl (5.0 MB)\n",
      "\u001b[K     |████████████████████████████████| 5.0 MB 3.5 MB/s eta 0:00:01\n",
      "\u001b[?25hCollecting rich<=13.0.1\n",
      "  Downloading https://mirror.sjtu.edu.cn/pypi-packages/ea/bc/5ca0a05823fcdf00c64b44448122131319bc0bf53ec9ce715dc960560df2/rich-13.0.1-py3-none-any.whl (238 kB)\n",
      "\u001b[K     |████████████████████████████████| 238 kB 110.7 MB/s eta 0:00:01\n",
      "\u001b[?25hCollecting typer<1.0.0,>=0.6.0\n",
      "  Downloading https://mirror.sjtu.edu.cn/pypi-packages/bf/0e/c68adf10adda05f28a6ed7b9f4cd7b8e07f641b44af88ba72d9c89e4de7a/typer-0.9.0-py3-none-any.whl (45 kB)\n",
      "\u001b[K     |████████████████████████████████| 45 kB 15.0 MB/s eta 0:00:01\n",
      "\u001b[?25hCollecting httpx\n",
      "  Downloading https://mirror.sjtu.edu.cn/pypi-packages/ac/a2/0260c0f5d73bdf06e8d3fc1013a82b9f0633dc21750c9e3f3cb1dba7bb8c/httpx-0.23.3-py3-none-any.whl (71 kB)\n",
      "\u001b[K     |████████████████████████████████| 71 kB 36.0 MB/s eta 0:00:01\n",
      "\u001b[?25hCollecting monotonic\n",
      "  Downloading https://mirror.sjtu.edu.cn/pypi-packages/9a/67/7e8406a29b6c45be7af7740456f7f37025f0506ae2e05fb9009a53946860/monotonic-1.6-py2.py3-none-any.whl (8.2 kB)\n",
      "Requirement already satisfied: wrapt<1.15,>=1.13 in /root/miniconda3/lib/python3.8/site-packages (from argilla->unstructured[local-inference]->-r requirements.txt (line 3)) (1.14.1)\n",
      "Collecting backoff\n",
      "  Downloading https://mirror.sjtu.edu.cn/pypi-packages/df/73/b6e24bd22e6720ca8ee9a85a0c4a2971af8497d8f3193fa05390cbd46e09/backoff-2.2.1-py3-none-any.whl (15 kB)\n",
      "Collecting pandas\n",
      "  Downloading https://mirror.sjtu.edu.cn/pypi-packages/54/a0/c62d63c5c69be9aae07836e4d7e25e7a6f5590be3d8f2d53f43eeec5c475/pandas-1.5.3-cp38-cp38-manylinux_2_17_x86_64.manylinux2014_x86_64.whl (12.2 MB)\n",
      "\u001b[K     |████████████████████████████████| 12.2 MB 89.3 MB/s eta 0:00:01\n",
      "\u001b[?25hCollecting deprecated~=1.2.0\n",
      "  Downloading https://mirror.sjtu.edu.cn/pypi-packages/51/6a/c3a0408646408f7283b7bc550c30a32cc791181ec4618592eec13e066ce3/Deprecated-1.2.13-py2.py3-none-any.whl (9.6 kB)\n",
      "Collecting httpcore<0.18.0,>=0.15.0\n",
      "  Downloading https://mirror.sjtu.edu.cn/pypi-packages/04/7e/ef97af4623024e8159993b3114ce208de4f677098ae058ec5882a1bf7605/httpcore-0.16.3-py3-none-any.whl (69 kB)\n",
      "\u001b[K     |████████████████████████████████| 69 kB 26.3 MB/s  eta 0:00:01\n",
      "\u001b[?25hCollecting rfc3986[idna2008]<2,>=1.3\n",
      "  Downloading https://mirror.sjtu.edu.cn/pypi-packages/c4/e5/63ca2c4edf4e00657584608bee1001302bbf8c5f569340b78304f2f446cb/rfc3986-1.5.0-py2.py3-none-any.whl (31 kB)\n",
      "Requirement already satisfied: pygments<3.0.0,>=2.6.0 in /root/miniconda3/lib/python3.8/site-packages (from rich<=13.0.1->argilla->unstructured[local-inference]->-r requirements.txt (line 3)) (2.12.0)\n",
      "Collecting commonmark<0.10.0,>=0.9.0\n",
      "  Downloading https://mirror.sjtu.edu.cn/pypi-packages/b1/92/dfd892312d822f36c55366118b95d914e5f16de11044a27cf10a7d71bbbf/commonmark-0.9.1-py2.py3-none-any.whl (51 kB)\n",
      "\u001b[K     |████████████████████████████████| 51 kB 26.8 MB/s eta 0:00:01\n",
      "\u001b[?25hRequirement already satisfied: importlib-metadata>=4.4 in /root/miniconda3/lib/python3.8/site-packages (from markdown->unstructured[local-inference]->-r requirements.txt (line 3)) (4.12.0)\n",
      "Collecting olefile>=0.46\n",
      "  Downloading https://mirror.sjtu.edu.cn/pypi-packages/34/81/e1ac43c6b45b4c5f8d9352396a14144bba52c8fec72a80f425f6a4d653ad/olefile-0.46.zip (112 kB)\n",
      "\u001b[K     |████████████████████████████████| 112 kB 3.6 MB/s eta 0:00:01\n",
      "\u001b[?25hRequirement already satisfied: flatbuffers in /root/miniconda3/lib/python3.8/site-packages (from onnxruntime->unstructured-inference==0.4.4->unstructured[local-inference]->-r requirements.txt (line 3)) (1.12)\n",
      "Collecting coloredlogs\n",
      "  Downloading https://mirror.sjtu.edu.cn/pypi-packages/a7/06/3d6badcf13db419e25b07041d9c7b4a2c331d3f4e7134445ec5df57714cd/coloredlogs-15.0.1-py2.py3-none-any.whl (46 kB)\n",
      "\u001b[K     |████████████████████████████████| 46 kB 1.6 MB/s eta 0:00:011\n",
      "\u001b[?25hCollecting humanfriendly>=9.1\n",
      "  Downloading https://mirror.sjtu.edu.cn/pypi-packages/f0/0f/310fb31e39e2d734ccaa2c0fb981ee41f7bd5056ce9bc29b2248bd569169/humanfriendly-10.0-py2.py3-none-any.whl (86 kB)\n",
      "\u001b[K     |████████████████████████████████| 86 kB 2.9 MB/s eta 0:00:011\n",
      "\u001b[?25hCollecting et-xmlfile\n",
      "  Downloading https://mirror.sjtu.edu.cn/pypi-packages/96/c2/3dd434b0108730014f1b96fd286040dc3bcb70066346f7e01ec2ac95865f/et_xmlfile-1.1.0-py3-none-any.whl (4.7 kB)\n",
      "Collecting XlsxWriter>=0.5.7\n",
      "  Downloading https://mirror.sjtu.edu.cn/pypi-packages/bd/00/28d48d105fa914b460e9721b315af096937e2e82bf540932c68420ccd9e1/XlsxWriter-3.1.0-py3-none-any.whl (152 kB)\n",
      "\u001b[K     |████████████████████████████████| 152 kB 3.5 MB/s eta 0:00:01\n",
      "\u001b[?25hBuilding wheels for collected packages: sentence-transformers, ffmpy, antlr4-python3-runtime, pycocotools, iopath, lit, unstructured-inference, olefile, python-docx, python-pptx\n",
      "  Building wheel for sentence-transformers (setup.py) ... \u001b[?25ldone\n",
      "\u001b[?25h  Created wheel for sentence-transformers: filename=sentence_transformers-2.2.2-py3-none-any.whl size=125918 sha256=d6f49f41972943c31a4b0026ec716526c900c1cfe9f2ed5f23668618e09744e5\n",
      "  Stored in directory: /root/.cache/pip/wheels/c4/bf/50/eb4efaa0fb281772b8ae5729f44dad598e2329bef1dfc8dbca\n",
      "  Building wheel for ffmpy (setup.py) ... \u001b[?25ldone\n",
      "\u001b[?25h  Created wheel for ffmpy: filename=ffmpy-0.3.0-py3-none-any.whl size=4709 sha256=2ebb3e1beccf85e9f303b225a8e93cff428f4a797f0864bf68dbb9b3aedb5924\n",
      "  Stored in directory: /root/.cache/pip/wheels/28/e3/a2/c4eec835fa2baa97cd51faefa230cef63f09d20b9c8cda988d\n",
      "  Building wheel for antlr4-python3-runtime (setup.py) ... \u001b[?25ldone\n",
      "\u001b[?25h  Created wheel for antlr4-python3-runtime: filename=antlr4_python3_runtime-4.9.3-py3-none-any.whl size=144573 sha256=cae375f3cbdf24b8beb3732b912e88e5c96440b90da165371eaf6714292670ba\n",
      "  Stored in directory: /root/.cache/pip/wheels/3e/62/5c/7222c4fd2e90e02c599cc63ebbd37b6a3dee7d42ce92747c90\n",
      "  Building wheel for pycocotools (PEP 517) ... \u001b[?25ldone\n",
      "\u001b[?25h  Created wheel for pycocotools: filename=pycocotools-2.0.6-cp38-cp38-linux_x86_64.whl size=425846 sha256=d62443eb4954d2d6b9daeb844ad43409603c9db7f00274cfec959d1ee76ea4b1\n",
      "  Stored in directory: /root/.cache/pip/wheels/e0/ae/7f/a56c63647f6647dc2dcc4cd00aaebbda0c77ed24f48bec450b\n",
      "  Building wheel for iopath (setup.py) ... \u001b[?25ldone\n",
      "\u001b[?25h  Created wheel for iopath: filename=iopath-0.1.10-py3-none-any.whl size=31543 sha256=ab520f49cae1f28bafff179aae06f6fde3af1c51c152679c64b655e97d74a8ce\n",
      "  Stored in directory: /root/.cache/pip/wheels/3b/d2/6a/9f27bea720bc91d03e354074d5a7487a915ddf1cae3d1eefb5\n",
      "  Building wheel for lit (setup.py) ... \u001b[?25ldone\n",
      "\u001b[?25h  Created wheel for lit: filename=lit-16.0.3-py3-none-any.whl size=88194 sha256=0daf59a176ea53bcb20538ed17f3a799bf14d90344a5b4578ab8d22769b6ba4d\n",
      "  Stored in directory: /root/.cache/pip/wheels/17/2e/e7/5c29f5e535a6d4d75c87d06d4db9120e56a7c210ef38d5ed95\n",
      "  Building wheel for unstructured-inference (setup.py) ... \u001b[?25ldone\n",
      "\u001b[?25h  Created wheel for unstructured-inference: filename=unstructured_inference-0.4.4-py3-none-any.whl size=36794 sha256=bbcc4a4951b91e1a228485d6118193e838bf75be05d0bcecdd15cac082932704\n",
      "  Stored in directory: /root/.cache/pip/wheels/5d/00/36/dd4b8f3600b13994fec7b77370f93e519a7af3a3dca1cbeecc\n",
      "  Building wheel for olefile (setup.py) ... \u001b[?25ldone\n",
      "\u001b[?25h  Created wheel for olefile: filename=olefile-0.46-py2.py3-none-any.whl size=35416 sha256=9eb180e8b0734d857ed8a7bddf522efac2ce0e8024f5e83748c9f954c006e74d\n",
      "  Stored in directory: /root/.cache/pip/wheels/3f/2f/83/9c9f83dd072e78daf7c66b5ef99198e331f6b640e8d823ab29\n",
      "  Building wheel for python-docx (setup.py) ... \u001b[?25ldone\n",
      "\u001b[?25h  Created wheel for python-docx: filename=python_docx-0.8.11-py3-none-any.whl size=184600 sha256=776d3e5c2aaa98f2a1e89bc8d5d26297c09e0805dfe0fad55d72523e48542dbc\n",
      "  Stored in directory: /root/.cache/pip/wheels/d0/42/1b/094acad4c00aaeee7638f97dd5802a7f3a11853edbb6b4e5d7\n",
      "  Building wheel for python-pptx (setup.py) ... \u001b[?25ldone\n",
      "\u001b[?25h  Created wheel for python-pptx: filename=python_pptx-0.6.21-py3-none-any.whl size=471172 sha256=411acd560e486978ccd0f71c4521b66912d90eb62d1f6bacd8fbe9614c01d527\n",
      "  Stored in directory: /root/.cache/pip/wheels/9c/6f/c7/7bae8d041cd8153beb319ef1b852c8ac41b5a2b3d743632b3a\n",
      "Successfully built sentence-transformers ffmpy antlr4-python3-runtime pycocotools iopath lit unstructured-inference olefile python-docx python-pptx\n",
      "Installing collected packages: nvidia-cublas-cu11, mpmath, lit, filelock, cmake, triton, sympy, nvidia-nvtx-cu11, nvidia-nccl-cu11, nvidia-cusparse-cu11, nvidia-cusolver-cu11, nvidia-curand-cu11, nvidia-cufft-cu11, nvidia-cudnn-cu11, nvidia-cuda-runtime-cu11, nvidia-cuda-nvrtc-cu11, nvidia-cuda-cupti-cu11, networkx, torch, PyYAML, python-dateutil, packaging, fsspec, cryptography, charset-normalizer, Wand, torchvision, safetensors, rfc3986, portalocker, pdfminer.six, huggingface-hub, h11, antlr4-python3-runtime, timm, scipy, pycocotools, pdfplumber, pdf2image, pandas, opencv-python, omegaconf, iopath, humanfriendly, httpcore, commonmark, click, XlsxWriter, uc-micro-py, typer, tokenizers, starlette, rich, regex, pytesseract, pydantic, protobuf, olefile, mypy-extensions, multidict, monotonic, mdurl, marshmallow, layoutparser, joblib, httpx, frozenlist, et-xmlfile, effdet, deprecated, coloredlogs, backoff, yarl, xlrd, websockets, uvicorn, typing-inspect, transformers, toolz, threadpoolctl, python-pptx, python-multipart, python-magic, python-docx, pypandoc, openpyxl, onnxruntime, nltk, msg-parser, marshmallow-enum, markdown-it-py, linkify-it-py, greenlet, fastapi, async-timeout, argilla, aiosignal, unstructured-inference, unstructured, tenacity, SQLAlchemy, sentencepiece, semantic-version, scikit-learn, pydub, orjson, openapi-schema-pydantic, numexpr, mdit-py-plugins, gradio-client, ffmpy, dataclasses-json, altair, aiohttp, aiofiles, sentence-transformers, langchain, icetk, gradio, faiss-cpu, cpm-kernels, accelerate\n",
      "  Attempting uninstall: python-dateutil\n",
      "    Found existing installation: python-dateutil 2.8.1\n",
      "    Uninstalling python-dateutil-2.8.1:\n",
      "      Successfully uninstalled python-dateutil-2.8.1\n",
      "  Attempting uninstall: packaging\n",
      "    Found existing installation: packaging 21.0\n",
      "    Uninstalling packaging-21.0:\n",
      "      Successfully uninstalled packaging-21.0\n",
      "  Attempting uninstall: cryptography\n",
      "    Found existing installation: cryptography 3.4.7\n",
      "    Uninstalling cryptography-3.4.7:\n",
      "      Successfully uninstalled cryptography-3.4.7\n",
      "  Attempting uninstall: protobuf\n",
      "    Found existing installation: protobuf 3.19.4\n",
      "    Uninstalling protobuf-3.19.4:\n",
      "      Successfully uninstalled protobuf-3.19.4\n",
      "Successfully installed PyYAML-6.0 SQLAlchemy-1.4.48 Wand-0.6.11 XlsxWriter-3.1.0 accelerate-0.19.0 aiofiles-23.1.0 aiohttp-3.8.4 aiosignal-1.3.1 altair-5.0.0 antlr4-python3-runtime-4.9.3 argilla-1.7.0 async-timeout-4.0.2 backoff-2.2.1 charset-normalizer-3.1.0 click-8.1.3 cmake-3.26.3 coloredlogs-15.0.1 commonmark-0.9.1 cpm-kernels-1.0.11 cryptography-40.0.2 dataclasses-json-0.5.7 deprecated-1.2.13 effdet-0.3.0 et-xmlfile-1.1.0 faiss-cpu-1.7.4 fastapi-0.95.1 ffmpy-0.3.0 filelock-3.12.0 frozenlist-1.3.3 fsspec-2023.5.0 gradio-3.24.1 gradio-client-0.2.4 greenlet-2.0.2 h11-0.14.0 httpcore-0.16.3 httpx-0.23.3 huggingface-hub-0.14.1 humanfriendly-10.0 icetk-0.0.7 iopath-0.1.10 joblib-1.2.0 langchain-0.0.146 layoutparser-0.3.4 linkify-it-py-2.0.2 lit-16.0.3 markdown-it-py-2.2.0 marshmallow-3.19.0 marshmallow-enum-1.5.1 mdit-py-plugins-0.3.3 mdurl-0.1.2 monotonic-1.6 mpmath-1.3.0 msg-parser-1.2.0 multidict-6.0.4 mypy-extensions-1.0.0 networkx-3.1 nltk-3.8.1 numexpr-2.8.4 nvidia-cublas-cu11-11.10.3.66 nvidia-cuda-cupti-cu11-11.7.101 nvidia-cuda-nvrtc-cu11-11.7.99 nvidia-cuda-runtime-cu11-11.7.99 nvidia-cudnn-cu11-8.5.0.96 nvidia-cufft-cu11-10.9.0.58 nvidia-curand-cu11-10.2.10.91 nvidia-cusolver-cu11-11.4.0.1 nvidia-cusparse-cu11-11.7.4.91 nvidia-nccl-cu11-2.14.3 nvidia-nvtx-cu11-11.7.91 olefile-0.46 omegaconf-2.3.0 onnxruntime-1.14.1 openapi-schema-pydantic-1.2.4 opencv-python-4.7.0.72 openpyxl-3.1.2 orjson-3.8.12 packaging-23.1 pandas-1.5.3 pdf2image-1.16.3 pdfminer.six-20221105 pdfplumber-0.9.0 portalocker-2.7.0 protobuf-3.18.3 pycocotools-2.0.6 pydantic-1.10.7 pydub-0.25.1 pypandoc-1.11 pytesseract-0.3.10 python-dateutil-2.8.2 python-docx-0.8.11 python-magic-0.4.27 python-multipart-0.0.6 python-pptx-0.6.21 regex-2023.5.5 rfc3986-1.5.0 rich-13.0.1 safetensors-0.3.1 scikit-learn-1.2.2 scipy-1.10.1 semantic-version-2.10.0 sentence-transformers-2.2.2 sentencepiece-0.1.99 starlette-0.26.1 sympy-1.12 tenacity-8.2.2 threadpoolctl-3.1.0 timm-0.9.2 tokenizers-0.13.3 toolz-0.12.0 torch-2.0.1 torchvision-0.15.2 transformers-4.27.1 triton-2.0.0 typer-0.9.0 typing-inspect-0.8.0 uc-micro-py-1.0.2 unstructured-0.6.11 unstructured-inference-0.4.4 uvicorn-0.22.0 websockets-11.0.3 xlrd-2.0.1 yarl-1.9.2\n",
      "\u001b[33mWARNING: Running pip as the 'root' user can result in broken permissions and conflicting behaviour with the system package manager. It is recommended to use a virtual environment instead: https://pip.pypa.io/warnings/venv\u001b[0m\n"
     ]
    }
   ],
   "source": [
    "# !pip install -r requirements.txt -i https://mirror.sjtu.edu.cn/pypi/web/simple"
   ]
  },
  {
   "cell_type": "code",
   "execution_count": 4,
   "metadata": {},
   "outputs": [
    {
     "data": {
      "text/plain": [
       "'/root/autodl-tmp/langchain-ChatGLM'"
      ]
     },
     "execution_count": 4,
     "metadata": {},
     "output_type": "execute_result"
    }
   ],
   "source": [
    "# pwd"
   ]
  },
  {
   "cell_type": "code",
   "execution_count": 2,
   "metadata": {
    "id": "CD57EF50EA21427FA9EA155D1D5DAECE",
    "jupyter": {
     "outputs_hidden": false
    },
    "notebookId": "6439ae318e7b70089c3e133e",
    "slideshow": {
     "slide_type": "slide"
    },
    "tags": []
   },
   "outputs": [],
   "source": [
    "# 引入包\n",
    "from langchain.chains import RetrievalQA\n",
    "from langchain.prompts import PromptTemplate\n",
    "from langchain.embeddings.huggingface import HuggingFaceEmbeddings\n",
    "from langchain.vectorstores import FAISS\n",
    "from langchain.document_loaders import UnstructuredFileLoader, DirectoryLoader\n",
    "from models.chatglm_llm import ChatGLM # local file\n",
    "import sentence_transformers\n",
    "import torch\n",
    "import os\n",
    "import readline"
   ]
  },
  {
   "cell_type": "code",
   "execution_count": 3,
   "metadata": {
    "id": "B492ED3AC1C7484894DD16AD6F4A71B8",
    "jupyter": {
     "outputs_hidden": false
    },
    "notebookId": "6439ae318e7b70089c3e133e",
    "slideshow": {
     "slide_type": "slide"
    },
    "tags": []
   },
   "outputs": [],
   "source": [
    "# 全局参数\n",
    "EMBEDDING_MODEL = \"text2vec\" # embedding 模型，对应 embedding_model_dict\n",
    "VECTOR_SEARCH_TOP_K = 6\n",
    "LLM_MODEL = \"chatglm-6b\"     # LLM 模型名，对应 llm_model_dict\n",
    "LLM_HISTORY_LEN = 3\n",
    "DEVICE = \"cuda\" if torch.cuda.is_available() else \"mps\" if torch.backends.mps.is_available() else \"cpu\"\n",
    "\n",
    "embedding_model_dict = {\n",
    "    \"ernie-tiny\": \"nghuyong/ernie-3.0-nano-zh\",\n",
    "    \"ernie-base\": \"nghuyong/ernie-3.0-base-zh\",\n",
    "    \"text2vec\": \"/root/autodl-tmp/text2vec-large-chinese\",\n",
    "}\n",
    "\n",
    "llm_model_dict = {\n",
    "    \"chatglm-6b-int4-qe\": \"THUDM/chatglm-6b-int4-qe\",\n",
    "    \"chatglm-6b-int4\": \"THUDM/chatglm-6b-int4\",\n",
    "    \"chatglm-6b\": \"/root/autodl-tmp/model/chatglm-6b\", # /home/mw/input/ChatGLM6B6449\n",
    "}\n"
   ]
  },
  {
   "cell_type": "code",
   "execution_count": 4,
   "metadata": {
    "id": "8F6F59493029404F82F076C9506683F8",
    "jupyter": {
     "outputs_hidden": false
    },
    "notebookId": "6439ae318e7b70089c3e133e",
    "slideshow": {
     "slide_type": "slide"
    },
    "tags": []
   },
   "outputs": [],
   "source": [
    "# 初始化配置\n",
    "def init_cfg(LLM_MODEL, EMBEDDING_MODEL, LLM_HISTORY_LEN, V_SEARCH_TOP_K=6):\n",
    "    global chatglm, embeddings, VECTOR_SEARCH_TOP_K\n",
    "    VECTOR_SEARCH_TOP_K = V_SEARCH_TOP_K\n",
    "\n",
    "    chatglm = ChatGLM()\n",
    "    chatglm.load_model(model_name_or_path=llm_model_dict[LLM_MODEL])\n",
    "    chatglm.history_len = LLM_HISTORY_LEN\n",
    "\n",
    "    embeddings = HuggingFaceEmbeddings(model_name=embedding_model_dict[EMBEDDING_MODEL],)\n",
    "    embeddings.client = sentence_transformers.SentenceTransformer(embeddings.model_name,\n",
    "                                                                  device=DEVICE)"
   ]
  },
  {
   "cell_type": "code",
   "execution_count": 5,
   "metadata": {
    "id": "3AEB1BADB1D04C31A394D5E4A6924423",
    "jupyter": {
     "outputs_hidden": false
    },
    "notebookId": "6439ae318e7b70089c3e133e",
    "slideshow": {
     "slide_type": "slide"
    },
    "tags": []
   },
   "outputs": [],
   "source": [
    "# 初始化指定知识库的 vector_store\n",
    "def init_knowledge_vector_store(filepath:str):\n",
    "    docs = []\n",
    "    if not os.path.exists(filepath):\n",
    "        print(\"路径不存在\")\n",
    "        return None\n",
    "    elif os.path.isfile(filepath):\n",
    "        file = os.path.split(filepath)[-1]\n",
    "        try:\n",
    "            loader = UnstructuredFileLoader(filepath, mode=\"elements\")\n",
    "            docs = loader.load()\n",
    "            print(f\"{file} 已成功加载\")\n",
    "        except:\n",
    "            print(f\"{file} 未能成功加载\")\n",
    "            return None\n",
    "    elif os.path.isdir(filepath):\n",
    "        try:\n",
    "            loader = DirectoryLoader(filepath, glob=\"**/*.md\")\n",
    "            docs = loader.load()\n",
    "            print(f\"{filepath} 已成功加载\")\n",
    "        except Exception as e:\n",
    "            print(f\"{filepath} 未能成功加载: {e}\")\n",
    "            return None\n",
    "\n",
    "    vector_store = FAISS.from_documents(docs, embeddings)\n",
    "    return vector_store"
   ]
  },
  {
   "cell_type": "code",
   "execution_count": 6,
   "metadata": {
    "id": "D90290956C004CDA84863BB20F9A46C6",
    "jupyter": {
     "outputs_hidden": false
    },
    "notebookId": "6439ae318e7b70089c3e133e",
    "slideshow": {
     "slide_type": "slide"
    },
    "tags": []
   },
   "outputs": [],
   "source": [
    "# 结合知识库进行问题回答\n",
    "def get_knowledge_based_answer(query, vector_store, chat_history=[]):\n",
    "    global chatglm, embeddings\n",
    "\n",
    "    prompt_template = \"\"\"基于以下已知信息，简洁和专业的来回答用户的问题。\n",
    "如果无法从中得到答案，请说 \"根据已知信息无法回答该问题\" 或 \"没有提供足够的相关信息\"，不允许在答案中添加编造成分，答案请使用中文。\n",
    "已知内容:\n",
    "{context}\n",
    "问题:\n",
    "{question}\"\"\"\n",
    "    prompt = PromptTemplate(\n",
    "        template=prompt_template,\n",
    "        input_variables=[\"context\", \"question\"]\n",
    "    )\n",
    "    chatglm.history = chat_history\n",
    "    knowledge_chain = RetrievalQA.from_llm(\n",
    "        llm=chatglm,\n",
    "        retriever=vector_store.as_retriever(search_kwargs={\"k\": VECTOR_SEARCH_TOP_K}),\n",
    "        prompt=prompt\n",
    "    )\n",
    "    knowledge_chain.combine_documents_chain.document_prompt = PromptTemplate(\n",
    "            input_variables=[\"page_content\"], template=\"{page_content}\"\n",
    "        )\n",
    "\n",
    "    knowledge_chain.return_source_documents = True\n",
    "\n",
    "    result = knowledge_chain({\"query\": query})\n",
    "    chatglm.history[-1][0] = query\n",
    "    return result, chatglm.history"
   ]
  },
  {
   "cell_type": "code",
   "execution_count": 7,
   "metadata": {
    "id": "2366920989E74C539F08F139DDDAFCCB",
    "jupyter": {
     "outputs_hidden": false
    },
    "notebookId": "6439ae318e7b70089c3e133e",
    "slideshow": {
     "slide_type": "slide"
    },
    "tags": []
   },
   "outputs": [],
   "source": [
    "# # 使用 Markdown 格式打印模型输出\n",
    "# from IPython.display import display, Markdown, clear_output\n",
    "# def display_answer(query, vector_store, history = []):\n",
    "#     resp, history = get_knowledge_based_answer(query=query,\n",
    "#                                                vector_store=vector_store,\n",
    "#                                                chat_history=history)\n",
    "#     display(Markdown(resp[\"result\"]))\n",
    "#     #return resp, history\n"
   ]
  },
  {
   "cell_type": "code",
   "execution_count": 8,
   "metadata": {
    "id": "344F9160D70E463B8FC0273AC86F859B",
    "jupyter": {
     "outputs_hidden": false
    },
    "notebookId": "6439ae318e7b70089c3e133e",
    "slideshow": {
     "slide_type": "slide"
    },
    "tags": []
   },
   "outputs": [
    {
     "name": "stderr",
     "output_type": "stream",
     "text": [
      "Explicitly passing a `revision` is encouraged when loading a model with custom code to ensure no malicious code has been contributed in a newer revision.\n",
      "Explicitly passing a `revision` is encouraged when loading a configuration with custom code to ensure no malicious code has been contributed in a newer revision.\n",
      "Explicitly passing a `revision` is encouraged when loading a model with custom code to ensure no malicious code has been contributed in a newer revision.\n",
      "2023-06-12 15:48:02.594860: I tensorflow/core/util/util.cc:169] oneDNN custom operations are on. You may see slightly different numerical results due to floating-point round-off errors from different computation orders. To turn them off, set the environment variable `TF_ENABLE_ONEDNN_OPTS=0`.\n"
     ]
    },
    {
     "data": {
      "application/json": {
       "ascii": false,
       "bar_format": null,
       "colour": null,
       "elapsed": 0.020552635192871094,
       "initial": 0,
       "n": 0,
       "ncols": null,
       "nrows": null,
       "postfix": null,
       "prefix": "Loading checkpoint shards",
       "rate": null,
       "total": 8,
       "unit": "it",
       "unit_divisor": 1000,
       "unit_scale": false
      },
      "application/vnd.jupyter.widget-view+json": {
       "model_id": "7a482cf5c485461dbecfeca5be45d443",
       "version_major": 2,
       "version_minor": 0
      },
      "text/plain": [
       "Loading checkpoint shards:   0%|          | 0/8 [00:00<?, ?it/s]"
      ]
     },
     "metadata": {},
     "output_type": "display_data"
    },
    {
     "name": "stderr",
     "output_type": "stream",
     "text": [
      "No sentence-transformers model found with name /root/autodl-tmp/text2vec-large-chinese. Creating a new one with MEAN pooling.\n",
      "No sentence-transformers model found with name /root/autodl-tmp/text2vec-large-chinese. Creating a new one with MEAN pooling.\n"
     ]
    },
    {
     "name": "stdout",
     "output_type": "stream",
     "text": [
      "/root/autodl-tmp/temp1_FAISS_20230612_110553 已成功加载\n"
     ]
    },
    {
     "data": {
      "text/html": [
       "<pre style=\"white-space:pre;overflow-x:auto;line-height:normal;font-family:Menlo,'DejaVu Sans Mono',consolas,'Courier New',monospace\"><span style=\"color: #800000; text-decoration-color: #800000\">╭─────────────────────────────── </span><span style=\"color: #800000; text-decoration-color: #800000; font-weight: bold\">Traceback </span><span style=\"color: #bf7f7f; text-decoration-color: #bf7f7f; font-weight: bold\">(most recent call last)</span><span style=\"color: #800000; text-decoration-color: #800000\"> ────────────────────────────────╮</span>\n",
       "<span style=\"color: #800000; text-decoration-color: #800000\">│</span> <span style=\"color: #bfbf7f; text-decoration-color: #bfbf7f\">/tmp/ipykernel_4862/</span><span style=\"color: #808000; text-decoration-color: #808000; font-weight: bold\">2935205682.py</span>:<span style=\"color: #0000ff; text-decoration-color: #0000ff\">3</span> in <span style=\"color: #00ff00; text-decoration-color: #00ff00\">&lt;cell line: 3&gt;</span>                                            <span style=\"color: #800000; text-decoration-color: #800000\">│</span>\n",
       "<span style=\"color: #800000; text-decoration-color: #800000\">│</span>                                                                                                  <span style=\"color: #800000; text-decoration-color: #800000\">│</span>\n",
       "<span style=\"color: #800000; text-decoration-color: #800000\">│</span> <span style=\"color: #800000; text-decoration-color: #800000; font-style: italic\">[Errno 2] No such file or directory: '/tmp/ipykernel_4862/2935205682.py'</span>                         <span style=\"color: #800000; text-decoration-color: #800000\">│</span>\n",
       "<span style=\"color: #800000; text-decoration-color: #800000\">│</span>                                                                                                  <span style=\"color: #800000; text-decoration-color: #800000\">│</span>\n",
       "<span style=\"color: #800000; text-decoration-color: #800000\">│</span> <span style=\"color: #bfbf7f; text-decoration-color: #bfbf7f\">/tmp/ipykernel_4862/</span><span style=\"color: #808000; text-decoration-color: #808000; font-weight: bold\">3250167053.py</span>:<span style=\"color: #0000ff; text-decoration-color: #0000ff\">25</span> in <span style=\"color: #00ff00; text-decoration-color: #00ff00\">init_knowledge_vector_store</span>                              <span style=\"color: #800000; text-decoration-color: #800000\">│</span>\n",
       "<span style=\"color: #800000; text-decoration-color: #800000\">│</span>                                                                                                  <span style=\"color: #800000; text-decoration-color: #800000\">│</span>\n",
       "<span style=\"color: #800000; text-decoration-color: #800000\">│</span> <span style=\"color: #800000; text-decoration-color: #800000; font-style: italic\">[Errno 2] No such file or directory: '/tmp/ipykernel_4862/3250167053.py'</span>                         <span style=\"color: #800000; text-decoration-color: #800000\">│</span>\n",
       "<span style=\"color: #800000; text-decoration-color: #800000\">│</span>                                                                                                  <span style=\"color: #800000; text-decoration-color: #800000\">│</span>\n",
       "<span style=\"color: #800000; text-decoration-color: #800000\">│</span> <span style=\"color: #bfbf7f; text-decoration-color: #bfbf7f\">/root/miniconda3/lib/python3.8/site-packages/langchain/vectorstores/</span><span style=\"color: #808000; text-decoration-color: #808000; font-weight: bold\">base.py</span>:<span style=\"color: #0000ff; text-decoration-color: #0000ff\">218</span> in               <span style=\"color: #800000; text-decoration-color: #800000\">│</span>\n",
       "<span style=\"color: #800000; text-decoration-color: #800000\">│</span> <span style=\"color: #00ff00; text-decoration-color: #00ff00\">from_documents</span>                                                                                   <span style=\"color: #800000; text-decoration-color: #800000\">│</span>\n",
       "<span style=\"color: #800000; text-decoration-color: #800000\">│</span>                                                                                                  <span style=\"color: #800000; text-decoration-color: #800000\">│</span>\n",
       "<span style=\"color: #800000; text-decoration-color: #800000\">│</span>   <span style=\"color: #7f7f7f; text-decoration-color: #7f7f7f\">215 │   │   </span><span style=\"color: #808000; text-decoration-color: #808000\">\"\"\"Return VectorStore initialized from documents and embeddings.\"\"\"</span>                <span style=\"color: #800000; text-decoration-color: #800000\">│</span>\n",
       "<span style=\"color: #800000; text-decoration-color: #800000\">│</span>   <span style=\"color: #7f7f7f; text-decoration-color: #7f7f7f\">216 │   │   </span>texts = [d.page_content <span style=\"color: #0000ff; text-decoration-color: #0000ff\">for</span> d <span style=\"color: #ff00ff; text-decoration-color: #ff00ff\">in</span> documents]                                        <span style=\"color: #800000; text-decoration-color: #800000\">│</span>\n",
       "<span style=\"color: #800000; text-decoration-color: #800000\">│</span>   <span style=\"color: #7f7f7f; text-decoration-color: #7f7f7f\">217 │   │   </span>metadatas = [d.metadata <span style=\"color: #0000ff; text-decoration-color: #0000ff\">for</span> d <span style=\"color: #ff00ff; text-decoration-color: #ff00ff\">in</span> documents]                                        <span style=\"color: #800000; text-decoration-color: #800000\">│</span>\n",
       "<span style=\"color: #800000; text-decoration-color: #800000\">│</span> <span style=\"color: #800000; text-decoration-color: #800000\">❱ </span>218 <span style=\"color: #7f7f7f; text-decoration-color: #7f7f7f\">│   │   </span><span style=\"color: #0000ff; text-decoration-color: #0000ff\">return</span> <span style=\"color: #00ffff; text-decoration-color: #00ffff\">cls</span>.from_texts(texts, embedding, metadatas=metadatas, **kwargs)             <span style=\"color: #800000; text-decoration-color: #800000\">│</span>\n",
       "<span style=\"color: #800000; text-decoration-color: #800000\">│</span>   <span style=\"color: #7f7f7f; text-decoration-color: #7f7f7f\">219 │   </span>                                                                                       <span style=\"color: #800000; text-decoration-color: #800000\">│</span>\n",
       "<span style=\"color: #800000; text-decoration-color: #800000\">│</span>   <span style=\"color: #7f7f7f; text-decoration-color: #7f7f7f\">220 │   </span><span style=\"color: #ff00ff; text-decoration-color: #ff00ff; font-weight: bold\">@classmethod</span>                                                                           <span style=\"color: #800000; text-decoration-color: #800000\">│</span>\n",
       "<span style=\"color: #800000; text-decoration-color: #800000\">│</span>   <span style=\"color: #7f7f7f; text-decoration-color: #7f7f7f\">221 │   </span><span style=\"color: #0000ff; text-decoration-color: #0000ff\">async</span> <span style=\"color: #0000ff; text-decoration-color: #0000ff\">def</span> <span style=\"color: #00ff00; text-decoration-color: #00ff00\">afrom_documents</span>(                                                             <span style=\"color: #800000; text-decoration-color: #800000\">│</span>\n",
       "<span style=\"color: #800000; text-decoration-color: #800000\">│</span>                                                                                                  <span style=\"color: #800000; text-decoration-color: #800000\">│</span>\n",
       "<span style=\"color: #800000; text-decoration-color: #800000\">│</span> <span style=\"color: #bfbf7f; text-decoration-color: #bfbf7f\">/root/miniconda3/lib/python3.8/site-packages/langchain/vectorstores/</span><span style=\"color: #808000; text-decoration-color: #808000; font-weight: bold\">faiss.py</span>:<span style=\"color: #0000ff; text-decoration-color: #0000ff\">368</span> in <span style=\"color: #00ff00; text-decoration-color: #00ff00\">from_texts</span>   <span style=\"color: #800000; text-decoration-color: #800000\">│</span>\n",
       "<span style=\"color: #800000; text-decoration-color: #800000\">│</span>                                                                                                  <span style=\"color: #800000; text-decoration-color: #800000\">│</span>\n",
       "<span style=\"color: #800000; text-decoration-color: #800000\">│</span>   <span style=\"color: #7f7f7f; text-decoration-color: #7f7f7f\">365 </span><span style=\"color: #bfbf7f; text-decoration-color: #bfbf7f\">│   │   │   │   </span><span style=\"color: #808000; text-decoration-color: #808000\">faiss = FAISS.from_texts(texts, embeddings)</span>                                <span style=\"color: #800000; text-decoration-color: #800000\">│</span>\n",
       "<span style=\"color: #800000; text-decoration-color: #800000\">│</span>   <span style=\"color: #7f7f7f; text-decoration-color: #7f7f7f\">366 </span><span style=\"color: #bfbf7f; text-decoration-color: #bfbf7f\">│   │   </span><span style=\"color: #808000; text-decoration-color: #808000\">\"\"\"</span>                                                                                <span style=\"color: #800000; text-decoration-color: #800000\">│</span>\n",
       "<span style=\"color: #800000; text-decoration-color: #800000\">│</span>   <span style=\"color: #7f7f7f; text-decoration-color: #7f7f7f\">367 │   │   </span>embeddings = embedding.embed_documents(texts)                                      <span style=\"color: #800000; text-decoration-color: #800000\">│</span>\n",
       "<span style=\"color: #800000; text-decoration-color: #800000\">│</span> <span style=\"color: #800000; text-decoration-color: #800000\">❱ </span>368 <span style=\"color: #7f7f7f; text-decoration-color: #7f7f7f\">│   │   </span><span style=\"color: #0000ff; text-decoration-color: #0000ff\">return</span> <span style=\"color: #00ffff; text-decoration-color: #00ffff\">cls</span>.__from(                                                                 <span style=\"color: #800000; text-decoration-color: #800000\">│</span>\n",
       "<span style=\"color: #800000; text-decoration-color: #800000\">│</span>   <span style=\"color: #7f7f7f; text-decoration-color: #7f7f7f\">369 │   │   │   </span>texts,                                                                         <span style=\"color: #800000; text-decoration-color: #800000\">│</span>\n",
       "<span style=\"color: #800000; text-decoration-color: #800000\">│</span>   <span style=\"color: #7f7f7f; text-decoration-color: #7f7f7f\">370 │   │   │   </span>embeddings,                                                                    <span style=\"color: #800000; text-decoration-color: #800000\">│</span>\n",
       "<span style=\"color: #800000; text-decoration-color: #800000\">│</span>   <span style=\"color: #7f7f7f; text-decoration-color: #7f7f7f\">371 │   │   │   </span>embedding,                                                                     <span style=\"color: #800000; text-decoration-color: #800000\">│</span>\n",
       "<span style=\"color: #800000; text-decoration-color: #800000\">│</span>                                                                                                  <span style=\"color: #800000; text-decoration-color: #800000\">│</span>\n",
       "<span style=\"color: #800000; text-decoration-color: #800000\">│</span> <span style=\"color: #bfbf7f; text-decoration-color: #bfbf7f\">/root/miniconda3/lib/python3.8/site-packages/langchain/vectorstores/</span><span style=\"color: #808000; text-decoration-color: #808000; font-weight: bold\">faiss.py</span>:<span style=\"color: #0000ff; text-decoration-color: #0000ff\">330</span> in <span style=\"color: #00ff00; text-decoration-color: #00ff00\">__from</span>       <span style=\"color: #800000; text-decoration-color: #800000\">│</span>\n",
       "<span style=\"color: #800000; text-decoration-color: #800000\">│</span>                                                                                                  <span style=\"color: #800000; text-decoration-color: #800000\">│</span>\n",
       "<span style=\"color: #800000; text-decoration-color: #800000\">│</span>   <span style=\"color: #7f7f7f; text-decoration-color: #7f7f7f\">327 │   │   </span>**kwargs: Any,                                                                     <span style=\"color: #800000; text-decoration-color: #800000\">│</span>\n",
       "<span style=\"color: #800000; text-decoration-color: #800000\">│</span>   <span style=\"color: #7f7f7f; text-decoration-color: #7f7f7f\">328 │   </span>) -&gt; FAISS:                                                                            <span style=\"color: #800000; text-decoration-color: #800000\">│</span>\n",
       "<span style=\"color: #800000; text-decoration-color: #800000\">│</span>   <span style=\"color: #7f7f7f; text-decoration-color: #7f7f7f\">329 │   │   </span>faiss = dependable_faiss_import()                                                  <span style=\"color: #800000; text-decoration-color: #800000\">│</span>\n",
       "<span style=\"color: #800000; text-decoration-color: #800000\">│</span> <span style=\"color: #800000; text-decoration-color: #800000\">❱ </span>330 <span style=\"color: #7f7f7f; text-decoration-color: #7f7f7f\">│   │   </span>index = faiss.IndexFlatL2(<span style=\"color: #00ffff; text-decoration-color: #00ffff\">len</span>(embeddings[<span style=\"color: #0000ff; text-decoration-color: #0000ff\">0</span>]))                                      <span style=\"color: #800000; text-decoration-color: #800000\">│</span>\n",
       "<span style=\"color: #800000; text-decoration-color: #800000\">│</span>   <span style=\"color: #7f7f7f; text-decoration-color: #7f7f7f\">331 │   │   </span>index.add(np.array(embeddings, dtype=np.float32))                                  <span style=\"color: #800000; text-decoration-color: #800000\">│</span>\n",
       "<span style=\"color: #800000; text-decoration-color: #800000\">│</span>   <span style=\"color: #7f7f7f; text-decoration-color: #7f7f7f\">332 │   │   </span>documents = []                                                                     <span style=\"color: #800000; text-decoration-color: #800000\">│</span>\n",
       "<span style=\"color: #800000; text-decoration-color: #800000\">│</span>   <span style=\"color: #7f7f7f; text-decoration-color: #7f7f7f\">333 │   │   </span><span style=\"color: #0000ff; text-decoration-color: #0000ff\">for</span> i, text <span style=\"color: #ff00ff; text-decoration-color: #ff00ff\">in</span> <span style=\"color: #00ffff; text-decoration-color: #00ffff\">enumerate</span>(texts):                                                   <span style=\"color: #800000; text-decoration-color: #800000\">│</span>\n",
       "<span style=\"color: #800000; text-decoration-color: #800000\">╰──────────────────────────────────────────────────────────────────────────────────────────────────╯</span>\n",
       "<span style=\"color: #ff0000; text-decoration-color: #ff0000; font-weight: bold\">IndexError: </span>list index out of range\n",
       "</pre>\n"
      ],
      "text/plain": [
       "\u001b[31m╭─\u001b[0m\u001b[31m──────────────────────────────\u001b[0m\u001b[31m \u001b[0m\u001b[1;31mTraceback \u001b[0m\u001b[1;2;31m(most recent call last)\u001b[0m\u001b[31m \u001b[0m\u001b[31m───────────────────────────────\u001b[0m\u001b[31m─╮\u001b[0m\n",
       "\u001b[31m│\u001b[0m \u001b[2;33m/tmp/ipykernel_4862/\u001b[0m\u001b[1;33m2935205682.py\u001b[0m:\u001b[94m3\u001b[0m in \u001b[92m<cell line: 3>\u001b[0m                                            \u001b[31m│\u001b[0m\n",
       "\u001b[31m│\u001b[0m                                                                                                  \u001b[31m│\u001b[0m\n",
       "\u001b[31m│\u001b[0m \u001b[3;31m[Errno 2] No such file or directory: '/tmp/ipykernel_4862/2935205682.py'\u001b[0m                         \u001b[31m│\u001b[0m\n",
       "\u001b[31m│\u001b[0m                                                                                                  \u001b[31m│\u001b[0m\n",
       "\u001b[31m│\u001b[0m \u001b[2;33m/tmp/ipykernel_4862/\u001b[0m\u001b[1;33m3250167053.py\u001b[0m:\u001b[94m25\u001b[0m in \u001b[92minit_knowledge_vector_store\u001b[0m                              \u001b[31m│\u001b[0m\n",
       "\u001b[31m│\u001b[0m                                                                                                  \u001b[31m│\u001b[0m\n",
       "\u001b[31m│\u001b[0m \u001b[3;31m[Errno 2] No such file or directory: '/tmp/ipykernel_4862/3250167053.py'\u001b[0m                         \u001b[31m│\u001b[0m\n",
       "\u001b[31m│\u001b[0m                                                                                                  \u001b[31m│\u001b[0m\n",
       "\u001b[31m│\u001b[0m \u001b[2;33m/root/miniconda3/lib/python3.8/site-packages/langchain/vectorstores/\u001b[0m\u001b[1;33mbase.py\u001b[0m:\u001b[94m218\u001b[0m in               \u001b[31m│\u001b[0m\n",
       "\u001b[31m│\u001b[0m \u001b[92mfrom_documents\u001b[0m                                                                                   \u001b[31m│\u001b[0m\n",
       "\u001b[31m│\u001b[0m                                                                                                  \u001b[31m│\u001b[0m\n",
       "\u001b[31m│\u001b[0m   \u001b[2m215 \u001b[0m\u001b[2m│   │   \u001b[0m\u001b[33m\"\"\"Return VectorStore initialized from documents and embeddings.\"\"\"\u001b[0m                \u001b[31m│\u001b[0m\n",
       "\u001b[31m│\u001b[0m   \u001b[2m216 \u001b[0m\u001b[2m│   │   \u001b[0mtexts = [d.page_content \u001b[94mfor\u001b[0m d \u001b[95min\u001b[0m documents]                                        \u001b[31m│\u001b[0m\n",
       "\u001b[31m│\u001b[0m   \u001b[2m217 \u001b[0m\u001b[2m│   │   \u001b[0mmetadatas = [d.metadata \u001b[94mfor\u001b[0m d \u001b[95min\u001b[0m documents]                                        \u001b[31m│\u001b[0m\n",
       "\u001b[31m│\u001b[0m \u001b[31m❱ \u001b[0m218 \u001b[2m│   │   \u001b[0m\u001b[94mreturn\u001b[0m \u001b[96mcls\u001b[0m.from_texts(texts, embedding, metadatas=metadatas, **kwargs)             \u001b[31m│\u001b[0m\n",
       "\u001b[31m│\u001b[0m   \u001b[2m219 \u001b[0m\u001b[2m│   \u001b[0m                                                                                       \u001b[31m│\u001b[0m\n",
       "\u001b[31m│\u001b[0m   \u001b[2m220 \u001b[0m\u001b[2m│   \u001b[0m\u001b[1;95m@classmethod\u001b[0m                                                                           \u001b[31m│\u001b[0m\n",
       "\u001b[31m│\u001b[0m   \u001b[2m221 \u001b[0m\u001b[2m│   \u001b[0m\u001b[94masync\u001b[0m \u001b[94mdef\u001b[0m \u001b[92mafrom_documents\u001b[0m(                                                             \u001b[31m│\u001b[0m\n",
       "\u001b[31m│\u001b[0m                                                                                                  \u001b[31m│\u001b[0m\n",
       "\u001b[31m│\u001b[0m \u001b[2;33m/root/miniconda3/lib/python3.8/site-packages/langchain/vectorstores/\u001b[0m\u001b[1;33mfaiss.py\u001b[0m:\u001b[94m368\u001b[0m in \u001b[92mfrom_texts\u001b[0m   \u001b[31m│\u001b[0m\n",
       "\u001b[31m│\u001b[0m                                                                                                  \u001b[31m│\u001b[0m\n",
       "\u001b[31m│\u001b[0m   \u001b[2m365 \u001b[0m\u001b[2;33m│   │   │   │   \u001b[0m\u001b[33mfaiss = FAISS.from_texts(texts, embeddings)\u001b[0m                                \u001b[31m│\u001b[0m\n",
       "\u001b[31m│\u001b[0m   \u001b[2m366 \u001b[0m\u001b[2;33m│   │   \u001b[0m\u001b[33m\"\"\"\u001b[0m                                                                                \u001b[31m│\u001b[0m\n",
       "\u001b[31m│\u001b[0m   \u001b[2m367 \u001b[0m\u001b[2m│   │   \u001b[0membeddings = embedding.embed_documents(texts)                                      \u001b[31m│\u001b[0m\n",
       "\u001b[31m│\u001b[0m \u001b[31m❱ \u001b[0m368 \u001b[2m│   │   \u001b[0m\u001b[94mreturn\u001b[0m \u001b[96mcls\u001b[0m.__from(                                                                 \u001b[31m│\u001b[0m\n",
       "\u001b[31m│\u001b[0m   \u001b[2m369 \u001b[0m\u001b[2m│   │   │   \u001b[0mtexts,                                                                         \u001b[31m│\u001b[0m\n",
       "\u001b[31m│\u001b[0m   \u001b[2m370 \u001b[0m\u001b[2m│   │   │   \u001b[0membeddings,                                                                    \u001b[31m│\u001b[0m\n",
       "\u001b[31m│\u001b[0m   \u001b[2m371 \u001b[0m\u001b[2m│   │   │   \u001b[0membedding,                                                                     \u001b[31m│\u001b[0m\n",
       "\u001b[31m│\u001b[0m                                                                                                  \u001b[31m│\u001b[0m\n",
       "\u001b[31m│\u001b[0m \u001b[2;33m/root/miniconda3/lib/python3.8/site-packages/langchain/vectorstores/\u001b[0m\u001b[1;33mfaiss.py\u001b[0m:\u001b[94m330\u001b[0m in \u001b[92m__from\u001b[0m       \u001b[31m│\u001b[0m\n",
       "\u001b[31m│\u001b[0m                                                                                                  \u001b[31m│\u001b[0m\n",
       "\u001b[31m│\u001b[0m   \u001b[2m327 \u001b[0m\u001b[2m│   │   \u001b[0m**kwargs: Any,                                                                     \u001b[31m│\u001b[0m\n",
       "\u001b[31m│\u001b[0m   \u001b[2m328 \u001b[0m\u001b[2m│   \u001b[0m) -> FAISS:                                                                            \u001b[31m│\u001b[0m\n",
       "\u001b[31m│\u001b[0m   \u001b[2m329 \u001b[0m\u001b[2m│   │   \u001b[0mfaiss = dependable_faiss_import()                                                  \u001b[31m│\u001b[0m\n",
       "\u001b[31m│\u001b[0m \u001b[31m❱ \u001b[0m330 \u001b[2m│   │   \u001b[0mindex = faiss.IndexFlatL2(\u001b[96mlen\u001b[0m(embeddings[\u001b[94m0\u001b[0m]))                                      \u001b[31m│\u001b[0m\n",
       "\u001b[31m│\u001b[0m   \u001b[2m331 \u001b[0m\u001b[2m│   │   \u001b[0mindex.add(np.array(embeddings, dtype=np.float32))                                  \u001b[31m│\u001b[0m\n",
       "\u001b[31m│\u001b[0m   \u001b[2m332 \u001b[0m\u001b[2m│   │   \u001b[0mdocuments = []                                                                     \u001b[31m│\u001b[0m\n",
       "\u001b[31m│\u001b[0m   \u001b[2m333 \u001b[0m\u001b[2m│   │   \u001b[0m\u001b[94mfor\u001b[0m i, text \u001b[95min\u001b[0m \u001b[96menumerate\u001b[0m(texts):                                                   \u001b[31m│\u001b[0m\n",
       "\u001b[31m╰──────────────────────────────────────────────────────────────────────────────────────────────────╯\u001b[0m\n",
       "\u001b[1;91mIndexError: \u001b[0mlist index out of range\n"
      ]
     },
     "metadata": {},
     "output_type": "display_data"
    }
   ],
   "source": [
    "# 执行初始化\n",
    "init_cfg(LLM_MODEL, EMBEDDING_MODEL, LLM_HISTORY_LEN)\n",
    "vector_store = init_knowledge_vector_store(\"/root/autodl-tmp/temp1_FAISS_20230612_110553\")"
   ]
  },
  {
   "cell_type": "code",
   "execution_count": null,
   "metadata": {},
   "outputs": [],
   "source": []
  },
  {
   "cell_type": "code",
   "execution_count": null,
   "metadata": {},
   "outputs": [],
   "source": []
  },
  {
   "cell_type": "code",
   "execution_count": null,
   "metadata": {},
   "outputs": [],
   "source": []
  },
  {
   "cell_type": "code",
   "execution_count": null,
   "metadata": {},
   "outputs": [],
   "source": []
  },
  {
   "cell_type": "code",
   "execution_count": 9,
   "metadata": {},
   "outputs": [
    {
     "name": "stdout",
     "output_type": "stream",
     "text": [
      "<faiss.swigfaiss_avx2.IndexFlat; proxy of <Swig Object of type 'faiss::IndexFlat *' at 0x7f1d70b7c480> >\n"
     ]
    }
   ],
   "source": [
    "import faiss\n",
    "\n",
    "index = faiss.read_index(\"/root/autodl-tmp/temp1_FAISS_20230612_110553/index.faiss\")\n",
    "print(index)\n"
   ]
  },
  {
   "cell_type": "code",
   "execution_count": 11,
   "metadata": {},
   "outputs": [
    {
     "name": "stdout",
     "output_type": "stream",
     "text": [
      "(<langchain.docstore.in_memory.InMemoryDocstore object at 0x7f1e60725790>, {0: '5c6d41da-914e-4969-b85f-bdc722286892', 1: 'bfb263d0-c05e-4a75-b657-a4ca3056671b', 2: '1af378e8-2b1e-4817-b25b-e90d05ffa8b7'})\n"
     ]
    }
   ],
   "source": [
    "import pickle\n",
    "\n",
    "with open(\"/root/autodl-tmp/temp1_FAISS_20230612_110553/index.pkl\", \"rb\") as f:\n",
    "    obj = pickle.load(f)\n",
    "    print(obj)\n"
   ]
  },
  {
   "cell_type": "code",
   "execution_count": null,
   "metadata": {},
   "outputs": [],
   "source": []
  },
  {
   "cell_type": "code",
   "execution_count": null,
   "metadata": {},
   "outputs": [],
   "source": []
  },
  {
   "cell_type": "code",
   "execution_count": null,
   "metadata": {},
   "outputs": [],
   "source": []
  },
  {
   "cell_type": "code",
   "execution_count": null,
   "metadata": {},
   "outputs": [],
   "source": []
  },
  {
   "cell_type": "markdown",
   "metadata": {},
   "source": [
    "# 测试"
   ]
  },
  {
   "cell_type": "code",
   "execution_count": 8,
   "metadata": {
    "id": "E153D99D8F6F40DC96CCB92863FA7016",
    "jupyter": {
     "outputs_hidden": false
    },
    "notebookId": "6439ae318e7b70089c3e133e",
    "slideshow": {
     "slide_type": "slide"
    },
    "tags": []
   },
   "outputs": [
    {
     "name": "stderr",
     "output_type": "stream",
     "text": [
      "The dtype of attention mask (torch.int64) is not bool\n"
     ]
    },
    {
     "data": {
      "text/markdown": [
       "ModelWhale 是一个在线数据科学平台，提供多种数据集和计算资源，支持用户进行数据分析和深度学习。用户可以在 ModelWhale 上创建自己的数据集、编写 Notebook 进行数据分析、运行深度学习模型等。ModelWhale 支持多种编程语言，包括 Python、R、Julia 等，并且提供了丰富的工具和功能，帮助用户进行数据预处理、可视化、模型训练和评估等。同时，ModelWhale 还提供了一些高级功能，如自定义计算引擎、计算资源的管理和共享等，方便用户进行高效的数据科学计算。"
      ],
      "text/plain": [
       "<IPython.core.display.Markdown object>"
      ]
     },
     "metadata": {},
     "output_type": "display_data"
    }
   ],
   "source": [
    "display_answer(query=\"ModelWhale 是什么\",\n",
    "                           vector_store=vector_store)"
   ]
  },
  {
   "cell_type": "code",
   "execution_count": 10,
   "metadata": {
    "id": "58DAACEC845949FC8B5B96E8B4E2E45F",
    "jupyter": {
     "outputs_hidden": false
    },
    "notebookId": "6439ae318e7b70089c3e133e",
    "slideshow": {
     "slide_type": "slide"
    },
    "tags": []
   },
   "outputs": [
    {
     "data": {
      "text/markdown": [
       "ModelWhale 专业版和基础版是两种不同的版本，主要区别在于以下几个方面：\n",
       "\n",
       "1. 价格：基础版的价格为 199 美元，而专业版的价格为 299 美元。\n",
       "\n",
       "2. 功能：基础版只提供了一些基本的数据分析工具，如数据可视化、数据探索和数据建模等，而专业版则提供了更多的高级功能，如深度学习模型训练、自然语言处理、机器学习算法优化等。\n",
       "\n",
       "3. 资源：专业版需要使用一些特殊的计算资源，如 GPU、TPU 等，这些资源通常比较昂贵，需要付费购买。基础版则可以使用普通的 CPU 和内存资源，不需要付费。\n",
       "\n",
       "4. 用户权限：专业版用户可以获得更高的权限，可以访问更多的数据和算法，并且可以进行一些高级的优化和调整。基础版用户只能访问基础数据集和可视化工具，无法访问高级数据和算法。\n",
       "\n",
       "5. 社区支持：专业版用户可以获得更好的社区支持和资源，可以与其他用户交流和合作，而基础版用户则没有这种优势。\n",
       "\n",
       "总的来说，如果你是一名初学者或者需要一些简单的数据分析工具，那么基础版是一个不错的选择。如果你需要更高级的工具和权限，或者需要进行更深入的数据分析和研究，那么专业版可能更适合你。当然，如果你有足够的预算，或者愿意花费一些额外的费用，那么专业版也可以提供一些非常有价值的功能。"
      ],
      "text/plain": [
       "<IPython.core.display.Markdown object>"
      ]
     },
     "metadata": {},
     "output_type": "display_data"
    }
   ],
   "source": [
    "display_answer(query=\"ModelWhale 专业版与基础版的区别是什么？\",\n",
    "                           vector_store=vector_store)"
   ]
  },
  {
   "cell_type": "code",
   "execution_count": 11,
   "metadata": {
    "id": "C17C6F752415425FA402EFB5331AC3AA",
    "jupyter": {
     "outputs_hidden": false
    },
    "notebookId": "6439ae318e7b70089c3e133e",
    "slideshow": {
     "slide_type": "slide"
    },
    "tags": []
   },
   "outputs": [
    {
     "data": {
      "text/markdown": [
       "可能是因为该项目不符合“鲸选计划”的创作者要求。\n",
       "\n",
       "“鲸选计划”旨在鼓励优秀的创作者在社区中分享他们的作品，提高社区的质量和内容数量。创作者需要满足以下要求才能参与“鲸选计划”:\n",
       "\n",
       "1. 项目必须开源，并且包含高质量的内容。\n",
       "2. 项目必须有一定的影响力，能够吸引一定数量的用户参与。\n",
       "3. 项目必须遵守社区规则，不违反相关法律法规。\n",
       "4. 项目必须有一定的创新性和实用性，能够为用户提供有价值的内容。\n",
       "\n",
       "如果该项目不符合以上要求，那么它可能无法获得创作者收益。建议检查该项目是否符合“鲸选计划”的要求，如果不符合，可以尝试申请加入“鲸选计划”的团队，向管理员提交申请，以便获得更好的支持和管理。"
      ],
      "text/plain": [
       "<IPython.core.display.Markdown object>"
      ]
     },
     "metadata": {},
     "output_type": "display_data"
    }
   ],
   "source": [
    "display_answer(query=\"为什么我的项目没有获得创作者收益\",\n",
    "                           vector_store=vector_store)"
   ]
  }
 ],
 "metadata": {
  "kernelspec": {
   "display_name": "Python 3 (ipykernel)",
   "language": "python",
   "name": "python3"
  },
  "language_info": {
   "codemirror_mode": {
    "name": "ipython",
    "version": 3
   },
   "file_extension": ".py",
   "mimetype": "text/x-python",
   "name": "python",
   "nbconvert_exporter": "python",
   "pygments_lexer": "ipython3",
   "version": "3.9.7"
  },
  "toc": {
   "base_numbering": 1,
   "nav_menu": {},
   "number_sections": true,
   "sideBar": true,
   "skip_h1_title": false,
   "title_cell": "Table of Contents",
   "title_sidebar": "Contents",
   "toc_cell": false,
   "toc_position": {},
   "toc_section_display": true,
   "toc_window_display": false
  },
  "varInspector": {
   "cols": {
    "lenName": 16,
    "lenType": 16,
    "lenVar": 40
   },
   "kernels_config": {
    "python": {
     "delete_cmd_postfix": "",
     "delete_cmd_prefix": "del ",
     "library": "var_list.py",
     "varRefreshCmd": "print(var_dic_list())"
    },
    "r": {
     "delete_cmd_postfix": ") ",
     "delete_cmd_prefix": "rm(",
     "library": "var_list.r",
     "varRefreshCmd": "cat(var_dic_list()) "
    }
   },
   "types_to_exclude": [
    "module",
    "function",
    "builtin_function_or_method",
    "instance",
    "_Feature"
   ],
   "window_display": false
  }
 },
 "nbformat": 4,
 "nbformat_minor": 4
}
