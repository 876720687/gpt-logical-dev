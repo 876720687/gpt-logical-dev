{
 "cells": [
  {
   "cell_type": "markdown",
   "metadata": {
    "id": "D89B0EAB542642F98900CCC4D4E49360",
    "jupyter": {},
    "notebookId": "644b7c4749a32aea7f079534",
    "runtime": {
     "execution_status": null,
     "status": "default"
    },
    "slideshow": {
     "slide_type": "slide"
    },
    "tags": []
   },
   "source": [
    "PDF位置：/home/mw/project/d2l-zh-pytorch-2.0.0.pdf  \n",
    "将其转化为词库"
   ]
  },
  {
   "cell_type": "code",
   "execution_count": 1,
   "metadata": {
    "collapsed": true,
    "id": "2A79324E51A045699F8F6E86EA7AFECF",
    "jupyter": {
     "outputs_hidden": true
    },
    "notebookId": "644b7c4749a32aea7f079534",
    "slideshow": {
     "slide_type": "slide"
    },
    "tags": []
   },
   "outputs": [
    {
     "name": "stdout",
     "output_type": "stream",
     "text": [
      "Hit:1 http://archive.ubuntu.com/ubuntu focal InRelease\n",
      "Get:2 http://archive.ubuntu.com/ubuntu focal-updates InRelease [114 kB]\n",
      "Get:3 http://archive.ubuntu.com/ubuntu focal-backports InRelease [108 kB]\n",
      "Get:4 http://security.ubuntu.com/ubuntu focal-security InRelease [114 kB]\n",
      "Get:5 http://archive.ubuntu.com/ubuntu focal-updates/multiverse amd64 Packages [31.2 kB]\n",
      "Get:6 http://archive.ubuntu.com/ubuntu focal-updates/universe amd64 Packages [1,343 kB]\n",
      "Get:7 http://security.ubuntu.com/ubuntu focal-security/multiverse amd64 Packages [28.5 kB]\n",
      "Get:8 http://security.ubuntu.com/ubuntu focal-security/restricted amd64 Packages [2,203 kB]\n",
      "Get:9 http://archive.ubuntu.com/ubuntu focal-updates/main amd64 Packages [3,158 kB]\n",
      "Get:10 http://security.ubuntu.com/ubuntu focal-security/main amd64 Packages [2,680 kB]\n",
      "Get:11 http://security.ubuntu.com/ubuntu focal-security/universe amd64 Packages [1,048 kB]\n",
      "Get:12 http://archive.ubuntu.com/ubuntu focal-updates/restricted amd64 Packages [2,341 kB]\n",
      "Get:13 http://archive.ubuntu.com/ubuntu focal-backports/main amd64 Packages [55.2 kB]\n",
      "Get:14 http://archive.ubuntu.com/ubuntu focal-backports/universe amd64 Packages [28.6 kB]\n",
      "Fetched 13.3 MB in 11s (1,208 kB/s)                                            \n",
      "Reading package lists... Done\n",
      "Reading package lists... Done\n",
      "Building dependency tree       \n",
      "Reading state information... Done\n",
      "The following additional packages will be installed:\n",
      "  libgif7 liblept5 libnspr4 libnss3 libpoppler97 libtesseract4\n",
      "  tesseract-ocr-eng tesseract-ocr-osd\n",
      "The following NEW packages will be installed:\n",
      "  libgif7 liblept5 libnspr4 libnss3 libpoppler97 libtesseract4 poppler-utils\n",
      "  tesseract-ocr tesseract-ocr-eng tesseract-ocr-osd\n",
      "0 upgraded, 10 newly installed, 0 to remove and 81 not upgraded.\n",
      "Need to get 9,571 kB of archives.\n",
      "After this operation, 31.1 MB of additional disk space will be used.\n",
      "Get:1 http://archive.ubuntu.com/ubuntu focal/main amd64 libgif7 amd64 5.1.9-1 [32.2 kB]\n",
      "Get:2 http://archive.ubuntu.com/ubuntu focal/universe amd64 liblept5 amd64 1.79.0-1 [999 kB]\n",
      "Get:3 http://archive.ubuntu.com/ubuntu focal/main amd64 libnspr4 amd64 2:4.25-1 [107 kB]\n",
      "Get:4 http://archive.ubuntu.com/ubuntu focal-updates/main amd64 libnss3 amd64 2:3.49.1-1ubuntu1.9 [1,256 kB]\n",
      "Get:5 http://archive.ubuntu.com/ubuntu focal-updates/main amd64 libpoppler97 amd64 0.86.1-0ubuntu1.1 [916 kB]\n",
      "Get:6 http://archive.ubuntu.com/ubuntu focal/universe amd64 libtesseract4 amd64 4.1.1-2build2 [1,237 kB]\n",
      "Get:7 http://archive.ubuntu.com/ubuntu focal-updates/main amd64 poppler-utils amd64 0.86.1-0ubuntu1.1 [174 kB]\n",
      "Get:8 http://archive.ubuntu.com/ubuntu focal/universe amd64 tesseract-ocr-eng all 1:4.00~git30-7274cfa-1 [1,598 kB]\n",
      "Get:9 http://archive.ubuntu.com/ubuntu focal/universe amd64 tesseract-ocr-osd all 1:4.00~git30-7274cfa-1 [2,990 kB]\n",
      "Get:10 http://archive.ubuntu.com/ubuntu focal/universe amd64 tesseract-ocr amd64 4.1.1-2build2 [262 kB]\n",
      "Fetched 9,571 kB in 4s (2,672 kB/s)      \n",
      "debconf: delaying package configuration, since apt-utils is not installed\n",
      "Selecting previously unselected package libgif7:amd64.\n",
      "(Reading database ... 50070 files and directories currently installed.)\n",
      "Preparing to unpack .../0-libgif7_5.1.9-1_amd64.deb ...\n",
      "Unpacking libgif7:amd64 (5.1.9-1) ...\n",
      "Selecting previously unselected package liblept5:amd64.\n",
      "Preparing to unpack .../1-liblept5_1.79.0-1_amd64.deb ...\n",
      "Unpacking liblept5:amd64 (1.79.0-1) ...\n",
      "Selecting previously unselected package libnspr4:amd64.\n",
      "Preparing to unpack .../2-libnspr4_2%3a4.25-1_amd64.deb ...\n",
      "Unpacking libnspr4:amd64 (2:4.25-1) ...\n",
      "Selecting previously unselected package libnss3:amd64.\n",
      "Preparing to unpack .../3-libnss3_2%3a3.49.1-1ubuntu1.9_amd64.deb ...\n",
      "Unpacking libnss3:amd64 (2:3.49.1-1ubuntu1.9) ...\n",
      "Selecting previously unselected package libpoppler97:amd64.\n",
      "Preparing to unpack .../4-libpoppler97_0.86.1-0ubuntu1.1_amd64.deb ...\n",
      "Unpacking libpoppler97:amd64 (0.86.1-0ubuntu1.1) ...\n",
      "Selecting previously unselected package libtesseract4:amd64.\n",
      "Preparing to unpack .../5-libtesseract4_4.1.1-2build2_amd64.deb ...\n",
      "Unpacking libtesseract4:amd64 (4.1.1-2build2) ...\n",
      "Selecting previously unselected package poppler-utils.\n",
      "Preparing to unpack .../6-poppler-utils_0.86.1-0ubuntu1.1_amd64.deb ...\n",
      "Unpacking poppler-utils (0.86.1-0ubuntu1.1) ...\n",
      "Selecting previously unselected package tesseract-ocr-eng.\n",
      "Preparing to unpack .../7-tesseract-ocr-eng_1%3a4.00~git30-7274cfa-1_all.deb ...\n",
      "Unpacking tesseract-ocr-eng (1:4.00~git30-7274cfa-1) ...\n",
      "Selecting previously unselected package tesseract-ocr-osd.\n",
      "Preparing to unpack .../8-tesseract-ocr-osd_1%3a4.00~git30-7274cfa-1_all.deb ...\n",
      "Unpacking tesseract-ocr-osd (1:4.00~git30-7274cfa-1) ...\n",
      "Selecting previously unselected package tesseract-ocr.\n",
      "Preparing to unpack .../9-tesseract-ocr_4.1.1-2build2_amd64.deb ...\n",
      "Unpacking tesseract-ocr (4.1.1-2build2) ...\n",
      "Setting up tesseract-ocr-eng (1:4.00~git30-7274cfa-1) ...\n",
      "Setting up libnspr4:amd64 (2:4.25-1) ...\n",
      "Setting up libgif7:amd64 (5.1.9-1) ...\n",
      "Setting up tesseract-ocr-osd (1:4.00~git30-7274cfa-1) ...\n",
      "Setting up libnss3:amd64 (2:3.49.1-1ubuntu1.9) ...\n",
      "Setting up libpoppler97:amd64 (0.86.1-0ubuntu1.1) ...\n",
      "Setting up liblept5:amd64 (1.79.0-1) ...\n",
      "Setting up libtesseract4:amd64 (4.1.1-2build2) ...\n",
      "Setting up poppler-utils (0.86.1-0ubuntu1.1) ...\n",
      "Setting up tesseract-ocr (4.1.1-2build2) ...\n",
      "Processing triggers for libc-bin (2.31-0ubuntu9.9) ...\n"
     ]
    }
   ],
   "source": [
    "#sudo apt-get update && sudo apt-get install -y poppler-utils tesseract-ocr"
   ]
  },
  {
   "cell_type": "code",
   "execution_count": 1,
   "metadata": {
    "collapsed": false,
    "id": "AE2092CF28EB43D095027B2D69564EBC",
    "jupyter": {
     "outputs_hidden": false
    },
    "notebookId": "644b7c4749a32aea7f079534",
    "slideshow": {
     "slide_type": "slide"
    },
    "tags": []
   },
   "outputs": [
    {
     "name": "stdout",
     "output_type": "stream",
     "text": [
      "[Errno 2] No such file or directory: '/home/mw/project/langchain-ChatGLM'\n",
      "/root/autodl-tmp/langchain-ChatGLM\n"
     ]
    }
   ],
   "source": [
    "cd /home/mw/project/langchain-ChatGLM"
   ]
  },
  {
   "cell_type": "code",
   "execution_count": 2,
   "metadata": {
    "collapsed": false,
    "id": "810CF482643D4985AFA558B9F60AF78D",
    "jupyter": {
     "outputs_hidden": false
    },
    "notebookId": "644b7c4749a32aea7f079534",
    "scrolled": true,
    "slideshow": {
     "slide_type": "slide"
    },
    "tags": []
   },
   "outputs": [
    {
     "name": "stdout",
     "output_type": "stream",
     "text": [
      "Looking in indexes: https://mirror.sjtu.edu.cn/pypi/web/simple\n",
      "Requirement already satisfied: langchain==0.0.146 in /root/miniconda3/lib/python3.8/site-packages (from -r requirements.txt (line 1)) (0.0.146)\n",
      "Requirement already satisfied: transformers==4.27.1 in /root/miniconda3/lib/python3.8/site-packages (from -r requirements.txt (line 2)) (4.27.1)\n",
      "Requirement already satisfied: unstructured[local-inference] in /root/miniconda3/lib/python3.8/site-packages (from -r requirements.txt (line 3)) (0.6.11)\n",
      "Requirement already satisfied: layoutparser[layoutmodels,tesseract] in /root/miniconda3/lib/python3.8/site-packages (from -r requirements.txt (line 4)) (0.3.4)\n",
      "Requirement already satisfied: nltk in /root/miniconda3/lib/python3.8/site-packages (from -r requirements.txt (line 5)) (3.8.1)\n",
      "Requirement already satisfied: sentence-transformers in /root/miniconda3/lib/python3.8/site-packages (from -r requirements.txt (line 6)) (2.2.2)\n",
      "Requirement already satisfied: beautifulsoup4 in /root/miniconda3/lib/python3.8/site-packages (from -r requirements.txt (line 7)) (4.11.1)\n",
      "Requirement already satisfied: icetk in /root/miniconda3/lib/python3.8/site-packages (from -r requirements.txt (line 8)) (0.0.7)\n",
      "Requirement already satisfied: cpm_kernels in /root/miniconda3/lib/python3.8/site-packages (from -r requirements.txt (line 9)) (1.0.11)\n",
      "Requirement already satisfied: faiss-cpu in /root/miniconda3/lib/python3.8/site-packages (from -r requirements.txt (line 10)) (1.7.4)\n",
      "Requirement already satisfied: accelerate in /root/miniconda3/lib/python3.8/site-packages (from -r requirements.txt (line 11)) (0.19.0)\n",
      "Requirement already satisfied: gradio==3.24.1 in /root/miniconda3/lib/python3.8/site-packages (from -r requirements.txt (line 12)) (3.24.1)\n",
      "Requirement already satisfied: async-timeout<5.0.0,>=4.0.0 in /root/miniconda3/lib/python3.8/site-packages (from langchain==0.0.146->-r requirements.txt (line 1)) (4.0.2)\n",
      "Requirement already satisfied: dataclasses-json<0.6.0,>=0.5.7 in /root/miniconda3/lib/python3.8/site-packages (from langchain==0.0.146->-r requirements.txt (line 1)) (0.5.7)\n",
      "Requirement already satisfied: aiohttp<4.0.0,>=3.8.3 in /root/miniconda3/lib/python3.8/site-packages (from langchain==0.0.146->-r requirements.txt (line 1)) (3.8.4)\n",
      "Requirement already satisfied: tenacity<9.0.0,>=8.1.0 in /root/miniconda3/lib/python3.8/site-packages (from langchain==0.0.146->-r requirements.txt (line 1)) (8.2.2)\n",
      "Requirement already satisfied: numpy<2,>=1 in /root/miniconda3/lib/python3.8/site-packages (from langchain==0.0.146->-r requirements.txt (line 1)) (1.23.1)\n",
      "Requirement already satisfied: pydantic<2,>=1 in /root/miniconda3/lib/python3.8/site-packages (from langchain==0.0.146->-r requirements.txt (line 1)) (1.10.7)\n",
      "Requirement already satisfied: openapi-schema-pydantic<2.0,>=1.2 in /root/miniconda3/lib/python3.8/site-packages (from langchain==0.0.146->-r requirements.txt (line 1)) (1.2.4)\n",
      "Requirement already satisfied: SQLAlchemy<2,>=1 in /root/miniconda3/lib/python3.8/site-packages (from langchain==0.0.146->-r requirements.txt (line 1)) (1.4.48)\n",
      "Requirement already satisfied: numexpr<3.0.0,>=2.8.4 in /root/miniconda3/lib/python3.8/site-packages (from langchain==0.0.146->-r requirements.txt (line 1)) (2.8.4)\n",
      "Requirement already satisfied: PyYAML>=5.4.1 in /root/miniconda3/lib/python3.8/site-packages (from langchain==0.0.146->-r requirements.txt (line 1)) (6.0)\n",
      "Requirement already satisfied: requests<3,>=2 in /root/miniconda3/lib/python3.8/site-packages (from langchain==0.0.146->-r requirements.txt (line 1)) (2.25.1)\n",
      "Requirement already satisfied: tqdm>=4.48.0 in /root/miniconda3/lib/python3.8/site-packages (from langchain==0.0.146->-r requirements.txt (line 1)) (4.61.2)\n",
      "Requirement already satisfied: tokenizers!=0.11.3,<0.14,>=0.11.1 in /root/miniconda3/lib/python3.8/site-packages (from transformers==4.27.1->-r requirements.txt (line 2)) (0.13.3)\n",
      "Requirement already satisfied: huggingface-hub<1.0,>=0.11.0 in /root/miniconda3/lib/python3.8/site-packages (from transformers==4.27.1->-r requirements.txt (line 2)) (0.14.1)\n",
      "Requirement already satisfied: regex!=2019.12.17 in /root/miniconda3/lib/python3.8/site-packages (from transformers==4.27.1->-r requirements.txt (line 2)) (2023.5.5)\n",
      "Requirement already satisfied: filelock in /root/miniconda3/lib/python3.8/site-packages (from transformers==4.27.1->-r requirements.txt (line 2)) (3.12.0)\n",
      "Requirement already satisfied: packaging>=20.0 in /root/miniconda3/lib/python3.8/site-packages (from transformers==4.27.1->-r requirements.txt (line 2)) (23.1)\n",
      "Requirement already satisfied: pillow in /root/miniconda3/lib/python3.8/site-packages (from gradio==3.24.1->-r requirements.txt (line 12)) (9.1.1)\n",
      "Requirement already satisfied: orjson in /root/miniconda3/lib/python3.8/site-packages (from gradio==3.24.1->-r requirements.txt (line 12)) (3.8.12)\n",
      "Requirement already satisfied: typing-extensions in /root/miniconda3/lib/python3.8/site-packages (from gradio==3.24.1->-r requirements.txt (line 12)) (4.2.0)\n",
      "Requirement already satisfied: httpx in /root/miniconda3/lib/python3.8/site-packages (from gradio==3.24.1->-r requirements.txt (line 12)) (0.23.3)\n",
      "Requirement already satisfied: markupsafe in /root/miniconda3/lib/python3.8/site-packages (from gradio==3.24.1->-r requirements.txt (line 12)) (2.1.1)\n",
      "Requirement already satisfied: mdit-py-plugins<=0.3.3 in /root/miniconda3/lib/python3.8/site-packages (from gradio==3.24.1->-r requirements.txt (line 12)) (0.3.3)\n",
      "Requirement already satisfied: semantic-version in /root/miniconda3/lib/python3.8/site-packages (from gradio==3.24.1->-r requirements.txt (line 12)) (2.10.0)\n",
      "Requirement already satisfied: websockets>=10.0 in /root/miniconda3/lib/python3.8/site-packages (from gradio==3.24.1->-r requirements.txt (line 12)) (11.0.3)\n",
      "Requirement already satisfied: ffmpy in /root/miniconda3/lib/python3.8/site-packages (from gradio==3.24.1->-r requirements.txt (line 12)) (0.3.0)\n",
      "Requirement already satisfied: fastapi in /root/miniconda3/lib/python3.8/site-packages (from gradio==3.24.1->-r requirements.txt (line 12)) (0.95.1)\n",
      "Requirement already satisfied: aiofiles in /root/miniconda3/lib/python3.8/site-packages (from gradio==3.24.1->-r requirements.txt (line 12)) (23.1.0)\n",
      "Requirement already satisfied: jinja2 in /root/miniconda3/lib/python3.8/site-packages (from gradio==3.24.1->-r requirements.txt (line 12)) (3.1.2)\n",
      "Requirement already satisfied: gradio-client>=0.0.5 in /root/miniconda3/lib/python3.8/site-packages (from gradio==3.24.1->-r requirements.txt (line 12)) (0.2.4)\n",
      "Requirement already satisfied: markdown-it-py[linkify]>=2.0.0 in /root/miniconda3/lib/python3.8/site-packages (from gradio==3.24.1->-r requirements.txt (line 12)) (2.2.0)\n",
      "Requirement already satisfied: uvicorn in /root/miniconda3/lib/python3.8/site-packages (from gradio==3.24.1->-r requirements.txt (line 12)) (0.22.0)\n",
      "Requirement already satisfied: pandas in /root/miniconda3/lib/python3.8/site-packages (from gradio==3.24.1->-r requirements.txt (line 12)) (1.5.3)\n",
      "Requirement already satisfied: altair>=4.2.0 in /root/miniconda3/lib/python3.8/site-packages (from gradio==3.24.1->-r requirements.txt (line 12)) (5.0.0)\n",
      "Requirement already satisfied: python-multipart in /root/miniconda3/lib/python3.8/site-packages (from gradio==3.24.1->-r requirements.txt (line 12)) (0.0.6)\n",
      "Requirement already satisfied: pydub in /root/miniconda3/lib/python3.8/site-packages (from gradio==3.24.1->-r requirements.txt (line 12)) (0.25.1)\n",
      "Requirement already satisfied: matplotlib in /root/miniconda3/lib/python3.8/site-packages (from gradio==3.24.1->-r requirements.txt (line 12)) (3.5.3)\n",
      "Requirement already satisfied: frozenlist>=1.1.1 in /root/miniconda3/lib/python3.8/site-packages (from aiohttp<4.0.0,>=3.8.3->langchain==0.0.146->-r requirements.txt (line 1)) (1.3.3)\n",
      "Requirement already satisfied: aiosignal>=1.1.2 in /root/miniconda3/lib/python3.8/site-packages (from aiohttp<4.0.0,>=3.8.3->langchain==0.0.146->-r requirements.txt (line 1)) (1.3.1)\n",
      "Requirement already satisfied: yarl<2.0,>=1.0 in /root/miniconda3/lib/python3.8/site-packages (from aiohttp<4.0.0,>=3.8.3->langchain==0.0.146->-r requirements.txt (line 1)) (1.9.2)\n",
      "Requirement already satisfied: charset-normalizer<4.0,>=2.0 in /root/miniconda3/lib/python3.8/site-packages (from aiohttp<4.0.0,>=3.8.3->langchain==0.0.146->-r requirements.txt (line 1)) (3.1.0)\n",
      "Requirement already satisfied: attrs>=17.3.0 in /root/miniconda3/lib/python3.8/site-packages (from aiohttp<4.0.0,>=3.8.3->langchain==0.0.146->-r requirements.txt (line 1)) (22.1.0)\n",
      "Requirement already satisfied: multidict<7.0,>=4.5 in /root/miniconda3/lib/python3.8/site-packages (from aiohttp<4.0.0,>=3.8.3->langchain==0.0.146->-r requirements.txt (line 1)) (6.0.4)\n",
      "Requirement already satisfied: jsonschema>=3.0 in /root/miniconda3/lib/python3.8/site-packages (from altair>=4.2.0->gradio==3.24.1->-r requirements.txt (line 12)) (4.8.0)\n",
      "Requirement already satisfied: toolz in /root/miniconda3/lib/python3.8/site-packages (from altair>=4.2.0->gradio==3.24.1->-r requirements.txt (line 12)) (0.12.0)\n",
      "Requirement already satisfied: marshmallow<4.0.0,>=3.3.0 in /root/miniconda3/lib/python3.8/site-packages (from dataclasses-json<0.6.0,>=0.5.7->langchain==0.0.146->-r requirements.txt (line 1)) (3.19.0)\n",
      "Requirement already satisfied: marshmallow-enum<2.0.0,>=1.5.1 in /root/miniconda3/lib/python3.8/site-packages (from dataclasses-json<0.6.0,>=0.5.7->langchain==0.0.146->-r requirements.txt (line 1)) (1.5.1)\n",
      "Requirement already satisfied: typing-inspect>=0.4.0 in /root/miniconda3/lib/python3.8/site-packages (from dataclasses-json<0.6.0,>=0.5.7->langchain==0.0.146->-r requirements.txt (line 1)) (0.8.0)\n",
      "Requirement already satisfied: fsspec in /root/miniconda3/lib/python3.8/site-packages (from gradio-client>=0.0.5->gradio==3.24.1->-r requirements.txt (line 12)) (2023.5.0)\n",
      "Requirement already satisfied: pyrsistent!=0.17.0,!=0.17.1,!=0.17.2,>=0.14.0 in /root/miniconda3/lib/python3.8/site-packages (from jsonschema>=3.0->altair>=4.2.0->gradio==3.24.1->-r requirements.txt (line 12)) (0.18.1)\n",
      "Requirement already satisfied: importlib-resources>=1.4.0 in /root/miniconda3/lib/python3.8/site-packages (from jsonschema>=3.0->altair>=4.2.0->gradio==3.24.1->-r requirements.txt (line 12)) (5.9.0)\n",
      "Requirement already satisfied: zipp>=3.1.0 in /root/miniconda3/lib/python3.8/site-packages (from importlib-resources>=1.4.0->jsonschema>=3.0->altair>=4.2.0->gradio==3.24.1->-r requirements.txt (line 12)) (3.8.1)\n",
      "Requirement already satisfied: mdurl~=0.1 in /root/miniconda3/lib/python3.8/site-packages (from markdown-it-py[linkify]>=2.0.0->gradio==3.24.1->-r requirements.txt (line 12)) (0.1.2)\n",
      "Requirement already satisfied: linkify-it-py<3,>=1 in /root/miniconda3/lib/python3.8/site-packages (from markdown-it-py[linkify]>=2.0.0->gradio==3.24.1->-r requirements.txt (line 12)) (2.0.2)\n",
      "Requirement already satisfied: uc-micro-py in /root/miniconda3/lib/python3.8/site-packages (from linkify-it-py<3,>=1->markdown-it-py[linkify]>=2.0.0->gradio==3.24.1->-r requirements.txt (line 12)) (1.0.2)\n",
      "Requirement already satisfied: pytz>=2020.1 in /root/miniconda3/lib/python3.8/site-packages (from pandas->gradio==3.24.1->-r requirements.txt (line 12)) (2022.2.1)\n",
      "Requirement already satisfied: python-dateutil>=2.8.1 in /root/miniconda3/lib/python3.8/site-packages (from pandas->gradio==3.24.1->-r requirements.txt (line 12)) (2.8.2)\n",
      "Requirement already satisfied: six>=1.5 in /root/miniconda3/lib/python3.8/site-packages (from python-dateutil>=2.8.1->pandas->gradio==3.24.1->-r requirements.txt (line 12)) (1.16.0)\n",
      "Requirement already satisfied: urllib3<1.27,>=1.21.1 in /root/miniconda3/lib/python3.8/site-packages (from requests<3,>=2->langchain==0.0.146->-r requirements.txt (line 1)) (1.26.6)\n",
      "Requirement already satisfied: certifi>=2017.4.17 in /root/miniconda3/lib/python3.8/site-packages (from requests<3,>=2->langchain==0.0.146->-r requirements.txt (line 1)) (2021.5.30)\n",
      "Requirement already satisfied: chardet<5,>=3.0.2 in /root/miniconda3/lib/python3.8/site-packages (from requests<3,>=2->langchain==0.0.146->-r requirements.txt (line 1)) (4.0.0)\n",
      "Requirement already satisfied: idna<3,>=2.5 in /root/miniconda3/lib/python3.8/site-packages (from requests<3,>=2->langchain==0.0.146->-r requirements.txt (line 1)) (2.10)\n",
      "Requirement already satisfied: greenlet!=0.4.17 in /root/miniconda3/lib/python3.8/site-packages (from SQLAlchemy<2,>=1->langchain==0.0.146->-r requirements.txt (line 1)) (2.0.2)\n",
      "Requirement already satisfied: mypy-extensions>=0.3.0 in /root/miniconda3/lib/python3.8/site-packages (from typing-inspect>=0.4.0->dataclasses-json<0.6.0,>=0.5.7->langchain==0.0.146->-r requirements.txt (line 1)) (1.0.0)\n",
      "Requirement already satisfied: click in /root/miniconda3/lib/python3.8/site-packages (from nltk->-r requirements.txt (line 5)) (8.1.3)\n",
      "Requirement already satisfied: joblib in /root/miniconda3/lib/python3.8/site-packages (from nltk->-r requirements.txt (line 5)) (1.2.0)\n",
      "Requirement already satisfied: sentencepiece in /root/miniconda3/lib/python3.8/site-packages (from sentence-transformers->-r requirements.txt (line 6)) (0.1.99)\n",
      "Requirement already satisfied: scikit-learn in /root/miniconda3/lib/python3.8/site-packages (from sentence-transformers->-r requirements.txt (line 6)) (1.2.2)\n",
      "Requirement already satisfied: scipy in /root/miniconda3/lib/python3.8/site-packages (from sentence-transformers->-r requirements.txt (line 6)) (1.10.1)\n",
      "Requirement already satisfied: torch>=1.6.0 in /root/miniconda3/lib/python3.8/site-packages (from sentence-transformers->-r requirements.txt (line 6)) (2.0.1)\n",
      "Requirement already satisfied: torchvision in /root/miniconda3/lib/python3.8/site-packages (from sentence-transformers->-r requirements.txt (line 6)) (0.15.2)\n",
      "Requirement already satisfied: nvidia-cuda-cupti-cu11==11.7.101 in /root/miniconda3/lib/python3.8/site-packages (from torch>=1.6.0->sentence-transformers->-r requirements.txt (line 6)) (11.7.101)\n",
      "Requirement already satisfied: nvidia-curand-cu11==10.2.10.91 in /root/miniconda3/lib/python3.8/site-packages (from torch>=1.6.0->sentence-transformers->-r requirements.txt (line 6)) (10.2.10.91)\n",
      "Requirement already satisfied: nvidia-nvtx-cu11==11.7.91 in /root/miniconda3/lib/python3.8/site-packages (from torch>=1.6.0->sentence-transformers->-r requirements.txt (line 6)) (11.7.91)\n",
      "Requirement already satisfied: networkx in /root/miniconda3/lib/python3.8/site-packages (from torch>=1.6.0->sentence-transformers->-r requirements.txt (line 6)) (3.1)\n",
      "Requirement already satisfied: nvidia-cusolver-cu11==11.4.0.1 in /root/miniconda3/lib/python3.8/site-packages (from torch>=1.6.0->sentence-transformers->-r requirements.txt (line 6)) (11.4.0.1)\n",
      "Requirement already satisfied: nvidia-cufft-cu11==10.9.0.58 in /root/miniconda3/lib/python3.8/site-packages (from torch>=1.6.0->sentence-transformers->-r requirements.txt (line 6)) (10.9.0.58)\n",
      "Requirement already satisfied: triton==2.0.0 in /root/miniconda3/lib/python3.8/site-packages (from torch>=1.6.0->sentence-transformers->-r requirements.txt (line 6)) (2.0.0)\n",
      "Requirement already satisfied: nvidia-cuda-runtime-cu11==11.7.99 in /root/miniconda3/lib/python3.8/site-packages (from torch>=1.6.0->sentence-transformers->-r requirements.txt (line 6)) (11.7.99)\n",
      "Requirement already satisfied: nvidia-cuda-nvrtc-cu11==11.7.99 in /root/miniconda3/lib/python3.8/site-packages (from torch>=1.6.0->sentence-transformers->-r requirements.txt (line 6)) (11.7.99)\n",
      "Requirement already satisfied: nvidia-nccl-cu11==2.14.3 in /root/miniconda3/lib/python3.8/site-packages (from torch>=1.6.0->sentence-transformers->-r requirements.txt (line 6)) (2.14.3)\n",
      "Requirement already satisfied: nvidia-cusparse-cu11==11.7.4.91 in /root/miniconda3/lib/python3.8/site-packages (from torch>=1.6.0->sentence-transformers->-r requirements.txt (line 6)) (11.7.4.91)\n",
      "Requirement already satisfied: sympy in /root/miniconda3/lib/python3.8/site-packages (from torch>=1.6.0->sentence-transformers->-r requirements.txt (line 6)) (1.12)\n",
      "Requirement already satisfied: nvidia-cudnn-cu11==8.5.0.96 in /root/miniconda3/lib/python3.8/site-packages (from torch>=1.6.0->sentence-transformers->-r requirements.txt (line 6)) (8.5.0.96)\n",
      "Requirement already satisfied: nvidia-cublas-cu11==11.10.3.66 in /root/miniconda3/lib/python3.8/site-packages (from torch>=1.6.0->sentence-transformers->-r requirements.txt (line 6)) (11.10.3.66)\n",
      "Requirement already satisfied: wheel in /root/miniconda3/lib/python3.8/site-packages (from nvidia-cublas-cu11==11.10.3.66->torch>=1.6.0->sentence-transformers->-r requirements.txt (line 6)) (0.36.2)\n",
      "Requirement already satisfied: setuptools in /root/miniconda3/lib/python3.8/site-packages (from nvidia-cublas-cu11==11.10.3.66->torch>=1.6.0->sentence-transformers->-r requirements.txt (line 6)) (52.0.0.post20210125)\n",
      "Requirement already satisfied: lit in /root/miniconda3/lib/python3.8/site-packages (from triton==2.0.0->torch>=1.6.0->sentence-transformers->-r requirements.txt (line 6)) (16.0.3)\n",
      "Requirement already satisfied: cmake in /root/miniconda3/lib/python3.8/site-packages (from triton==2.0.0->torch>=1.6.0->sentence-transformers->-r requirements.txt (line 6)) (3.26.3)\n",
      "Requirement already satisfied: soupsieve>1.2 in /root/miniconda3/lib/python3.8/site-packages (from beautifulsoup4->-r requirements.txt (line 7)) (2.3.2.post1)\n",
      "Requirement already satisfied: protobuf<3.19 in /root/miniconda3/lib/python3.8/site-packages (from icetk->-r requirements.txt (line 8)) (3.18.3)\n",
      "Requirement already satisfied: psutil in /root/miniconda3/lib/python3.8/site-packages (from accelerate->-r requirements.txt (line 11)) (5.9.1)\n",
      "Requirement already satisfied: starlette<0.27.0,>=0.26.1 in /root/miniconda3/lib/python3.8/site-packages (from fastapi->gradio==3.24.1->-r requirements.txt (line 12)) (0.26.1)\n",
      "Requirement already satisfied: anyio<5,>=3.4.0 in /root/miniconda3/lib/python3.8/site-packages (from starlette<0.27.0,>=0.26.1->fastapi->gradio==3.24.1->-r requirements.txt (line 12)) (3.6.1)\n",
      "Requirement already satisfied: sniffio>=1.1 in /root/miniconda3/lib/python3.8/site-packages (from anyio<5,>=3.4.0->starlette<0.27.0,>=0.26.1->fastapi->gradio==3.24.1->-r requirements.txt (line 12)) (1.2.0)\n",
      "Requirement already satisfied: httpcore<0.17.0,>=0.15.0 in /root/miniconda3/lib/python3.8/site-packages (from httpx->gradio==3.24.1->-r requirements.txt (line 12)) (0.16.3)\n",
      "Requirement already satisfied: rfc3986[idna2008]<2,>=1.3 in /root/miniconda3/lib/python3.8/site-packages (from httpx->gradio==3.24.1->-r requirements.txt (line 12)) (1.5.0)\n",
      "Requirement already satisfied: h11<0.15,>=0.13 in /root/miniconda3/lib/python3.8/site-packages (from httpcore<0.17.0,>=0.15.0->httpx->gradio==3.24.1->-r requirements.txt (line 12)) (0.14.0)\n",
      "Requirement already satisfied: opencv-python in /root/miniconda3/lib/python3.8/site-packages (from layoutparser[layoutmodels,tesseract]->-r requirements.txt (line 4)) (4.7.0.72)\n",
      "Requirement already satisfied: pdfplumber in /root/miniconda3/lib/python3.8/site-packages (from layoutparser[layoutmodels,tesseract]->-r requirements.txt (line 4)) (0.9.0)\n",
      "Requirement already satisfied: iopath in /root/miniconda3/lib/python3.8/site-packages (from layoutparser[layoutmodels,tesseract]->-r requirements.txt (line 4)) (0.1.10)\n",
      "Requirement already satisfied: pdf2image in /root/miniconda3/lib/python3.8/site-packages (from layoutparser[layoutmodels,tesseract]->-r requirements.txt (line 4)) (1.16.3)\n",
      "Requirement already satisfied: pytesseract in /root/miniconda3/lib/python3.8/site-packages (from layoutparser[layoutmodels,tesseract]->-r requirements.txt (line 4)) (0.3.10)\n",
      "Requirement already satisfied: effdet in /root/miniconda3/lib/python3.8/site-packages (from layoutparser[layoutmodels,tesseract]->-r requirements.txt (line 4)) (0.3.0)\n",
      "Requirement already satisfied: timm>=0.4.12 in /root/miniconda3/lib/python3.8/site-packages (from effdet->layoutparser[layoutmodels,tesseract]->-r requirements.txt (line 4)) (0.9.2)\n",
      "Requirement already satisfied: omegaconf>=2.0 in /root/miniconda3/lib/python3.8/site-packages (from effdet->layoutparser[layoutmodels,tesseract]->-r requirements.txt (line 4)) (2.3.0)\n",
      "Requirement already satisfied: pycocotools>=2.0.2 in /root/miniconda3/lib/python3.8/site-packages (from effdet->layoutparser[layoutmodels,tesseract]->-r requirements.txt (line 4)) (2.0.6)\n",
      "Requirement already satisfied: antlr4-python3-runtime==4.9.* in /root/miniconda3/lib/python3.8/site-packages (from omegaconf>=2.0->effdet->layoutparser[layoutmodels,tesseract]->-r requirements.txt (line 4)) (4.9.3)\n",
      "Requirement already satisfied: kiwisolver>=1.0.1 in /root/miniconda3/lib/python3.8/site-packages (from matplotlib->gradio==3.24.1->-r requirements.txt (line 12)) (1.4.4)\n",
      "Requirement already satisfied: fonttools>=4.22.0 in /root/miniconda3/lib/python3.8/site-packages (from matplotlib->gradio==3.24.1->-r requirements.txt (line 12)) (4.37.1)\n",
      "Requirement already satisfied: pyparsing>=2.2.1 in /root/miniconda3/lib/python3.8/site-packages (from matplotlib->gradio==3.24.1->-r requirements.txt (line 12)) (3.0.9)\n",
      "Requirement already satisfied: cycler>=0.10 in /root/miniconda3/lib/python3.8/site-packages (from matplotlib->gradio==3.24.1->-r requirements.txt (line 12)) (0.11.0)\n",
      "Requirement already satisfied: safetensors in /root/miniconda3/lib/python3.8/site-packages (from timm>=0.4.12->effdet->layoutparser[layoutmodels,tesseract]->-r requirements.txt (line 4)) (0.3.1)\n",
      "Requirement already satisfied: portalocker in /root/miniconda3/lib/python3.8/site-packages (from iopath->layoutparser[layoutmodels,tesseract]->-r requirements.txt (line 4)) (2.7.0)\n",
      "Requirement already satisfied: pdfminer.six==20221105 in /root/miniconda3/lib/python3.8/site-packages (from pdfplumber->layoutparser[layoutmodels,tesseract]->-r requirements.txt (line 4)) (20221105)\n",
      "Requirement already satisfied: Wand>=0.6.10 in /root/miniconda3/lib/python3.8/site-packages (from pdfplumber->layoutparser[layoutmodels,tesseract]->-r requirements.txt (line 4)) (0.6.11)\n",
      "Requirement already satisfied: cryptography>=36.0.0 in /root/miniconda3/lib/python3.8/site-packages (from pdfminer.six==20221105->pdfplumber->layoutparser[layoutmodels,tesseract]->-r requirements.txt (line 4)) (40.0.2)\n",
      "Requirement already satisfied: cffi>=1.12 in /root/miniconda3/lib/python3.8/site-packages (from cryptography>=36.0.0->pdfminer.six==20221105->pdfplumber->layoutparser[layoutmodels,tesseract]->-r requirements.txt (line 4)) (1.14.6)\n",
      "Requirement already satisfied: pycparser in /root/miniconda3/lib/python3.8/site-packages (from cffi>=1.12->cryptography>=36.0.0->pdfminer.six==20221105->pdfplumber->layoutparser[layoutmodels,tesseract]->-r requirements.txt (line 4)) (2.20)\n",
      "Requirement already satisfied: threadpoolctl>=2.0.0 in /root/miniconda3/lib/python3.8/site-packages (from scikit-learn->sentence-transformers->-r requirements.txt (line 6)) (3.1.0)\n",
      "Requirement already satisfied: mpmath>=0.19 in /root/miniconda3/lib/python3.8/site-packages (from sympy->torch>=1.6.0->sentence-transformers->-r requirements.txt (line 6)) (1.3.0)\n",
      "Requirement already satisfied: openpyxl in /root/miniconda3/lib/python3.8/site-packages (from unstructured[local-inference]->-r requirements.txt (line 3)) (3.1.2)\n",
      "Requirement already satisfied: msg-parser in /root/miniconda3/lib/python3.8/site-packages (from unstructured[local-inference]->-r requirements.txt (line 3)) (1.2.0)\n",
      "Requirement already satisfied: pypandoc in /root/miniconda3/lib/python3.8/site-packages (from unstructured[local-inference]->-r requirements.txt (line 3)) (1.11)\n",
      "Requirement already satisfied: python-magic in /root/miniconda3/lib/python3.8/site-packages (from unstructured[local-inference]->-r requirements.txt (line 3)) (0.4.27)\n",
      "Requirement already satisfied: lxml in /root/miniconda3/lib/python3.8/site-packages (from unstructured[local-inference]->-r requirements.txt (line 3)) (4.8.0)\n",
      "Requirement already satisfied: python-docx in /root/miniconda3/lib/python3.8/site-packages (from unstructured[local-inference]->-r requirements.txt (line 3)) (0.8.11)\n",
      "Requirement already satisfied: xlrd in /root/miniconda3/lib/python3.8/site-packages (from unstructured[local-inference]->-r requirements.txt (line 3)) (2.0.1)\n",
      "Requirement already satisfied: python-pptx in /root/miniconda3/lib/python3.8/site-packages (from unstructured[local-inference]->-r requirements.txt (line 3)) (0.6.21)\n",
      "Requirement already satisfied: argilla in /root/miniconda3/lib/python3.8/site-packages (from unstructured[local-inference]->-r requirements.txt (line 3)) (1.7.0)\n",
      "Requirement already satisfied: markdown in /root/miniconda3/lib/python3.8/site-packages (from unstructured[local-inference]->-r requirements.txt (line 3)) (3.4.1)\n",
      "Requirement already satisfied: unstructured-inference==0.4.4 in /root/miniconda3/lib/python3.8/site-packages (from unstructured[local-inference]->-r requirements.txt (line 3)) (0.4.4)\n",
      "Requirement already satisfied: onnxruntime in /root/miniconda3/lib/python3.8/site-packages (from unstructured-inference==0.4.4->unstructured[local-inference]->-r requirements.txt (line 3)) (1.14.1)\n",
      "Requirement already satisfied: backoff in /root/miniconda3/lib/python3.8/site-packages (from argilla->unstructured[local-inference]->-r requirements.txt (line 3)) (2.2.1)\n",
      "Requirement already satisfied: wrapt<1.15,>=1.13 in /root/miniconda3/lib/python3.8/site-packages (from argilla->unstructured[local-inference]->-r requirements.txt (line 3)) (1.14.1)\n",
      "Requirement already satisfied: monotonic in /root/miniconda3/lib/python3.8/site-packages (from argilla->unstructured[local-inference]->-r requirements.txt (line 3)) (1.6)\n",
      "Requirement already satisfied: deprecated~=1.2.0 in /root/miniconda3/lib/python3.8/site-packages (from argilla->unstructured[local-inference]->-r requirements.txt (line 3)) (1.2.13)\n",
      "Requirement already satisfied: rich<=13.0.1 in /root/miniconda3/lib/python3.8/site-packages (from argilla->unstructured[local-inference]->-r requirements.txt (line 3)) (13.0.1)\n",
      "Requirement already satisfied: typer<1.0.0,>=0.6.0 in /root/miniconda3/lib/python3.8/site-packages (from argilla->unstructured[local-inference]->-r requirements.txt (line 3)) (0.9.0)\n",
      "Requirement already satisfied: pygments<3.0.0,>=2.6.0 in /root/miniconda3/lib/python3.8/site-packages (from rich<=13.0.1->argilla->unstructured[local-inference]->-r requirements.txt (line 3)) (2.12.0)\n",
      "Requirement already satisfied: commonmark<0.10.0,>=0.9.0 in /root/miniconda3/lib/python3.8/site-packages (from rich<=13.0.1->argilla->unstructured[local-inference]->-r requirements.txt (line 3)) (0.9.1)\n",
      "Requirement already satisfied: importlib-metadata>=4.4 in /root/miniconda3/lib/python3.8/site-packages (from markdown->unstructured[local-inference]->-r requirements.txt (line 3)) (4.12.0)\n",
      "Requirement already satisfied: olefile>=0.46 in /root/miniconda3/lib/python3.8/site-packages (from msg-parser->unstructured[local-inference]->-r requirements.txt (line 3)) (0.46)\n",
      "Requirement already satisfied: flatbuffers in /root/miniconda3/lib/python3.8/site-packages (from onnxruntime->unstructured-inference==0.4.4->unstructured[local-inference]->-r requirements.txt (line 3)) (1.12)\n",
      "Requirement already satisfied: coloredlogs in /root/miniconda3/lib/python3.8/site-packages (from onnxruntime->unstructured-inference==0.4.4->unstructured[local-inference]->-r requirements.txt (line 3)) (15.0.1)\n",
      "Requirement already satisfied: humanfriendly>=9.1 in /root/miniconda3/lib/python3.8/site-packages (from coloredlogs->onnxruntime->unstructured-inference==0.4.4->unstructured[local-inference]->-r requirements.txt (line 3)) (10.0)\n",
      "Requirement already satisfied: et-xmlfile in /root/miniconda3/lib/python3.8/site-packages (from openpyxl->unstructured[local-inference]->-r requirements.txt (line 3)) (1.1.0)\n",
      "Requirement already satisfied: XlsxWriter>=0.5.7 in /root/miniconda3/lib/python3.8/site-packages (from python-pptx->unstructured[local-inference]->-r requirements.txt (line 3)) (3.1.0)\n",
      "\u001b[33mWARNING: Running pip as the 'root' user can result in broken permissions and conflicting behaviour with the system package manager. It is recommended to use a virtual environment instead: https://pip.pypa.io/warnings/venv\u001b[0m\n"
     ]
    }
   ],
   "source": [
    "# 安装依赖\n",
    "!pip install -r requirements.txt -i https://mirror.sjtu.edu.cn/pypi/web/simple"
   ]
  },
  {
   "cell_type": "code",
   "execution_count": 3,
   "metadata": {
    "collapsed": false,
    "id": "4FC61B519BE24DD590C9913A15FBDA95",
    "jupyter": {
     "outputs_hidden": false
    },
    "notebookId": "644b7c4749a32aea7f079534",
    "slideshow": {
     "slide_type": "slide"
    },
    "tags": []
   },
   "outputs": [],
   "source": [
    "# 安装nltk_data\n",
    "# !cp -r nltk_data /home/mw"
   ]
  },
  {
   "cell_type": "code",
   "execution_count": 2,
   "metadata": {
    "collapsed": false,
    "id": "6314A856D10344E68E800ABBF2DBEB5F",
    "jupyter": {
     "outputs_hidden": false
    },
    "notebookId": "644b7c4749a32aea7f079534",
    "slideshow": {
     "slide_type": "slide"
    },
    "tags": []
   },
   "outputs": [],
   "source": [
    "# 使用 Markdown 格式打印模型输出\n",
    "from IPython.display import display, Markdown, clear_output\n",
    "\n",
    "def display_answer(agent, query, vs_path, history=[]):\n",
    "    for resp, history in local_doc_qa.get_knowledge_based_answer(query=query,\n",
    "                                                                 vs_path=vs_path,\n",
    "                                                                 chat_history=history,\n",
    "                                                                 streaming=True):\n",
    "        clear_output(wait=True)\n",
    "        display(Markdown(resp[\"result\"]))\n",
    "    return resp, history"
   ]
  },
  {
   "cell_type": "code",
   "execution_count": 3,
   "metadata": {
    "collapsed": false,
    "id": "0B5EAEFEB72241DD870851D2738FE624",
    "jupyter": {
     "outputs_hidden": false
    },
    "notebookId": "644b7c4749a32aea7f079534",
    "slideshow": {
     "slide_type": "slide"
    },
    "tags": []
   },
   "outputs": [
    {
     "name": "stderr",
     "output_type": "stream",
     "text": [
      "Explicitly passing a `revision` is encouraged when loading a model with custom code to ensure no malicious code has been contributed in a newer revision.\n",
      "Explicitly passing a `revision` is encouraged when loading a configuration with custom code to ensure no malicious code has been contributed in a newer revision.\n",
      "Explicitly passing a `revision` is encouraged when loading a model with custom code to ensure no malicious code has been contributed in a newer revision.\n",
      "2023-06-12 10:51:46.697772: I tensorflow/core/util/util.cc:169] oneDNN custom operations are on. You may see slightly different numerical results due to floating-point round-off errors from different computation orders. To turn them off, set the environment variable `TF_ENABLE_ONEDNN_OPTS=0`.\n"
     ]
    },
    {
     "data": {
      "application/json": {
       "ascii": false,
       "bar_format": null,
       "colour": null,
       "elapsed": 0.03029322624206543,
       "initial": 0,
       "n": 0,
       "ncols": null,
       "nrows": null,
       "postfix": null,
       "prefix": "Loading checkpoint shards",
       "rate": null,
       "total": 8,
       "unit": "it",
       "unit_divisor": 1000,
       "unit_scale": false
      },
      "application/vnd.jupyter.widget-view+json": {
       "model_id": "3f166c847d3145958e05ca40c8220d14",
       "version_major": 2,
       "version_minor": 0
      },
      "text/plain": [
       "Loading checkpoint shards:   0%|          | 0/8 [00:00<?, ?it/s]"
      ]
     },
     "metadata": {},
     "output_type": "display_data"
    },
    {
     "name": "stderr",
     "output_type": "stream",
     "text": [
      "No sentence-transformers model found with name /root/autodl-tmp/text2vec-large-chinese. Creating a new one with MEAN pooling.\n"
     ]
    }
   ],
   "source": [
    "import torch.cuda\n",
    "import torch.backends\n",
    "\n",
    "from configs import model_config\n",
    "\n",
    "# 全局参数，修改后请重新初始化\n",
    "model_config.embedding_model_dict = {\n",
    "    \"ernie-tiny\": \"nghuyong/ernie-3.0-nano-zh\",\n",
    "    \"ernie-base\": \"nghuyong/ernie-3.0-base-zh\",\n",
    "    \"text2vec-base\": \"shibing624/text2vec-base-chinese\",\n",
    "    \"text2vec\": \"/root/autodl-tmp/text2vec-large-chinese\", # /home/mw/input/text2vec2538\n",
    "}\n",
    "model_config.llm_model_dict = {\n",
    "    \"chatyuan\": \"ClueAI/ChatYuan-large-v2\",\n",
    "    \"chatglm-6b-int4-qe\": \"THUDM/chatglm-6b-int4-qe\",\n",
    "    \"chatglm-6b-int4\": \"THUDM/chatglm-6b-int4\",\n",
    "    \"chatglm-6b-int8\": \"THUDM/chatglm-6b-int8\",\n",
    "    \"chatglm-6b\": \"/root/autodl-tmp/model/chatglm-6b\", # /home/mw/input/ChatGLM6B6449\n",
    "}\n",
    "model_config.VS_ROOT_PATH = \"\" #/home/mw/temp\n",
    "\n",
    "from chains.local_doc_qa import LocalDocQA\n",
    "\n",
    "EMBEDDING_MODEL = \"text2vec\" # embedding 模型，对应 embedding_model_dict\n",
    "VECTOR_SEARCH_TOP_K = 6\n",
    "LLM_MODEL = \"chatglm-6b\"     # LLM 模型名，对应 llm_model_dict\n",
    "LLM_HISTORY_LEN = 3\n",
    "DEVICE = \"cuda\" if torch.cuda.is_available() else \"mps\" if torch.backends.mps.is_available() else \"cpu\"\n",
    "\n",
    "local_doc_qa = LocalDocQA()\n",
    "\n",
    "local_doc_qa.init_cfg(llm_model=LLM_MODEL,\n",
    "                          embedding_model=EMBEDDING_MODEL,\n",
    "                          llm_history_len=LLM_HISTORY_LEN,\n",
    "                          top_k=VECTOR_SEARCH_TOP_K)"
   ]
  },
  {
   "cell_type": "code",
   "execution_count": null,
   "metadata": {},
   "outputs": [],
   "source": []
  },
  {
   "cell_type": "code",
   "execution_count": null,
   "metadata": {
    "collapsed": false,
    "id": "37118B9733CA425881F79E7C0423A9C9",
    "jupyter": {
     "outputs_hidden": false
    },
    "notebookId": "644b7c4749a32aea7f079534",
    "slideshow": {
     "slide_type": "slide"
    },
    "tags": []
   },
   "outputs": [],
   "source": [
    "vs_path, _ = local_doc_qa.init_knowledge_vector_store(\"/home/mw/project/d2l-zh-pytorch-2.0.0.pdf\")\n",
    "vs_path"
   ]
  },
  {
   "cell_type": "code",
   "execution_count": null,
   "metadata": {},
   "outputs": [],
   "source": []
  },
  {
   "cell_type": "code",
   "execution_count": 7,
   "metadata": {
    "collapsed": false,
    "id": "BD931141B1F548C48AF461A8653E3D85",
    "jupyter": {
     "outputs_hidden": false
    },
    "notebookId": "644b7c4749a32aea7f079534",
    "slideshow": {
     "slide_type": "slide"
    },
    "tags": []
   },
   "outputs": [
    {
     "data": {
      "text/markdown": [
       "DenseNet 是一种现代的卷积神经网络模型，旨在提高 ResNet 等传统卷积神经网络的性能。与 ResNet 不同，DenseNet 在最终输出层使用大量连接(稠密连接)，而不是在输入和输出之间使用加法连接。DenseNet 的主要目的是将输入数据映射到更高级别的特征空间，使得模型可以更好地捕捉数据之间的复杂关系。\n",
       "\n",
       "DenseNet 由两个主要部分组成：稠密块和过渡层。稠密块由多个卷积层组成，每个卷积层都使用不同的参数和特征提取方法。过渡层位于稠密块和输出层之间，通过平均汇聚层和最大汇聚层来控制网络的维度和参数数量。\n",
       "\n",
       "DenseNet 在构建时需要注意到稠密块和输出层之间的通道数关系，以避免内存或显存消耗过多的问题。同时，DenseNet 也具有比 ResNet 更高的准确率，但其参数数量较小，因此训练时间更长。"
      ],
      "text/plain": [
       "<IPython.core.display.Markdown object>"
      ]
     },
     "metadata": {},
     "output_type": "display_data"
    },
    {
     "data": {
      "text/plain": [
       "[Document(page_content=' . . . . . . 289 7.7.3 过渡层 . . . . . . . . . . . . . . . . . . . . . . . . . . . . . . . . . . . . . . . . . . 290 7.7.4 DenseNet模型 . . . . . . . . . . . . . . . . . . . . . . . . . . . . . . . . . . . . . . 291 7.7.5 训练模型 . . . . . . . . . . . . . .', metadata={'source': '/home/mw/project/d2l-zh-pytorch-2.0.0.pdf', 'score': 372.89026}),\n",
       " Document(page_content='7.1)  (7.7.2)  也就是说，ResNet将f 分解为两部分：⼀个简单的线性项和⼀个复杂的⾮线性项。那么再向前拓展⼀步，如 果我们想将f 拓展成超过两部分的信息呢？⼀种⽅案便是DenseNet。  96 https://discuss.d2l.ai/t/1877  288  7. 现代卷积神经⽹络  图7.7.1: ResNet（左）与 DenseNet（右）在跨层连接上的主要区别：使⽤相加和使⽤连结。', metadata={'source': '/home/mw/project/d2l-zh-pytorch-2.0.0.pdf', 'score': 547.02405}),\n",
       " Document(page_content=' f1(x); f2([x; f1(x)])]); : : :] :  (7.7.3)  最后，将这些展开式结合到多层感知机中，再次减少特征的数量。实现起来⾮常简单：我们不需要添加术语， ⽽是将它们连接起来。DenseNet这个名字由变量之间的“稠密连接”⽽得来，最后⼀层与之前的所有层紧密 相连。稠密连接如 图7.7.2所⽰。  图7.7.2: 稠密连接。  稠密⽹络主要由2部分构成：稠密块（dense block）和过渡层（transition layer）。', metadata={'source': '/home/mw/project/d2l-zh-pytorch-2.0.0.pdf', 'score': 527.253}),\n",
       " Document(page_content='  blk = transition_block(23, 10)  blk(Y).shape  torch.Size([4, 10, 4, 4])  7.7.4 DenseNet模型  我们来构造DenseNet模型。DenseNet⾸先使⽤同ResNet⼀样的单卷积层和最⼤汇聚层。  b1 = nn.Sequential(  nn.Conv2d(1, 64, kernel_size=7, stride=2, padding=3),  nn.BatchNorm2d(64), nn.', metadata={'source': '/home/mw/project/d2l-zh-pytorch-2.0.0.pdf', 'score': 288.615}),\n",
       " Document(page_content='950, test acc 0.882  5544.6 examples/sec on cuda:0  ⼩结  在跨层连接上，不同于ResNet中将输⼊与输出相加，稠密连接⽹络（DenseNet）在通道维上连结输⼊  与输出。  DenseNet的主要构建模块是稠密块和过渡层。  在构建DenseNet时，我们需要通过添加过渡层来控制⽹络的维数，从⽽再次减少通道的数量。  292  7. 现代卷积神经⽹络  练习  1. 为什么我们在过渡层使⽤平均汇聚层⽽不是最⼤汇聚层？  2. DenseNet的优点之⼀是其模型参数⽐ResNet⼩。为什么呢？  3. DenseNet⼀个诟病的问题是内存或显存消耗过多。  1. 真的是这样吗？可以把输⼊形状换成224 (cid:2) 224，来看看实际的显存消耗。  2.', metadata={'source': '/home/mw/project/d2l-zh-pytorch-2.0.0.pdf', 'score': 323.73102})]"
      ]
     },
     "metadata": {},
     "output_type": "execute_result"
    }
   ],
   "source": [
    "# 可以额外返回参照的知识库源信息\n",
    "history = []\n",
    "resp, history = display_answer(local_doc_qa, query=\"什么是 DenseNet 模型\", vs_path=vs_path, history=history)\n",
    "resp[\"source_documents\"]"
   ]
  },
  {
   "cell_type": "code",
   "execution_count": 8,
   "metadata": {
    "collapsed": false,
    "id": "AD5D4EF28CFE42E1857F4EB65B935B61",
    "jupyter": {
     "outputs_hidden": false
    },
    "notebookId": "644b7c4749a32aea7f079534",
    "slideshow": {
     "slide_type": "slide"
    },
    "tags": []
   },
   "outputs": [
    {
     "data": {
      "text/markdown": [
       "DenseNet和ResNet是两种常见的现代卷积神经网络架构。它们的主要区别在于跨层连接的方式。ResNet使用简单的相加来连接跨层，而DenseNet使用连结来实现更加复杂的连接。因此，DenseNet的输出是连接，而ResNet的输出是相加。这种区别在输出方式上导致了DenseNet可以处理更加复杂的输入序列，并在实际应用中取得了更好的性能。"
      ],
      "text/plain": [
       "<IPython.core.display.Markdown object>"
      ]
     },
     "metadata": {},
     "output_type": "display_data"
    },
    {
     "data": {
      "text/plain": [
       "[Document(page_content=' . . . . . . . . . 287 7.7 稠密连接⽹络（DenseNet） . . . . . . . . . . . . . . . . . . . . . . . . . . . . . . . . . . . 288 7.7.1 从ResNet到DenseNet . . . . . . . . . . . . . . . . . . . . . . . . . . . . . . . . . . 288 7.7.2 稠密块体 . . . . . . . . . . . . .', metadata={'source': '/home/mw/project/d2l-zh-pytorch-2.0.0.pdf', 'score': 506.56848}),\n",
       " Document(page_content='加上第⼀个7 (cid:2) 7卷积层和最后⼀个全连接层，共 有18层。因此，这种模型通常被称为ResNet-18。通过配置不同的通道数和模块⾥的残差块数可以得到不同 的ResNet模型，例如更深的含152层的ResNet-152。虽然ResNet的主体架构跟GoogLeNet类似，但ResNet架 构更简单，修改也更⽅便。这些因素都导致了ResNet迅速被⼴泛使⽤。图7.6.4描述了完整的ResNet-18。  7.6.', metadata={'source': '/home/mw/project/d2l-zh-pytorch-2.0.0.pdf', 'score': 467.8377}),\n",
       " Document(page_content='⼀种⽅案便是DenseNet。  96 https://discuss.d2l.ai/t/1877  288  7. 现代卷积神经⽹络  图7.7.1: ResNet（左）与 DenseNet（右）在跨层连接上的主要区别：使⽤相加和使⽤连结。  如 图7.7.1所⽰，ResNet和DenseNet的关键区别在于，DenseNet输出是连接（⽤图中的[; ]表⽰）⽽不是 如ResNet的简单相加。因此，在应⽤越来越复杂的函数序列后，我们执⾏从x到其展开式的映射：  x ! [x; f1(x); f2([x; f1(x)]); f3([x; f1(x); f2([x;', metadata={'source': '/home/mw/project/d2l-zh-pytorch-2.0.0.pdf', 'score': 406.93942})]"
      ]
     },
     "metadata": {},
     "output_type": "execute_result"
    }
   ],
   "source": [
    "# 多轮对话\n",
    "resp, history = display_answer(local_doc_qa, query=\"它与ResNet的关键区别是什么？\", vs_path=vs_path, history=history)\n",
    "resp[\"source_documents\"]"
   ]
  },
  {
   "cell_type": "code",
   "execution_count": null,
   "metadata": {
    "collapsed": false,
    "id": "B53529438F034BE783FA1D2B71E70DBD",
    "jupyter": {
     "outputs_hidden": false
    },
    "notebookId": "644b7c4749a32aea7f079534",
    "slideshow": {
     "slide_type": "slide"
    },
    "tags": []
   },
   "outputs": [],
   "source": []
  }
 ],
 "metadata": {
  "kernelspec": {
   "display_name": "Python 3 (ipykernel)",
   "language": "python",
   "name": "python3"
  },
  "language_info": {
   "codemirror_mode": {
    "name": "ipython",
    "version": 3
   },
   "file_extension": ".py",
   "mimetype": "text/x-python",
   "name": "python",
   "nbconvert_exporter": "python",
   "pygments_lexer": "ipython3",
   "version": "3.8.10"
  }
 },
 "nbformat": 4,
 "nbformat_minor": 4
}
